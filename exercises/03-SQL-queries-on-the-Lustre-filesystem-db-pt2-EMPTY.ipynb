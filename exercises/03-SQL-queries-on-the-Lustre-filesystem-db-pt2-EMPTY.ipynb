{
 "cells": [
  {
   "cell_type": "markdown",
   "metadata": {},
   "source": [
    "The ESC403 cluster comes with [Catherine Devlin's `%sql`-magic for IPython][1]; this allows you to run SQL queries from the IPython notebook, and intermix them with Python code.\n",
    "\n",
    "[1]: https://github.com/catherinedevlin/ipython-sql"
   ]
  },
  {
   "cell_type": "markdown",
   "metadata": {},
   "source": [
    "Before we can use the `%sql` syntax, two steps must be taken:\n",
    "\n",
    "* Load the IPython-SQL bridge code"
   ]
  },
  {
   "cell_type": "code",
   "execution_count": 1,
   "metadata": {
    "collapsed": false
   },
   "outputs": [],
   "source": [
    "%load_ext sql\n"
   ]
  },
  {
   "cell_type": "markdown",
   "metadata": {},
   "source": [
    "* Connect to an actual database; this must be the first `%sql` statement (the funny `rmurri@/lustre` syntax is correct and means \"connect to the PostGreSQL DB named `lustre` running on *this* host as user `rmurri`\"  -- please replace `rmurri` with your local user name):"
   ]
  },
  {
   "cell_type": "code",
   "execution_count": 2,
   "metadata": {
    "collapsed": false
   },
   "outputs": [
    {
     "data": {
      "text/plain": [
       "u'Connected: mivkov@lustre'"
      ]
     },
     "execution_count": 2,
     "metadata": {},
     "output_type": "execute_result"
    }
   ],
   "source": [
    "%sql postgresql://mivkov@/lustre\n"
   ]
  },
  {
   "cell_type": "markdown",
   "metadata": {},
   "source": [
    "Now you can run 1-line SQL queries by prefixing them with `%sql`:"
   ]
  },
  {
   "cell_type": "code",
   "execution_count": 3,
   "metadata": {
    "collapsed": false,
    "scrolled": true
   },
   "outputs": [
    {
     "name": "stdout",
     "output_type": "stream",
     "text": [
      "5 rows affected.\n"
     ]
    },
    {
     "data": {
      "text/html": [
       "<table>\n",
       "    <tr>\n",
       "        <th>usr</th>\n",
       "        <th>grp</th>\n",
       "        <th>atime</th>\n",
       "        <th>mtime</th>\n",
       "        <th>blksize</th>\n",
       "        <th>size</th>\n",
       "        <th>path</th>\n",
       "    </tr>\n",
       "    <tr>\n",
       "        <td>usr388</td>\n",
       "        <td>i5105</td>\n",
       "        <td>1384452271</td>\n",
       "        <td>1384452271</td>\n",
       "        <td>4</td>\n",
       "        <td>2203</td>\n",
       "        <td>/scratch/bioc/usr388/VS_AllNow_libo_3WAT/ledock_pose/LIBO00170060_dock014.pdb</td>\n",
       "    </tr>\n",
       "    <tr>\n",
       "        <td>usr388</td>\n",
       "        <td>i5105</td>\n",
       "        <td>1384452311</td>\n",
       "        <td>1384452311</td>\n",
       "        <td>4</td>\n",
       "        <td>1708</td>\n",
       "        <td>/scratch/bioc/usr388/VS_AllNow_libo_3WAT/ledock_pose/LIBO00171011_dock014.pdb</td>\n",
       "    </tr>\n",
       "    <tr>\n",
       "        <td>usr388</td>\n",
       "        <td>i5105</td>\n",
       "        <td>1384452490</td>\n",
       "        <td>1384452490</td>\n",
       "        <td>4</td>\n",
       "        <td>1213</td>\n",
       "        <td>/scratch/bioc/usr388/VS_AllNow_libo_3WAT/ledock_pose/LIBO00174084_dock006.pdb</td>\n",
       "    </tr>\n",
       "    <tr>\n",
       "        <td>usr388</td>\n",
       "        <td>i5105</td>\n",
       "        <td>1384452674</td>\n",
       "        <td>1384452674</td>\n",
       "        <td>4</td>\n",
       "        <td>1488</td>\n",
       "        <td>/scratch/bioc/usr388/VS_AllNow_libo_3WAT/ledock_pose/LIBO00179374_dock004.pdb</td>\n",
       "    </tr>\n",
       "    <tr>\n",
       "        <td>usr388</td>\n",
       "        <td>i5105</td>\n",
       "        <td>1384453267</td>\n",
       "        <td>1384453267</td>\n",
       "        <td>4</td>\n",
       "        <td>1708</td>\n",
       "        <td>/scratch/bioc/usr388/VS_AllNow_libo_3WAT/ledock_pose/LIBO00205410_dock007.pdb</td>\n",
       "    </tr>\n",
       "</table>"
      ],
      "text/plain": [
       "[(u'usr388', u'i5105', 1384452271, 1384452271, 4, 2203L, u'/scratch/bioc/usr388/VS_AllNow_libo_3WAT/ledock_pose/LIBO00170060_dock014.pdb'),\n",
       " (u'usr388', u'i5105', 1384452311, 1384452311, 4, 1708L, u'/scratch/bioc/usr388/VS_AllNow_libo_3WAT/ledock_pose/LIBO00171011_dock014.pdb'),\n",
       " (u'usr388', u'i5105', 1384452490, 1384452490, 4, 1213L, u'/scratch/bioc/usr388/VS_AllNow_libo_3WAT/ledock_pose/LIBO00174084_dock006.pdb'),\n",
       " (u'usr388', u'i5105', 1384452674, 1384452674, 4, 1488L, u'/scratch/bioc/usr388/VS_AllNow_libo_3WAT/ledock_pose/LIBO00179374_dock004.pdb'),\n",
       " (u'usr388', u'i5105', 1384453267, 1384453267, 4, 1708L, u'/scratch/bioc/usr388/VS_AllNow_libo_3WAT/ledock_pose/LIBO00205410_dock007.pdb')]"
      ]
     },
     "execution_count": 3,
     "metadata": {},
     "output_type": "execute_result"
    }
   ],
   "source": [
    "%sql select * from lustre limit 5;"
   ]
  },
  {
   "cell_type": "markdown",
   "metadata": {},
   "source": [
    "It is also possible to run multi-line (or multiple) SQL queries by using the `%%sql` syntax instead.  Note that in this case the SQL instructions *must not* be on the same line as the `%%sql` magic marker:"
   ]
  },
  {
   "cell_type": "code",
   "execution_count": null,
   "metadata": {
    "collapsed": false
   },
   "outputs": [],
   "source": [
    "%%sql\n",
    "select count(*) from lustre;\n",
    "select distinct count(usr) from lustre;\n",
    "select distinct count(grp) from lustre;"
   ]
  },
  {
   "cell_type": "markdown",
   "metadata": {},
   "source": [
    "The `%%time` magic prints the time taken to evaluate a cell (which comes handy when doing performance comparisons):"
   ]
  },
  {
   "cell_type": "code",
   "execution_count": null,
   "metadata": {
    "collapsed": false
   },
   "outputs": [],
   "source": [
    "%%time\n",
    "\n",
    "import time\n",
    "time.sleep(5)"
   ]
  },
  {
   "cell_type": "markdown",
   "metadata": {},
   "source": [
    "----"
   ]
  },
  {
   "cell_type": "markdown",
   "metadata": {},
   "source": [
    "**Note:** to keep running times low, we will be using table `lustre_sample` throughout, which contains a sample of 5% the rows of the original `lustre` table."
   ]
  },
  {
   "cell_type": "markdown",
   "metadata": {},
   "source": [
    "## 1. Is it possible to convert fields atime and mtime to PostgreSQL's TIMESTAMP type?"
   ]
  },
  {
   "cell_type": "markdown",
   "metadata": {},
   "source": [
    "Yes, it *is* possible to alter a SQL table definition after the table has been created.  Look at the documentation for the [ALTER TABLE](https://www.tutorialspoint.com/sql/sql-alter-command.htm) statement.\n",
    "\n",
    "We shall break this down into steps: (1) create a new table, (2) populate it, then (3) alter the definition and (4) fill the new column with values."
   ]
  },
  {
   "cell_type": "code",
   "execution_count": 14,
   "metadata": {
    "collapsed": false
   },
   "outputs": [
    {
     "name": "stdout",
     "output_type": "stream",
     "text": [
      "Done.\n"
     ]
    },
    {
     "data": {
      "text/plain": [
       "[]"
      ]
     },
     "execution_count": 14,
     "metadata": {},
     "output_type": "execute_result"
    }
   ],
   "source": [
    "# delete table before making another one with same name\n",
    "%sql drop table mytable"
   ]
  },
  {
   "cell_type": "code",
   "execution_count": 15,
   "metadata": {
    "collapsed": false
   },
   "outputs": [
    {
     "name": "stdout",
     "output_type": "stream",
     "text": [
      "Done.\n"
     ]
    },
    {
     "data": {
      "text/plain": [
       "[]"
      ]
     },
     "execution_count": 15,
     "metadata": {},
     "output_type": "execute_result"
    }
   ],
   "source": [
    "%%sql\n",
    "\n",
    "/*  create table */ \n",
    "\n",
    "create temporary table mytable (\n",
    "                      path varchar(256),\n",
    "                      size BIGINT, \n",
    "                      mtime BIGINT );"
   ]
  },
  {
   "cell_type": "code",
   "execution_count": 16,
   "metadata": {
    "collapsed": false
   },
   "outputs": [
    {
     "name": "stdout",
     "output_type": "stream",
     "text": [
      "1519053 rows affected.\n"
     ]
    },
    {
     "data": {
      "text/plain": [
       "[]"
      ]
     },
     "execution_count": 16,
     "metadata": {},
     "output_type": "execute_result"
    }
   ],
   "source": [
    "%%sql\n",
    "\n",
    "/* copy values into it */\n",
    "\n",
    "insert into mytable(path,size,mtime)\n",
    "select path,size,mtime from lustre_sample;"
   ]
  },
  {
   "cell_type": "code",
   "execution_count": 17,
   "metadata": {
    "collapsed": false
   },
   "outputs": [
    {
     "name": "stdout",
     "output_type": "stream",
     "text": [
      "Done.\n"
     ]
    },
    {
     "data": {
      "text/plain": [
       "[]"
      ]
     },
     "execution_count": 17,
     "metadata": {},
     "output_type": "execute_result"
    }
   ],
   "source": [
    "# (3) alter table definition: add new columns for \"access time\" using the TIMESTAMP type\n",
    "%sql alter table mytable add atime timestamp;\n",
    "#%sql alter table mytable add atime bigint;"
   ]
  },
  {
   "cell_type": "code",
   "execution_count": 19,
   "metadata": {
    "collapsed": false
   },
   "outputs": [
    {
     "name": "stdout",
     "output_type": "stream",
     "text": [
      "1519053 rows affected.\n"
     ]
    },
    {
     "data": {
      "text/plain": [
       "[]"
      ]
     },
     "execution_count": 19,
     "metadata": {},
     "output_type": "execute_result"
    }
   ],
   "source": [
    "%%sql\n",
    "\n",
    "-- populate additional column\n",
    "\n",
    "update mytable\n",
    "set atime=to_timestamp(orig.atime) from lustre_sample as orig\n",
    "where mytable.path=orig.path;\n",
    "\n"
   ]
  },
  {
   "cell_type": "markdown",
   "metadata": {},
   "source": [
    "Show some data from the table we created::"
   ]
  },
  {
   "cell_type": "code",
   "execution_count": 20,
   "metadata": {
    "collapsed": false,
    "scrolled": true
   },
   "outputs": [
    {
     "name": "stdout",
     "output_type": "stream",
     "text": [
      "5 rows affected.\n"
     ]
    },
    {
     "data": {
      "text/html": [
       "<table>\n",
       "    <tr>\n",
       "        <th>path</th>\n",
       "        <th>size</th>\n",
       "        <th>mtime</th>\n",
       "        <th>atime</th>\n",
       "    </tr>\n",
       "    <tr>\n",
       "        <td>/scratch/econ/usr357/sp/job600_7.sh</td>\n",
       "        <td>496</td>\n",
       "        <td>1351160127</td>\n",
       "        <td>2012-10-25 10:15:27</td>\n",
       "    </tr>\n",
       "    <tr>\n",
       "        <td>/scratch/pci/usr394/lib/cp2k/POTENTIAL</td>\n",
       "        <td>73903</td>\n",
       "        <td>1385110050</td>\n",
       "        <td>2013-11-22 08:47:30</td>\n",
       "    </tr>\n",
       "    <tr>\n",
       "        <td>/scratch/econ/fsl/fsl/src/fdt/facalc</td>\n",
       "        <td>5580</td>\n",
       "        <td>1349084113</td>\n",
       "        <td>2012-11-13 19:50:45</td>\n",
       "    </tr>\n",
       "    <tr>\n",
       "        <td>/scratch/econ/fsl/fsl/bin/std2imgcoord</td>\n",
       "        <td>2630446</td>\n",
       "        <td>1349088426</td>\n",
       "        <td>2012-11-13 19:50:21</td>\n",
       "    </tr>\n",
       "    <tr>\n",
       "        <td>/scratch/iftp/usr264/sphydro/output_00044/part_00044.out00046</td>\n",
       "        <td>1272</td>\n",
       "        <td>1343118217</td>\n",
       "        <td>2012-07-24 08:23:37</td>\n",
       "    </tr>\n",
       "</table>"
      ],
      "text/plain": [
       "[(u'/scratch/econ/usr357/sp/job600_7.sh', 496L, 1351160127L, datetime.datetime(2012, 10, 25, 10, 15, 27)),\n",
       " (u'/scratch/pci/usr394/lib/cp2k/POTENTIAL', 73903L, 1385110050L, datetime.datetime(2013, 11, 22, 8, 47, 30)),\n",
       " (u'/scratch/econ/fsl/fsl/src/fdt/facalc', 5580L, 1349084113L, datetime.datetime(2012, 11, 13, 19, 50, 45)),\n",
       " (u'/scratch/econ/fsl/fsl/bin/std2imgcoord', 2630446L, 1349088426L, datetime.datetime(2012, 11, 13, 19, 50, 21)),\n",
       " (u'/scratch/iftp/usr264/sphydro/output_00044/part_00044.out00046', 1272L, 1343118217L, datetime.datetime(2012, 7, 24, 8, 23, 37))]"
      ]
     },
     "execution_count": 20,
     "metadata": {},
     "output_type": "execute_result"
    }
   ],
   "source": [
    "%%sql\n",
    "select * from mytable\n",
    "limit 5"
   ]
  },
  {
   "cell_type": "markdown",
   "metadata": {},
   "source": [
    "## 2. Can you count the number of files in a given directory?"
   ]
  },
  {
   "cell_type": "markdown",
   "metadata": {},
   "source": [
    "Yes, using SQL's `like` string matching operator, which allows any\n",
    "part of a string to be matched by the `%` character (i.e., just like\n",
    "`*` for file names)::"
   ]
  },
  {
   "cell_type": "code",
   "execution_count": 23,
   "metadata": {
    "collapsed": false
   },
   "outputs": [
    {
     "name": "stdout",
     "output_type": "stream",
     "text": [
      "1 rows affected.\n"
     ]
    },
    {
     "data": {
      "text/html": [
       "<table>\n",
       "    <tr>\n",
       "        <th>count</th>\n",
       "    </tr>\n",
       "    <tr>\n",
       "        <td>32596</td>\n",
       "    </tr>\n",
       "</table>"
      ],
      "text/plain": [
       "[(32596L,)]"
      ]
     },
     "execution_count": 23,
     "metadata": {},
     "output_type": "execute_result"
    }
   ],
   "source": [
    "%%sql\n",
    "select count(path) from lustre_sample\n",
    "where path like '/scratch/econ/%'; -- <-- insert directory name here"
   ]
  },
  {
   "cell_type": "markdown",
   "metadata": {},
   "source": [
    "## 3. Can you find the directory that holds the largest number of files? "
   ]
  },
  {
   "cell_type": "code",
   "execution_count": 100,
   "metadata": {
    "collapsed": false
   },
   "outputs": [
    {
     "name": "stdout",
     "output_type": "stream",
     "text": [
      "(psycopg2.ProgrammingError) relation \"testing\" already exists\n",
      " [SQL: 'create temporary table testing(path varchar(256));']\n"
     ]
    }
   ],
   "source": [
    "%%sql\n",
    "create temporary table testing(path varchar(256));\n"
   ]
  },
  {
   "cell_type": "code",
   "execution_count": 26,
   "metadata": {
    "collapsed": false
   },
   "outputs": [
    {
     "name": "stdout",
     "output_type": "stream",
     "text": [
      "1 rows affected.\n",
      "1 rows affected.\n"
     ]
    },
    {
     "data": {
      "text/html": [
       "<table>\n",
       "    <tr>\n",
       "        <th>path</th>\n",
       "    </tr>\n",
       "    <tr>\n",
       "        <td>/scratch/bioc/usr388/Vina_5wat/out/ZINC72133399_out.pdbqt</td>\n",
       "    </tr>\n",
       "</table>"
      ],
      "text/plain": [
       "[(u'/scratch/bioc/usr388/Vina_5wat/out/ZINC72133399_out.pdbqt',)]"
      ]
     },
     "execution_count": 26,
     "metadata": {},
     "output_type": "execute_result"
    }
   ],
   "source": [
    "%%sql\n",
    "insert into testing (path)\n",
    "select path from lustre_sample limit 1;\n",
    "select * from testing limit 2;"
   ]
  },
  {
   "cell_type": "code",
   "execution_count": 101,
   "metadata": {
    "collapsed": false
   },
   "outputs": [
    {
     "name": "stdout",
     "output_type": "stream",
     "text": [
      "1 rows affected.\n"
     ]
    },
    {
     "data": {
      "text/html": [
       "<table>\n",
       "    <tr>\n",
       "        <th>regexp_matches</th>\n",
       "    </tr>\n",
       "    <tr>\n",
       "        <td>[u'/scratch/']</td>\n",
       "    </tr>\n",
       "</table>"
      ],
      "text/plain": [
       "[([u'/scratch/'],)]"
      ]
     },
     "execution_count": 101,
     "metadata": {},
     "output_type": "execute_result"
    }
   ],
   "source": [
    "%%sql\n",
    "select regexp_matches(testing.path,'(\\/.*?/)[^/]*?\\.\\S*') from testing\n"
   ]
  },
  {
   "cell_type": "code",
   "execution_count": 110,
   "metadata": {
    "collapsed": false
   },
   "outputs": [
    {
     "name": "stdout",
     "output_type": "stream",
     "text": [
      "7 rows affected.\n"
     ]
    },
    {
     "data": {
      "text/html": [
       "<table>\n",
       "    <tr>\n",
       "        <th>regexp_split_to_table</th>\n",
       "    </tr>\n",
       "    <tr>\n",
       "        <td></td>\n",
       "    </tr>\n",
       "    <tr>\n",
       "        <td>scratch</td>\n",
       "    </tr>\n",
       "    <tr>\n",
       "        <td>bioc</td>\n",
       "    </tr>\n",
       "    <tr>\n",
       "        <td>usr388</td>\n",
       "    </tr>\n",
       "    <tr>\n",
       "        <td>Vina_5wat</td>\n",
       "    </tr>\n",
       "    <tr>\n",
       "        <td>out</td>\n",
       "    </tr>\n",
       "    <tr>\n",
       "        <td>ZINC72133399_out.pdbqt</td>\n",
       "    </tr>\n",
       "</table>"
      ],
      "text/plain": [
       "[(u'',),\n",
       " (u'scratch',),\n",
       " (u'bioc',),\n",
       " (u'usr388',),\n",
       " (u'Vina_5wat',),\n",
       " (u'out',),\n",
       " (u'ZINC72133399_out.pdbqt',)]"
      ]
     },
     "execution_count": 110,
     "metadata": {},
     "output_type": "execute_result"
    }
   ],
   "source": [
    "%%sql\n",
    "select regexp_split_to_table(testing.path,'/*/') from testing\n",
    "--select regexp_matches(testing.path,'/*/') from testing;\n"
   ]
  },
  {
   "cell_type": "code",
   "execution_count": 111,
   "metadata": {
    "collapsed": false
   },
   "outputs": [
    {
     "name": "stdout",
     "output_type": "stream",
     "text": [
      "(psycopg2.ProgrammingError) function regexp_maches(character varying, unknown) does not exist\n",
      "LINE 2: where path like regexp_maches(testing.path,'/*/')\n",
      "                        ^\n",
      "HINT:  No function matches the given name and argument types. You might need to add explicit type casts.\n",
      " [SQL: \"select count(path) from testing\\nwhere path like regexp_maches(testing.path,'/*/')\"]\n"
     ]
    }
   ],
   "source": [
    "%%sql\n",
    "select count(path) from testing\n",
    "where path like regexp_maches(testing.path,'/*/')"
   ]
  },
  {
   "cell_type": "markdown",
   "metadata": {},
   "source": [
    "## 4. Can you find the directory tree that holds the largest number of files?"
   ]
  },
  {
   "cell_type": "markdown",
   "metadata": {
    "collapsed": true
   },
   "source": [
    "Yes or no? *(and why?)*\n",
    "No, I can't. I cant figure out how to separate directories from filenames and use them as search/count criterions.\n"
   ]
  },
  {
   "cell_type": "code",
   "execution_count": null,
   "metadata": {
    "collapsed": true
   },
   "outputs": [],
   "source": []
  }
 ],
 "metadata": {
  "kernelspec": {
   "display_name": "Python 2",
   "language": "python",
   "name": "python2"
  },
  "language_info": {
   "codemirror_mode": {
    "name": "ipython",
    "version": 2
   },
   "file_extension": ".py",
   "mimetype": "text/x-python",
   "name": "python",
   "nbconvert_exporter": "python",
   "pygments_lexer": "ipython2",
   "version": "2.7.13"
  }
 },
 "nbformat": 4,
 "nbformat_minor": 0
}
