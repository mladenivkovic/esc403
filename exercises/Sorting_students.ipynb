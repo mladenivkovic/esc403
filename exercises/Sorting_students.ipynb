{
 "cells": [
  {
   "cell_type": "markdown",
   "metadata": {
    "collapsed": true
   },
   "source": [
    "#   Big Data\n",
    "## Algorithms: Sorting, Recursion and Data Structures\n",
    "## Victor P. Debattista March 2017\n",
    "\n",
    "\n",
    "We are going to start with a very simple exercise in recursion just to get used to it, then implement a couple of sorting algorithms, one O(n$^2$) and one O(n log n)"
   ]
  },
  {
   "cell_type": "code",
   "execution_count": 108,
   "metadata": {
    "collapsed": false
   },
   "outputs": [],
   "source": [
    "import numpy as np\n",
    "import math\n",
    "import random\n",
    "import time"
   ]
  },
  {
   "cell_type": "markdown",
   "metadata": {},
   "source": [
    "Write a function that computes the n$^{th}$ Fibonacci number if $(F_0,F_1) = (1,1)$.  By definition a Fibonacci number is one such that $F_n = F_{n-1} + F_{n-2}$. You should use recursion to solve this problem, not a loop.\n",
    "Print the first 10 Fibonacci numbers."
   ]
  },
  {
   "cell_type": "code",
   "execution_count": null,
   "metadata": {
    "collapsed": true
   },
   "outputs": [],
   "source": []
  },
  {
   "cell_type": "markdown",
   "metadata": {},
   "source": [
    "Let us start exploring sorting. In the first step we want to create a list of N numbers which we will use as our list for sorting"
   ]
  },
  {
   "cell_type": "code",
   "execution_count": null,
   "metadata": {
    "collapsed": true
   },
   "outputs": [],
   "source": []
  },
  {
   "cell_type": "markdown",
   "metadata": {},
   "source": [
    "Our first sorting algorithm is the insertion sort.  How would you sort the list data into another list, data2, using the insertion sort?  (We want to use a second list so we preserve our original list.  Note that swapping in Python is done easily via tuples:\n",
    "(A,B) = (B,A)\n",
    "with no need for temporary variables.)  Calculate how long this took to run."
   ]
  },
  {
   "cell_type": "code",
   "execution_count": null,
   "metadata": {
    "collapsed": true
   },
   "outputs": [],
   "source": []
  },
  {
   "cell_type": "markdown",
   "metadata": {},
   "source": [
    "In the next part we will develop the functionality of a heap.  Write a recursive function that, given a list arr, sifts up element k ensuring that a heap structure is obtained.  The function should return the list back.  Be careful with index of the parent, it must work for both daughter nodes."
   ]
  },
  {
   "cell_type": "code",
   "execution_count": null,
   "metadata": {
    "collapsed": true
   },
   "outputs": [],
   "source": []
  },
  {
   "cell_type": "markdown",
   "metadata": {},
   "source": [
    "Next write a function that, given a list arr, filled to element k, inserts (pushes) a new element N to it, preserving the heap structure.  So this will need to use your sift function from above."
   ]
  },
  {
   "cell_type": "code",
   "execution_count": null,
   "metadata": {
    "collapsed": true
   },
   "outputs": [],
   "source": []
  },
  {
   "cell_type": "markdown",
   "metadata": {},
   "source": [
    "With these two functions, given a list of numbers, turn it into a heap by building a function heapify.  This should work by pushing every element of a list onto the heap."
   ]
  },
  {
   "cell_type": "code",
   "execution_count": null,
   "metadata": {
    "collapsed": true
   },
   "outputs": [],
   "source": []
  },
  {
   "cell_type": "markdown",
   "metadata": {
    "collapsed": true
   },
   "source": [
    "Now write a function to sift down for when we pop the maximum value off.  This is a recursive function.  Be careful about having 0 or 1 daughters and that sifting down always involve a swap with the larger of the two daughters if 2 exist."
   ]
  },
  {
   "cell_type": "code",
   "execution_count": null,
   "metadata": {
    "collapsed": true
   },
   "outputs": [],
   "source": []
  },
  {
   "cell_type": "markdown",
   "metadata": {},
   "source": [
    "Now add a function to pop the maximum value.  Remember that when popping the root, it will be replaced by the furthest leaf, which is then sifted down.  Return both the heap and its size."
   ]
  },
  {
   "cell_type": "code",
   "execution_count": null,
   "metadata": {
    "collapsed": true
   },
   "outputs": [],
   "source": []
  },
  {
   "cell_type": "markdown",
   "metadata": {},
   "source": [
    "We have all the building blocks in place for a heap sort, so let's write that next.  We start by creating the heap, then repeatedly popping the heap, placing the popped items at the tail of the list that holds the heap.  I.e. we are going to sort the list in place, needing no extra storage."
   ]
  },
  {
   "cell_type": "code",
   "execution_count": null,
   "metadata": {
    "collapsed": true
   },
   "outputs": [],
   "source": []
  },
  {
   "cell_type": "markdown",
   "metadata": {},
   "source": [
    "Let's now do a bin sort.  Now we're going to be a bit looser with this and directly use some of Python's sorting methods.  Start by writing a simple function that, given a value which is within a given range [lo,hi], finds the bin to place the element into if there are N bins.  If the value is out of range some flag value should be returned."
   ]
  },
  {
   "cell_type": "code",
   "execution_count": null,
   "metadata": {
    "collapsed": true
   },
   "outputs": [],
   "source": []
  },
  {
   "cell_type": "markdown",
   "metadata": {
    "collapsed": true
   },
   "source": [
    "In this final step we do a bin sort.  This is a bit more complicated.  The way to do this is to have a list of lists.  You can directly use Python's .sort method for lists, since this is purely illustrative.  Or you can use your heapsort from before if your code was general enough."
   ]
  },
  {
   "cell_type": "code",
   "execution_count": null,
   "metadata": {
    "collapsed": true
   },
   "outputs": [],
   "source": []
  },
  {
   "cell_type": "markdown",
   "metadata": {
    "collapsed": true
   },
   "source": [
    "Consider the quicksort.  Suppose it is given a sorted list.  If the pivot is always the leftmost value, what happens?  Suggest a solution.  You do not need to code this up."
   ]
  }
 ],
 "metadata": {
  "anaconda-cloud": {},
  "kernelspec": {
   "display_name": "Python [default]",
   "language": "python",
   "name": "python3"
  },
  "language_info": {
   "codemirror_mode": {
    "name": "ipython",
    "version": 3
   },
   "file_extension": ".py",
   "mimetype": "text/x-python",
   "name": "python",
   "nbconvert_exporter": "python",
   "pygments_lexer": "ipython3",
   "version": "3.5.2"
  }
 },
 "nbformat": 4,
 "nbformat_minor": 1
}

