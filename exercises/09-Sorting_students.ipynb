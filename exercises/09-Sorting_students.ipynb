{
 "cells": [
  {
   "cell_type": "markdown",
   "metadata": {
    "collapsed": true
   },
   "source": [
    "#   Big Data\n",
    "## Algorithms: Sorting, Recursion and Data Structures\n",
    "## Victor P. Debattista March 2017\n",
    "\n",
    "\n",
    "We are going to start with a very simple exercise in recursion just to get used to it, then implement a couple of sorting algorithms, one O(n$^2$) and one O(n log n)"
   ]
  },
  {
   "cell_type": "code",
   "execution_count": 1,
   "metadata": {
    "collapsed": false
   },
   "outputs": [],
   "source": [
    "import numpy as np\n",
    "import math\n",
    "import random\n",
    "import time"
   ]
  },
  {
   "cell_type": "markdown",
   "metadata": {},
   "source": [
    "Write a function that computes the n$^{th}$ Fibonacci number if $(F_0,F_1) = (1,1)$.  By definition a Fibonacci number is one such that $F_n = F_{n-1} + F_{n-2}$. You should use recursion to solve this problem, not a loop.\n",
    "Print the first 10 Fibonacci numbers."
   ]
  },
  {
   "cell_type": "code",
   "execution_count": 26,
   "metadata": {
    "collapsed": false
   },
   "outputs": [],
   "source": [
    "def fibonacci(a, m=1,n=1):\n",
    "    if a==0:\n",
    "        print m\n",
    "        return m, n\n",
    "    else:\n",
    "        m,n = fibonacci(a-1,m,n)\n",
    "        print n\n",
    "        return n, n+m"
   ]
  },
  {
   "cell_type": "code",
   "execution_count": 27,
   "metadata": {
    "collapsed": false
   },
   "outputs": [
    {
     "name": "stdout",
     "output_type": "stream",
     "text": [
      "1\n",
      "1\n",
      "2\n",
      "3\n",
      "5\n",
      "8\n",
      "13\n",
      "21\n",
      "34\n",
      "55\n",
      "89\n"
     ]
    },
    {
     "data": {
      "text/plain": [
       "(89, 144)"
      ]
     },
     "execution_count": 27,
     "metadata": {},
     "output_type": "execute_result"
    }
   ],
   "source": [
    "fibonacci(10)"
   ]
  },
  {
   "cell_type": "markdown",
   "metadata": {},
   "source": [
    "Let us start exploring sorting. In the first step we want to create a list of N numbers which we will use as our list for sorting"
   ]
  },
  {
   "cell_type": "code",
   "execution_count": 104,
   "metadata": {
    "collapsed": false
   },
   "outputs": [
    {
     "name": "stdout",
     "output_type": "stream",
     "text": [
      "[37, 62, 32, 71, 77, 22, 80, 17, 26, 64, 9, 31, 61, 28, 58, 65, 88, 70, 90, 67]\n"
     ]
    }
   ],
   "source": [
    "N=20\n",
    "data = [random.randint(0,100) for i in range(N)]\n",
    "print data"
   ]
  },
  {
   "cell_type": "markdown",
   "metadata": {},
   "source": [
    "Our first sorting algorithm is the insertion sort.  How would you sort the list data into another list, data2, using the insertion sort?  (We want to use a second list so we preserve our original list.  Note that swapping in Python is done easily via tuples:\n",
    "(A,B) = (B,A)\n",
    "with no need for temporary variables.)  Calculate how long this took to run."
   ]
  },
  {
   "cell_type": "code",
   "execution_count": 123,
   "metadata": {
    "collapsed": false
   },
   "outputs": [],
   "source": [
    "def insertion_sort(data):\n",
    "    somelist = data[:]   # create a copy\n",
    "    N = len(somelist)\n",
    "    \n",
    "    for i in range(1,N):\n",
    "\n",
    "        value = somelist[i]\n",
    "        \n",
    "        if value < somelist[i-1]:   # if needs moving, find where to move to\n",
    "            \n",
    "            j = i-1\n",
    "            \n",
    "            while somelist[j] > value and j > 0:\n",
    "                j-=1  \n",
    "\n",
    "            for k in range(i,j,-1):\n",
    "                somelist[k] = somelist[k-1]\n",
    "            \n",
    "            if j > 0 :\n",
    "                somelist[j+1] = value           # j is the position of the first element in list that is smaller\n",
    "            else:\n",
    "                somelist[0] = value             # if there is no element that is smaller\n",
    "    \n",
    "    \n",
    "    return somelist[:]\n"
   ]
  },
  {
   "cell_type": "code",
   "execution_count": 127,
   "metadata": {
    "collapsed": false
   },
   "outputs": [
    {
     "name": "stdout",
     "output_type": "stream",
     "text": [
      "CPU times: user 0 ns, sys: 0 ns, total: 0 ns\n",
      "Wall time: 29.1 µs\n"
     ]
    }
   ],
   "source": [
    "%time insort=insertion_sort(data)\n"
   ]
  },
  {
   "cell_type": "code",
   "execution_count": 136,
   "metadata": {
    "collapsed": false
   },
   "outputs": [
    {
     "name": "stdout",
     "output_type": "stream",
     "text": [
      "before [37, 62, 32, 71, 77, 22, 80, 17, 26, 64, 9, 31, 61, 28, 58, 65, 88, 70, 90, 67]\n",
      "after  [9, 17, 22, 26, 28, 31, 32, 37, 58, 61, 62, 64, 65, 67, 70, 71, 77, 80, 88, 90]\n"
     ]
    }
   ],
   "source": [
    "print \"before\", data\n",
    "\n",
    "\n",
    "print \"after \", insort"
   ]
  },
  {
   "cell_type": "markdown",
   "metadata": {},
   "source": [
    "In the next part we will develop the functionality of a heap.  Write a recursive function that, given a list arr, sifts up element k ensuring that a heap structure is obtained.  The function should return the list back.  Be careful with index of the parent, it must work for both daughter nodes."
   ]
  },
  {
   "cell_type": "code",
   "execution_count": 230,
   "metadata": {
    "collapsed": false
   },
   "outputs": [],
   "source": [
    "def sift(arr,i=0,step=0):\n",
    "    # find where there are no daughters left\n",
    "    N = len(arr)\n",
    "    step+=1\n",
    "    \n",
    "#    print\n",
    "#    print \"calling sift for i=\", i, \"step\", step\n",
    "#    print \"parent before\", arr[i], \"children\", arr[2*i+1], arr[2*i+2]\n",
    "    \n",
    "    for k in range(1,3):\n",
    "        if 2*(2*i + k) + 1 < N-1:              # check if daughters have daughters\n",
    "            step,arr=sift(arr,2*i + k,step)    # call recusively for existing daughter; treat daughter as parent\n",
    "    \n",
    "    for j in range(1,3):\n",
    "        if 2*i + j < N:\n",
    "            # check if you need to switch\n",
    "            if arr[i] > arr[2*i + j]:\n",
    "#                print \"switching\",  (arr[i], arr[2*i + j])\n",
    "                (arr[i], arr[2*i + j]) = (arr[2*i + j], arr[i])\n",
    "                \n",
    "                # Go a level deeper again\n",
    "                step,arr=sift(arr,2*i+j,step)\n",
    "                        \n",
    "#    if 2*i + 2 < N:\n",
    "#        print \"parent after\", arr[i], \"children\", arr[2*i+1], arr[2*i+2]\n",
    "    \n",
    "    \n",
    "    return step,arr"
   ]
  },
  {
   "cell_type": "code",
   "execution_count": 223,
   "metadata": {
    "collapsed": false,
    "scrolled": true
   },
   "outputs": [
    {
     "name": "stdout",
     "output_type": "stream",
     "text": [
      "[37, 62, 32, 71, 77, 22, 80, 17, 26, 64, 9, 31, 61, 28, 58, 65, 88, 70, 90, 67]\n",
      "\n",
      "calling sift for i= 0 step 1\n",
      "\n",
      "calling sift for i= 1 step 2\n",
      "\n",
      "calling sift for i= 3 step 3\n",
      "\n",
      "calling sift for i= 7 step 4\n",
      "\n",
      "calling sift for i= 8 step 5\n",
      "\n",
      "calling sift for i= 7 step 6\n",
      "\n",
      "calling sift for i= 15 step 7\n",
      "\n",
      "calling sift for i= 4 step 8\n",
      "\n",
      "calling sift for i= 9 step 9\n",
      "\n",
      "calling sift for i= 19 step 10\n",
      "\n",
      "calling sift for i= 10 step 11\n",
      "\n",
      "calling sift for i= 3 step 12\n",
      "\n",
      "calling sift for i= 7 step 13\n",
      "\n",
      "calling sift for i= 8 step 14\n",
      "\n",
      "calling sift for i= 8 step 15\n",
      "\n",
      "calling sift for i= 4 step 16\n",
      "\n",
      "calling sift for i= 2 step 17\n",
      "\n",
      "calling sift for i= 5 step 18\n",
      "\n",
      "calling sift for i= 6 step 19\n",
      "\n",
      "calling sift for i= 13 step 20\n",
      "\n",
      "calling sift for i= 5 step 21\n",
      "\n",
      "calling sift for i= 11 step 22\n",
      "\n",
      "calling sift for i= 1 step 23\n",
      "\n",
      "calling sift for i= 3 step 24\n",
      "\n",
      "calling sift for i= 7 step 25\n",
      "\n",
      "calling sift for i= 8 step 26\n",
      "\n",
      "calling sift for i= 4 step 27\n",
      "\n",
      "calling sift for i= 3 step 28\n",
      "\n",
      "calling sift for i= 7 step 29\n",
      "\n",
      "calling sift for i= 8 step 30\n",
      "\n",
      "calling sift for i= 4 step 31\n",
      "[9, 17, 22, 37, 26, 31, 28, 65, 62, 67, 64, 32, 61, 80, 58, 71, 88, 70, 90, 77]\n",
      "\n",
      "parent 9 children 17 22\n",
      "parent 17 children 37 26\n",
      "parent 22 children 31 28\n",
      "parent 37 children 65 62\n",
      "parent 26 children 67 64\n",
      "parent 31 children 32 61\n",
      "parent 28 children 80 58\n",
      "parent 65 children 71 88\n",
      "parent 62 children 70 90\n",
      "parent 67 children 77"
     ]
    },
    {
     "ename": "IndexError",
     "evalue": "list index out of range",
     "output_type": "error",
     "traceback": [
      "\u001b[0;31m\u001b[0m",
      "\u001b[0;31mIndexError\u001b[0mTraceback (most recent call last)",
      "\u001b[0;32m<ipython-input-223-31bb71903815>\u001b[0m in \u001b[0;36m<module>\u001b[0;34m()\u001b[0m\n\u001b[1;32m      7\u001b[0m \u001b[0mi\u001b[0m \u001b[0;34m=\u001b[0m \u001b[0;36m0\u001b[0m\u001b[0;34m\u001b[0m\u001b[0m\n\u001b[1;32m      8\u001b[0m \u001b[0;32mwhile\u001b[0m \u001b[0;36m2\u001b[0m\u001b[0;34m*\u001b[0m\u001b[0mi\u001b[0m \u001b[0;34m+\u001b[0m\u001b[0;36m1\u001b[0m \u001b[0;34m<\u001b[0m \u001b[0mN\u001b[0m\u001b[0;34m:\u001b[0m\u001b[0;34m\u001b[0m\u001b[0m\n\u001b[0;32m----> 9\u001b[0;31m     \u001b[0;32mprint\u001b[0m \u001b[0;34m\"parent\"\u001b[0m\u001b[0;34m,\u001b[0m \u001b[0mres\u001b[0m\u001b[0;34m[\u001b[0m\u001b[0mi\u001b[0m\u001b[0;34m]\u001b[0m\u001b[0;34m,\u001b[0m \u001b[0;34m\"children\"\u001b[0m\u001b[0;34m,\u001b[0m \u001b[0mres\u001b[0m\u001b[0;34m[\u001b[0m\u001b[0;36m2\u001b[0m\u001b[0;34m*\u001b[0m\u001b[0mi\u001b[0m \u001b[0;34m+\u001b[0m \u001b[0;36m1\u001b[0m\u001b[0;34m]\u001b[0m\u001b[0;34m,\u001b[0m \u001b[0mres\u001b[0m\u001b[0;34m[\u001b[0m\u001b[0;36m2\u001b[0m\u001b[0;34m*\u001b[0m\u001b[0mi\u001b[0m\u001b[0;34m+\u001b[0m\u001b[0;36m2\u001b[0m\u001b[0;34m]\u001b[0m\u001b[0;34m\u001b[0m\u001b[0m\n\u001b[0m\u001b[1;32m     10\u001b[0m     \u001b[0mi\u001b[0m\u001b[0;34m+=\u001b[0m\u001b[0;36m1\u001b[0m\u001b[0;34m\u001b[0m\u001b[0m\n",
      "\u001b[0;31mIndexError\u001b[0m: list index out of range"
     ]
    }
   ],
   "source": [
    "data3=data[:]\n",
    "print data3\n",
    "s,res=sift(data3)\n",
    "print res\n",
    "\n",
    "print\n",
    "i = 0\n",
    "while 2*i +1 < N:\n",
    "    print \"parent\", res[i], \"children\", res[2*i + 1], res[2*i+2]\n",
    "    i+=1"
   ]
  },
  {
   "cell_type": "markdown",
   "metadata": {},
   "source": [
    "Next write a function that, given a list arr, filled to element k, inserts (pushes) a new element N to it, preserving the heap structure.  So this will need to use your sift function from above."
   ]
  },
  {
   "cell_type": "code",
   "execution_count": 237,
   "metadata": {
    "collapsed": false
   },
   "outputs": [],
   "source": [
    "def heap_append(arr,element):\n",
    "    arr2 = np.zeros( len(arr)+1 )\n",
    "    for i,value in enumerate(arr):\n",
    "        arr2[i] = value\n",
    "    \n",
    "    arr2[len(arr)] = element\n",
    "    step,arr2 = sift(arr2)\n",
    "    return arr2"
   ]
  },
  {
   "cell_type": "code",
   "execution_count": 240,
   "metadata": {
    "collapsed": false
   },
   "outputs": [
    {
     "name": "stdout",
     "output_type": "stream",
     "text": [
      "[37, 62, 32, 71, 77, 22, 80, 17, 26, 64, 9, 31, 61, 28, 58, 65, 88, 70, 90, 67]\n",
      "[9, 17, 22, 37, 26, 31, 28, 65, 62, 67, 64, 32, 61, 80, 58, 71, 88, 70, 90, 77]\n",
      "[  1.   9.  22.  37.  17.  31.  28.  65.  62.  26.  64.  32.  61.  80.  58.\n",
      "  71.  88.  70.  90.  77.  67.]\n"
     ]
    }
   ],
   "source": [
    "data4=data[:]\n",
    "print data4\n",
    "s,res=sift(data4)\n",
    "print res\n",
    "data5=heap_append(data4,1)\n",
    "print data5\n"
   ]
  },
  {
   "cell_type": "markdown",
   "metadata": {},
   "source": [
    "With these two functions, given a list of numbers, turn it into a heap by building a function heapify.  This should work by pushing every element of a list onto the heap."
   ]
  },
  {
   "cell_type": "code",
   "execution_count": null,
   "metadata": {
    "collapsed": true
   },
   "outputs": [],
   "source": []
  },
  {
   "cell_type": "markdown",
   "metadata": {
    "collapsed": true
   },
   "source": [
    "Now write a function to sift down for when we pop the maximum value off.  This is a recursive function.  Be careful about having 0 or 1 daughters and that sifting down always involve a swap with the larger of the two daughters if 2 exist."
   ]
  },
  {
   "cell_type": "code",
   "execution_count": null,
   "metadata": {
    "collapsed": true
   },
   "outputs": [],
   "source": []
  },
  {
   "cell_type": "markdown",
   "metadata": {},
   "source": [
    "Now add a function to pop the maximum value.  Remember that when popping the root, it will be replaced by the furthest leaf, which is then sifted down.  Return both the heap and its size."
   ]
  },
  {
   "cell_type": "code",
   "execution_count": null,
   "metadata": {
    "collapsed": true
   },
   "outputs": [],
   "source": []
  },
  {
   "cell_type": "markdown",
   "metadata": {},
   "source": [
    "We have all the building blocks in place for a heap sort, so let's write that next.  We start by creating the heap, then repeatedly popping the heap, placing the popped items at the tail of the list that holds the heap.  I.e. we are going to sort the list in place, needing no extra storage."
   ]
  },
  {
   "cell_type": "code",
   "execution_count": null,
   "metadata": {
    "collapsed": true
   },
   "outputs": [],
   "source": []
  },
  {
   "cell_type": "markdown",
   "metadata": {},
   "source": [
    "Let's now do a bin sort.  Now we're going to be a bit looser with this and directly use some of Python's sorting methods.  Start by writing a simple function that, given a value which is within a given range [lo,hi], finds the bin to place the element into if there are N bins.  If the value is out of range some flag value should be returned."
   ]
  },
  {
   "cell_type": "code",
   "execution_count": null,
   "metadata": {
    "collapsed": true
   },
   "outputs": [],
   "source": []
  },
  {
   "cell_type": "markdown",
   "metadata": {
    "collapsed": true
   },
   "source": [
    "In this final step we do a bin sort.  This is a bit more complicated.  The way to do this is to have a list of lists.  You can directly use Python's .sort method for lists, since this is purely illustrative.  Or you can use your heapsort from before if your code was general enough."
   ]
  },
  {
   "cell_type": "code",
   "execution_count": null,
   "metadata": {
    "collapsed": true
   },
   "outputs": [],
   "source": []
  },
  {
   "cell_type": "markdown",
   "metadata": {
    "collapsed": true
   },
   "source": [
    "Consider the quicksort.  Suppose it is given a sorted list.  If the pivot is always the leftmost value, what happens?  Suggest a solution.  You do not need to code this up."
   ]
  }
 ],
 "metadata": {
  "anaconda-cloud": {},
  "kernelspec": {
   "display_name": "Python 2",
   "language": "python",
   "name": "python2"
  },
  "language_info": {
   "codemirror_mode": {
    "name": "ipython",
    "version": 2
   },
   "file_extension": ".py",
   "mimetype": "text/x-python",
   "name": "python",
   "nbconvert_exporter": "python",
   "pygments_lexer": "ipython2",
   "version": "2.7.13"
  }
 },
 "nbformat": 4,
 "nbformat_minor": 1
}
