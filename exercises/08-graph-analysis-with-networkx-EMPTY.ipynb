{
 "cells": [
  {
   "cell_type": "markdown",
   "metadata": {},
   "source": [
    "<a rel=\"license\" href=\"http://creativecommons.org/licenses/by-sa/4.0/\"><img alt=\"Creative Commons License\" style=\"border-width:0\" src=\"https://i.creativecommons.org/l/by-sa/4.0/80x15.png\" /></a><div align=\"center\">This work is licensed under a <a rel=\"license\" href=\"http://creativecommons.org/licenses/by-sa/4.0/\">Creative Commons Attribution-ShareAlike 4.0 International License</a>.</div>\n",
    "\n",
    "----"
   ]
  },
  {
   "cell_type": "markdown",
   "metadata": {},
   "source": [
    "# Preparing the environment"
   ]
  },
  {
   "cell_type": "markdown",
   "metadata": {},
   "source": [
    "## Graphics and plotting"
   ]
  },
  {
   "cell_type": "code",
   "execution_count": 1,
   "metadata": {
    "collapsed": true
   },
   "outputs": [],
   "source": [
    "# This line configures matplotlib to show figures embedded in the notebook, \n",
    "# instead of opening a new window for each figure. \n",
    "%matplotlib inline\n",
    "import matplotlib\n",
    "import matplotlib.pyplot as plt\n",
    "\n",
    "# general graphics settings\n",
    "matplotlib.rcParams['figure.figsize'] = (10, 7)"
   ]
  },
  {
   "cell_type": "code",
   "execution_count": 2,
   "metadata": {
    "collapsed": true
   },
   "outputs": [],
   "source": [
    "import seaborn as sea\n",
    "\n",
    "sea.set_style('dark')"
   ]
  },
  {
   "cell_type": "code",
   "execution_count": 3,
   "metadata": {
    "collapsed": true
   },
   "outputs": [],
   "source": [
    "import numpy as np"
   ]
  },
  {
   "cell_type": "markdown",
   "metadata": {},
   "source": [
    "## SQL database connection"
   ]
  },
  {
   "cell_type": "markdown",
   "metadata": {},
   "source": [
    "Before we can use the `%sql` syntax, two steps must be taken:\n",
    "\n",
    "* Load the IPython-SQL bridge code:"
   ]
  },
  {
   "cell_type": "code",
   "execution_count": 4,
   "metadata": {
    "collapsed": false
   },
   "outputs": [],
   "source": [
    "%load_ext sql"
   ]
  },
  {
   "cell_type": "markdown",
   "metadata": {},
   "source": [
    "* Connect to an actual database; this must be the first `%sql` statement; we connect to the PostGreSQL DB named `s_cerevisiae` running on *this* host (shortcut: the null string after the `@` sign) as user `ubuntu`:"
   ]
  },
  {
   "cell_type": "code",
   "execution_count": 5,
   "metadata": {
    "collapsed": false
   },
   "outputs": [
    {
     "data": {
      "text/plain": [
       "u'Connected: mivkov@s_cerevisiae'"
      ]
     },
     "execution_count": 5,
     "metadata": {},
     "output_type": "execute_result"
    }
   ],
   "source": [
    "%sql postgresql://mivkov@/s_cerevisiae"
   ]
  },
  {
   "cell_type": "markdown",
   "metadata": {},
   "source": [
    "# Introduction to the `networkx` library"
   ]
  },
  {
   "cell_type": "markdown",
   "metadata": {},
   "source": [
    "The `y2h_union` table lists interacting proteins (by name); a pair *(proteinA, proteinB)* appears in the table if *proteinA* interacts with *proteinB*.  Note that the \"interacts with\" relation need not be symmetric!\n",
    "\n",
    "This describes a *directed* graph, where the proteins are the vertices and each interaction defines an edge.\n",
    "\n",
    "Let us have a look at the `y2h_union` table:"
   ]
  },
  {
   "cell_type": "code",
   "execution_count": 6,
   "metadata": {
    "collapsed": false
   },
   "outputs": [
    {
     "name": "stdout",
     "output_type": "stream",
     "text": [
      "3 rows affected.\n"
     ]
    },
    {
     "data": {
      "text/html": [
       "<table>\n",
       "    <tr>\n",
       "        <th>symbol_a</th>\n",
       "        <th>symbol_b</th>\n",
       "    </tr>\n",
       "    <tr>\n",
       "        <td>Q0085</td>\n",
       "        <td>YCR106W</td>\n",
       "    </tr>\n",
       "    <tr>\n",
       "        <td>TORF1</td>\n",
       "        <td>YCR106W</td>\n",
       "    </tr>\n",
       "    <tr>\n",
       "        <td>TORF19</td>\n",
       "        <td>YDR361C</td>\n",
       "    </tr>\n",
       "</table>"
      ],
      "text/plain": [
       "[(u'Q0085', u'YCR106W'), (u'TORF1', u'YCR106W'), (u'TORF19', u'YDR361C')]"
      ]
     },
     "execution_count": 6,
     "metadata": {},
     "output_type": "execute_result"
    }
   ],
   "source": [
    "%sql select * from y2h_union limit 3;"
   ]
  },
  {
   "cell_type": "code",
   "execution_count": 7,
   "metadata": {
    "collapsed": false
   },
   "outputs": [
    {
     "name": "stdout",
     "output_type": "stream",
     "text": [
      "2929 rows affected.\n"
     ]
    }
   ],
   "source": [
    "data = %sql select * from y2h_union;"
   ]
  },
  {
   "cell_type": "code",
   "execution_count": 8,
   "metadata": {
    "collapsed": false
   },
   "outputs": [
    {
     "data": {
      "text/plain": [
       "[(u'Q0085', u'YCR106W'), (u'TORF1', u'YCR106W'), (u'TORF19', u'YDR361C')]"
      ]
     },
     "execution_count": 8,
     "metadata": {},
     "output_type": "execute_result"
    }
   ],
   "source": [
    "data[:3]"
   ]
  },
  {
   "cell_type": "markdown",
   "metadata": {},
   "source": [
    "Alternatively, one can load the data from the `Y2H_union.tsv` file using only Python functions:"
   ]
  },
  {
   "cell_type": "code",
   "execution_count": 9,
   "metadata": {
    "collapsed": true
   },
   "outputs": [],
   "source": [
    "data = []\n",
    "with open('Y2H_union.tsv', 'r') as stream:\n",
    "    for line in stream:\n",
    "        data.append(line.split())"
   ]
  },
  {
   "cell_type": "code",
   "execution_count": 10,
   "metadata": {
    "collapsed": false
   },
   "outputs": [
    {
     "data": {
      "text/plain": [
       "[['MEL1', 'YJL092W'], ['Q0085', 'YCR106W'], ['TORF1', 'YCR106W']]"
      ]
     },
     "execution_count": 10,
     "metadata": {},
     "output_type": "execute_result"
    }
   ],
   "source": [
    "data[:3]"
   ]
  },
  {
   "cell_type": "markdown",
   "metadata": {},
   "source": [
    "## Graph and network analysis with `networkx`"
   ]
  },
  {
   "cell_type": "markdown",
   "metadata": {},
   "source": [
    "Python package [`networkx`](http://networkx.readthedocs.io/en/networkx-1.11/index.html) provides convenient functions to create a graph (directed or undirected) from a set of nodes or edges, and then [perform common graph-theoretical operations on it](http://networkx.readthedocs.io/en/networkx-1.11/reference/algorithms.html), including computing a number of invariants.\n",
    "\n",
    "However, `networkx` online reference, albeit quite comprehensive, does not document all available features. Python's `help()` command is your friend."
   ]
  },
  {
   "cell_type": "code",
   "execution_count": 12,
   "metadata": {
    "collapsed": true
   },
   "outputs": [],
   "source": [
    "import networkx as nx"
   ]
  },
  {
   "cell_type": "markdown",
   "metadata": {},
   "source": [
    "An *undirected* graph is built by calling the object constructor `networkx.Graph()` (use `networkx.DiGraph()` for a *directed* graph).  A graph is initially empty, edges and vertices must be added later on."
   ]
  },
  {
   "cell_type": "code",
   "execution_count": 13,
   "metadata": {
    "collapsed": true
   },
   "outputs": [],
   "source": [
    "G = nx.Graph()"
   ]
  },
  {
   "cell_type": "markdown",
   "metadata": {},
   "source": [
    "Each edge is defined by the pair of end vertices (order matters in the case of directed graphs).  Method `add_edges_from()` takes a list of vertex pairs and adds the corresponding vertices to the graph; vertices are added too, as needed."
   ]
  },
  {
   "cell_type": "code",
   "execution_count": 14,
   "metadata": {
    "collapsed": true
   },
   "outputs": [],
   "source": [
    "G.add_edges_from(data)"
   ]
  },
  {
   "cell_type": "markdown",
   "metadata": {},
   "source": [
    "The `.nodes()` method returns a list of graph vertices:"
   ]
  },
  {
   "cell_type": "code",
   "execution_count": 15,
   "metadata": {
    "collapsed": true
   },
   "outputs": [],
   "source": [
    "ns = G.nodes()"
   ]
  },
  {
   "cell_type": "code",
   "execution_count": 16,
   "metadata": {
    "collapsed": false
   },
   "outputs": [
    {
     "data": {
      "text/plain": [
       "2018"
      ]
     },
     "execution_count": 16,
     "metadata": {},
     "output_type": "execute_result"
    }
   ],
   "source": [
    "len(ns)"
   ]
  },
  {
   "cell_type": "markdown",
   "metadata": {},
   "source": [
    "Note that graph vertices can be *any* Python objects (with a few restrictions like not using a graph or a part of its data structures as a vertex of itself)."
   ]
  },
  {
   "cell_type": "code",
   "execution_count": 17,
   "metadata": {
    "collapsed": false
   },
   "outputs": [
    {
     "data": {
      "text/plain": [
       "['YLR268W', 'YJL155C', 'YBR255W', 'YFR027W', 'YJR122W']"
      ]
     },
     "execution_count": 17,
     "metadata": {},
     "output_type": "execute_result"
    }
   ],
   "source": [
    "ns[:5]"
   ]
  },
  {
   "cell_type": "markdown",
   "metadata": {},
   "source": [
    "`networkx` also provides a [few drawing functions](http://networkx.readthedocs.io/en/networkx-1.11/reference/drawing.html) but \"its main goal is to enable graph analysis rather than perform graph visualization. In the future, graph visualization functionality may be removed from NetworkX or only available as an add-on package.\"  Indeed, the basic `Graph.draw()` method ignores the currently-set Matplotlib style and does not allow any customization.  As recommended by `networkx` documentation, it is better to export the graph data and use a specialized visualization tool (e.g., [Graphviz](http://www.graphviz.org/))."
   ]
  },
  {
   "cell_type": "code",
   "execution_count": 18,
   "metadata": {
    "collapsed": false
   },
   "outputs": [
    {
     "name": "stderr",
     "output_type": "stream",
     "text": [
      "/opt/anaconda2/lib/python2.7/site-packages/networkx/drawing/nx_pylab.py:126: MatplotlibDeprecationWarning: pyplot.hold is deprecated.\n",
      "    Future behavior will be consistent with the long-time default:\n",
      "    plot commands add elements without first clearing the\n",
      "    Axes and/or Figure.\n",
      "  b = plt.ishold()\n",
      "/opt/anaconda2/lib/python2.7/site-packages/networkx/drawing/nx_pylab.py:138: MatplotlibDeprecationWarning: pyplot.hold is deprecated.\n",
      "    Future behavior will be consistent with the long-time default:\n",
      "    plot commands add elements without first clearing the\n",
      "    Axes and/or Figure.\n",
      "  plt.hold(b)\n",
      "/opt/anaconda2/lib/python2.7/site-packages/matplotlib/__init__.py:917: UserWarning: axes.hold is deprecated. Please remove it from your matplotlibrc and/or style files.\n",
      "  warnings.warn(self.msg_depr_set % key)\n",
      "/opt/anaconda2/lib/python2.7/site-packages/matplotlib/rcsetup.py:152: UserWarning: axes.hold is deprecated, will be removed in 3.0\n",
      "  warnings.warn(\"axes.hold is deprecated, will be removed in 3.0\")\n"
     ]
    },
    {
     "data": {
      "image/png": "[encoded data removed]",
      "text/plain": [
       "<matplotlib.figure.Figure at 0x7fc596333510>"
      ]
     },
     "metadata": {},
     "output_type": "display_data"
    }
   ],
   "source": [
    "nx.draw(G)"
   ]
  },
  {
   "cell_type": "markdown",
   "metadata": {},
   "source": [
    "### Computing graph invariants"
   ]
  },
  {
   "cell_type": "markdown",
   "metadata": {},
   "source": [
    "#### Vertex degrees\n",
    "\n",
    "`networkx` already provides functions for computing the (total, in-, or out-) degree of a vertex.  (In-degree and out-degree do of course only make sense for *directed* graphs.)"
   ]
  },
  {
   "cell_type": "code",
   "execution_count": 19,
   "metadata": {
    "collapsed": false
   },
   "outputs": [
    {
     "name": "stdout",
     "output_type": "stream",
     "text": [
      "Help on method degree in module networkx.classes.graph:\n",
      "\n",
      "degree(self, nbunch=None, weight=None) method of networkx.classes.graph.Graph instance\n",
      "    Return the degree of a node or nodes.\n",
      "    \n",
      "    The node degree is the number of edges adjacent to that node.\n",
      "    \n",
      "    Parameters\n",
      "    ----------\n",
      "    nbunch : iterable container, optional (default=all nodes)\n",
      "        A container of nodes.  The container will be iterated\n",
      "        through once.\n",
      "    \n",
      "    weight : string or None, optional (default=None)\n",
      "       The edge attribute that holds the numerical value used\n",
      "       as a weight.  If None, then each edge has weight 1.\n",
      "       The degree is the sum of the edge weights adjacent to the node.\n",
      "    \n",
      "    Returns\n",
      "    -------\n",
      "    nd : dictionary, or number\n",
      "        A dictionary with nodes as keys and degree as values or\n",
      "        a number if a single node is specified.\n",
      "    \n",
      "    Examples\n",
      "    --------\n",
      "    >>> G = nx.Graph()   # or DiGraph, MultiGraph, MultiDiGraph, etc\n",
      "    >>> G.add_path([0,1,2,3])\n",
      "    >>> G.degree(0)\n",
      "    1\n",
      "    >>> G.degree([0,1])\n",
      "    {0: 1, 1: 2}\n",
      "    >>> list(G.degree([0,1]).values())\n",
      "    [1, 2]\n",
      "\n"
     ]
    }
   ],
   "source": [
    "help(G.degree)"
   ]
  },
  {
   "cell_type": "code",
   "execution_count": 22,
   "metadata": {
    "collapsed": false
   },
   "outputs": [
    {
     "data": {
      "text/plain": [
       "4"
      ]
     },
     "execution_count": 22,
     "metadata": {},
     "output_type": "execute_result"
    }
   ],
   "source": [
    "G.degree(u'YLR268W')"
   ]
  },
  {
   "cell_type": "markdown",
   "metadata": {},
   "source": [
    "In- and out-degrees are only defined for *directed* graphs."
   ]
  },
  {
   "cell_type": "code",
   "execution_count": 23,
   "metadata": {
    "collapsed": false
   },
   "outputs": [
    {
     "ename": "AttributeError",
     "evalue": "'Graph' object has no attribute 'in_degree'",
     "output_type": "error",
     "traceback": [
      "\u001b[0;31m\u001b[0m",
      "\u001b[0;31mAttributeError\u001b[0mTraceback (most recent call last)",
      "\u001b[0;32m<ipython-input-23-dfb0f89412eb>\u001b[0m in \u001b[0;36m<module>\u001b[0;34m()\u001b[0m\n\u001b[0;32m----> 1\u001b[0;31m \u001b[0mG\u001b[0m\u001b[0;34m.\u001b[0m\u001b[0min_degree\u001b[0m\u001b[0;34m(\u001b[0m\u001b[0;34mu'YLR268W'\u001b[0m\u001b[0;34m)\u001b[0m\u001b[0;34m\u001b[0m\u001b[0m\n\u001b[0m",
      "\u001b[0;31mAttributeError\u001b[0m: 'Graph' object has no attribute 'in_degree'"
     ]
    }
   ],
   "source": [
    "G.in_degree(u'YLR268W')"
   ]
  },
  {
   "cell_type": "markdown",
   "metadata": {},
   "source": [
    "Note that **the return value of `.degree()` changes when passed a list of vertices** instead of just one.  This behavior is common to many `networkx` functions."
   ]
  },
  {
   "cell_type": "code",
   "execution_count": 24,
   "metadata": {
    "collapsed": false
   },
   "outputs": [
    {
     "data": {
      "text/plain": [
       "{'MEL1': 1, 'YLR268W': 4}"
      ]
     },
     "execution_count": 24,
     "metadata": {},
     "output_type": "execute_result"
    }
   ],
   "source": [
    "G.degree(['YLR268W', 'MEL1'])"
   ]
  },
  {
   "cell_type": "markdown",
   "metadata": {},
   "source": [
    "Let us define a function to compute the average of the values returned by `networkx` functions. It comes in handy for computing some whole-graph quantities."
   ]
  },
  {
   "cell_type": "code",
   "execution_count": 25,
   "metadata": {
    "collapsed": true
   },
   "outputs": [],
   "source": [
    "def avg(result):\n",
    "    values = list(result.values())\n",
    "    return sum(values) / len(values)"
   ]
  },
  {
   "cell_type": "code",
   "execution_count": 26,
   "metadata": {
    "collapsed": false
   },
   "outputs": [
    {
     "data": {
      "text/plain": [
       "2"
      ]
     },
     "execution_count": 26,
     "metadata": {},
     "output_type": "execute_result"
    }
   ],
   "source": [
    "avg(G.degree(G.nodes()))"
   ]
  },
  {
   "cell_type": "markdown",
   "metadata": {},
   "source": [
    "Let us package the procedure in a ready-to-use function."
   ]
  },
  {
   "cell_type": "code",
   "execution_count": 27,
   "metadata": {
    "collapsed": true
   },
   "outputs": [],
   "source": [
    "def average_degree(G):\n",
    "    \"\"\"\n",
    "    Return the average vertex degree of graph `G`.\n",
    "    \"\"\"\n",
    "    return avg(G.degree(G.nodes()))"
   ]
  },
  {
   "cell_type": "markdown",
   "metadata": {},
   "source": [
    "#### Vertex degree distribution"
   ]
  },
  {
   "cell_type": "markdown",
   "metadata": {},
   "source": [
    "Seaborn's function [`distplot`](http://seaborn.pydata.org/generated/seaborn.distplot.html) can be used to plot the distribution of a bag of numbers. We need to extract the list of vertex degrees, i.e., the values in the mapping returned by `G.degree()`, to pass to `distplot`.  Also note that the list of degrees may include `0`, in case there are vertices not connected to any other node in the graph."
   ]
  },
  {
   "cell_type": "code",
   "execution_count": 34,
   "metadata": {
    "collapsed": true
   },
   "outputs": [],
   "source": [
    "def plot_degree_distribution(G):\n",
    "    nodes = G.nodes()\n",
    "    node_to_degree_map = G.degree(nodes)\n",
    "    degrees = list(node_to_degree_map.values())\n",
    "    sea.distplot(degrees)"
   ]
  },
  {
   "cell_type": "code",
   "execution_count": 35,
   "metadata": {
    "collapsed": false
   },
   "outputs": [
    {
     "data": {
      "image/png": "[encoded data removed]",
      "text/plain": [
       "<matplotlib.figure.Figure at 0x7fc5914cdcd0>"
      ]
     },
     "metadata": {},
     "output_type": "display_data"
    }
   ],
   "source": [
    "plot_degree_distribution(G)"
   ]
  },
  {
   "cell_type": "markdown",
   "metadata": {},
   "source": [
    "#### Clustering coefficient\n",
    "\n",
    "The `networkx.clustering` function returns the clustering coefficient of all vertices (by default) or a specified set of vertices (if explicitly given)."
   ]
  },
  {
   "cell_type": "code",
   "execution_count": 36,
   "metadata": {
    "collapsed": false
   },
   "outputs": [
    {
     "name": "stdout",
     "output_type": "stream",
     "text": [
      "Help on function clustering in module networkx.algorithms.cluster:\n",
      "\n",
      "clustering(G, nodes=None, weight=None)\n",
      "    Compute the clustering coefficient for nodes.\n",
      "    \n",
      "    For unweighted graphs, the clustering of a node `u`\n",
      "    is the fraction of possible triangles through that node that exist,\n",
      "    \n",
      "    .. math::\n",
      "    \n",
      "      c_u = \\frac{2 T(u)}{deg(u)(deg(u)-1)},\n",
      "    \n",
      "    where `T(u)` is the number of triangles through node `u` and\n",
      "    `deg(u)` is the degree of `u`.\n",
      "    \n",
      "    For weighted graphs, the clustering is defined\n",
      "    as the geometric average of the subgraph edge weights [1]_,\n",
      "    \n",
      "    .. math::\n",
      "    \n",
      "       c_u = \\frac{1}{deg(u)(deg(u)-1))}\n",
      "            \\sum_{uv} (\\hat{w}_{uv} \\hat{w}_{uw} \\hat{w}_{vw})^{1/3}.\n",
      "      \n",
      "    The edge weights `\\hat{w}_{uv}` are normalized by the maximum weight in the\n",
      "    network `\\hat{w}_{uv} = w_{uv}/\\max(w)`.\n",
      "    \n",
      "    The value of `c_u` is assigned to 0 if `deg(u) < 2`.\n",
      "    \n",
      "    Parameters\n",
      "    ----------\n",
      "    G : graph\n",
      "    \n",
      "    nodes : container of nodes, optional (default=all nodes in G)\n",
      "       Compute clustering for nodes in this container. \n",
      "    \n",
      "    weight : string or None, optional (default=None)\n",
      "       The edge attribute that holds the numerical value used as a weight.\n",
      "       If None, then each edge has weight 1.\n",
      "    \n",
      "    Returns\n",
      "    -------\n",
      "    out : float, or dictionary\n",
      "       Clustering coefficient at specified nodes\n",
      "    \n",
      "    Examples\n",
      "    --------\n",
      "    >>> G=nx.complete_graph(5)\n",
      "    >>> print(nx.clustering(G,0))\n",
      "    1.0\n",
      "    >>> print(nx.clustering(G))\n",
      "    {0: 1.0, 1: 1.0, 2: 1.0, 3: 1.0, 4: 1.0}\n",
      "    \n",
      "    Notes\n",
      "    -----\n",
      "    Self loops are ignored.\n",
      "    \n",
      "    References\n",
      "    ----------\n",
      "    .. [1] Generalizations of the clustering coefficient to weighted \n",
      "       complex networks by J. Saramäki, M. Kivelä, J.-P. Onnela, \n",
      "       K. Kaski, and J. Kertész, Physical Review E, 75 027105 (2007).  \n",
      "       http://jponnela.com/web_documents/a9.pdf\n",
      "\n"
     ]
    }
   ],
   "source": [
    "help(nx.clustering)"
   ]
  },
  {
   "cell_type": "markdown",
   "metadata": {},
   "source": [
    "Let us grab the clustering coefficient of all vertices in the graph; this of course takes more and more time as the number of vertices and edges in the graph increases."
   ]
  },
  {
   "cell_type": "code",
   "execution_count": 37,
   "metadata": {
    "collapsed": false
   },
   "outputs": [],
   "source": [
    "cc = nx.clustering(G)"
   ]
  },
  {
   "cell_type": "markdown",
   "metadata": {},
   "source": [
    "In the Yeast Interactome network, only relatively few vertices (proteins) are strongly clustered:"
   ]
  },
  {
   "cell_type": "code",
   "execution_count": 38,
   "metadata": {
    "collapsed": false
   },
   "outputs": [
    {
     "data": {
      "text/plain": [
       "['YJR044C: 1.0',\n",
       " 'YDR016C: 0.5',\n",
       " 'YBR094W: 1.0',\n",
       " 'YNR007C: 1.0',\n",
       " 'YMR146C: 1.0',\n",
       " 'YFL044C: 0.666666666667',\n",
       " 'YGR040W: 0.5',\n",
       " 'YPL065W: 1.0',\n",
       " 'YGL192W: 1.0',\n",
       " 'YPL105C: 1.0',\n",
       " 'YCL033C: 1.0',\n",
       " 'YOR230W: 1.0',\n",
       " 'YNL334C: 1.0',\n",
       " 'YDR261WB: 1.0',\n",
       " 'YBR111C: 1.0',\n",
       " 'YNL118C: 1.0',\n",
       " 'YNL147W: 1.0',\n",
       " 'YHR034C: 1.0',\n",
       " 'YCL066W: 1.0',\n",
       " 'YDL088C: 1.0',\n",
       " 'YFR015C: 1.0',\n",
       " 'YER146W: 0.5',\n",
       " 'YGL061C: 0.5',\n",
       " 'YMR227C: 1.0',\n",
       " 'YDR378C: 1.0',\n",
       " 'YJR039W: 1.0',\n",
       " 'YLR399C: 1.0',\n",
       " 'YPL002C: 1.0',\n",
       " 'YOR007C: 1.0',\n",
       " 'YMR096W: 0.733333333333',\n",
       " 'YHR102W: 1.0',\n",
       " 'YMR129W: 1.0',\n",
       " 'YML062C: 1.0',\n",
       " 'YMR298W: 0.666666666667',\n",
       " 'YLR417W: 1.0',\n",
       " 'YOR167C: 1.0',\n",
       " 'YER128W: 1.0',\n",
       " 'YGR010W: 0.666666666667',\n",
       " 'YML031W: 1.0',\n",
       " 'YKL032C: 1.0',\n",
       " 'YDR477W: 0.666666666667',\n",
       " 'YHR160C: 1.0',\n",
       " 'YIL160C: 1.0',\n",
       " 'YCR068W: 0.666666666667',\n",
       " 'YOR158W: 0.666666666667',\n",
       " 'YNL111C: 0.5',\n",
       " 'YDR308C: 0.5',\n",
       " 'YHL019C: 1.0',\n",
       " 'YBL021C: 1.0',\n",
       " 'YPL059W: 1.0',\n",
       " 'YCL019W: 1.0',\n",
       " 'YBR087W: 1.0',\n",
       " 'YLR175W: 1.0',\n",
       " 'YFL060C: 1.0',\n",
       " 'YNL333W: 0.571428571429',\n",
       " 'YBL016W: 1.0',\n",
       " 'YDR472W: 1.0',\n",
       " 'YGL161C: 0.666666666667',\n",
       " 'YGL036W: 1.0',\n",
       " 'YNL056W: 1.0',\n",
       " 'YHR084W: 0.833333333333',\n",
       " 'YJL137C: 1.0',\n",
       " 'YAR028W: 1.0',\n",
       " 'YGL208W: 1.0',\n",
       " 'YGR180C: 1.0',\n",
       " 'YCL055W: 0.666666666667',\n",
       " 'YBR254C: 1.0',\n",
       " 'YOR275C: 1.0',\n",
       " 'YOR358W: 0.666666666667',\n",
       " 'YGR027C: 1.0',\n",
       " 'YJL057C: 1.0']"
      ]
     },
     "execution_count": 38,
     "metadata": {},
     "output_type": "execute_result"
    }
   ],
   "source": [
    "[\"{0}: {1}\".format(protein, coeff) for protein, coeff in cc.items() if coeff >= 0.5]"
   ]
  },
  {
   "cell_type": "markdown",
   "metadata": {},
   "source": [
    "Indeed, the average clustering coefficient (CC of the graph) is quite low:"
   ]
  },
  {
   "cell_type": "code",
   "execution_count": 39,
   "metadata": {
    "collapsed": false
   },
   "outputs": [
    {
     "data": {
      "text/plain": [
       "0.046194001297365166"
      ]
     },
     "execution_count": 39,
     "metadata": {},
     "output_type": "execute_result"
    }
   ],
   "source": [
    "avg(cc)"
   ]
  },
  {
   "cell_type": "markdown",
   "metadata": {},
   "source": [
    "Let us package the procedure in a ready-to-use function."
   ]
  },
  {
   "cell_type": "code",
   "execution_count": 40,
   "metadata": {
    "collapsed": true
   },
   "outputs": [],
   "source": [
    "def clustering_coefficient(G):\n",
    "    \"\"\"\n",
    "    Return the clustering coefficient of graph `G`.\n",
    "    \"\"\"\n",
    "    return avg(nx.clustering(G))"
   ]
  },
  {
   "cell_type": "markdown",
   "metadata": {},
   "source": [
    "#### Characteristic path length\n",
    "\n",
    "Computing the *characteristic path length* takes more Python code. There is no ready-made `networkx` algorithm for it, so we have to craft our own."
   ]
  },
  {
   "cell_type": "markdown",
   "metadata": {},
   "source": [
    "Start by computing the *shortest path length* connecting each pair of vertices.  Function `shortest_path_length` --not documented online, see `help(nx.shortest_path_length)`-- returns a nested Python `dict` mapping each vertex $v$ into a `dict`, each key of which is a vertex $u$ which can be reached from $v$ and the associated value is the length of the shortest path connecting $u$ to $v$.\n",
    "\n",
    "This is probably best seen with an example."
   ]
  },
  {
   "cell_type": "code",
   "execution_count": 42,
   "metadata": {
    "collapsed": false
   },
   "outputs": [
    {
     "name": "stdout",
     "output_type": "stream",
     "text": [
      "Help on function shortest_path_length in module networkx.algorithms.shortest_paths.generic:\n",
      "\n",
      "shortest_path_length(G, source=None, target=None, weight=None)\n",
      "    Compute shortest path lengths in the graph.\n",
      "    \n",
      "    Parameters\n",
      "    ----------\n",
      "    G : NetworkX graph\n",
      "    \n",
      "    source : node, optional\n",
      "        Starting node for path.\n",
      "        If not specified, compute shortest path lengths using all nodes as\n",
      "        source nodes.\n",
      "    \n",
      "    target : node, optional\n",
      "        Ending node for path.\n",
      "        If not specified, compute shortest path lengths using all nodes as\n",
      "        target nodes.\n",
      "    \n",
      "    weight : None or string, optional (default = None)\n",
      "        If None, every edge has weight/distance/cost 1.\n",
      "        If a string, use this edge attribute as the edge weight.\n",
      "        Any edge attribute not present defaults to 1.\n",
      "    \n",
      "    Returns\n",
      "    -------\n",
      "    length: int or dictionary\n",
      "        If the source and target are both specified, return the length of\n",
      "        the shortest path from the source to the target.\n",
      "    \n",
      "        If only the source is specified, return a dictionary keyed by\n",
      "        targets whose values are the lengths of the shortest path from the\n",
      "        source to one of the targets.\n",
      "    \n",
      "        If only the target is specified, return a dictionary keyed by\n",
      "        sources whose values are the lengths of the shortest path from one\n",
      "        of the sources to the target.\n",
      "    \n",
      "        If neither the source nor target are specified return a dictionary\n",
      "        of dictionaries with path[source][target]=L, where L is the length\n",
      "        of the shortest path from source to target.\n",
      "    \n",
      "    Raises\n",
      "    ------\n",
      "    NetworkXNoPath\n",
      "        If no path exists between source and target.\n",
      "    \n",
      "    Examples\n",
      "    --------\n",
      "    >>> G=nx.path_graph(5)\n",
      "    >>> print(nx.shortest_path_length(G,source=0,target=4))\n",
      "    4\n",
      "    >>> p=nx.shortest_path_length(G,source=0) # target not specified\n",
      "    >>> p[4]\n",
      "    4\n",
      "    >>> p=nx.shortest_path_length(G,target=4) # source not specified\n",
      "    >>> p[0]\n",
      "    4\n",
      "    >>> p=nx.shortest_path_length(G) # source,target not specified\n",
      "    >>> p[0][4]\n",
      "    4\n",
      "    \n",
      "    Notes\n",
      "    -----\n",
      "    The length of the path is always 1 less than the number of nodes involved\n",
      "    in the path since the length measures the number of edges followed.\n",
      "    \n",
      "    For digraphs this returns the shortest directed path length. To find path\n",
      "    lengths in the reverse direction use G.reverse(copy=False) first to flip\n",
      "    the edge orientation.\n",
      "    \n",
      "    See Also\n",
      "    --------\n",
      "    all_pairs_shortest_path_length()\n",
      "    all_pairs_dijkstra_path_length()\n",
      "    single_source_shortest_path_length()\n",
      "    single_source_dijkstra_path_length()\n",
      "\n"
     ]
    }
   ],
   "source": [
    "help(nx.shortest_path_length)"
   ]
  },
  {
   "cell_type": "code",
   "execution_count": null,
   "metadata": {
    "collapsed": true
   },
   "outputs": [],
   "source": []
  },
  {
   "cell_type": "code",
   "execution_count": 46,
   "metadata": {
    "collapsed": false
   },
   "outputs": [
    {
     "name": "stdout",
     "output_type": "stream",
     "text": [
      "Help on function average_shortest_path_length in module networkx.algorithms.shortest_paths.generic:\n",
      "\n",
      "average_shortest_path_length(G, weight=None)\n",
      "    Return the average shortest path length.\n",
      "    \n",
      "    The average shortest path length is\n",
      "    \n",
      "    .. math::\n",
      "    \n",
      "       a =\\sum_{s,t \\in V} \\frac{d(s, t)}{n(n-1)}\n",
      "    \n",
      "    where `V` is the set of nodes in `G`,\n",
      "    `d(s, t)` is the shortest path from `s` to `t`,\n",
      "    and `n` is the number of nodes in `G`.\n",
      "    \n",
      "    Parameters\n",
      "    ----------\n",
      "    G : NetworkX graph\n",
      "    \n",
      "    weight : None or string, optional (default = None)\n",
      "       If None, every edge has weight/distance/cost 1.\n",
      "       If a string, use this edge attribute as the edge weight.\n",
      "       Any edge attribute not present defaults to 1.\n",
      "    \n",
      "    Raises\n",
      "    ------\n",
      "    NetworkXError:\n",
      "       if the graph is not connected.\n",
      "    \n",
      "    Examples\n",
      "    --------\n",
      "    >>> G=nx.path_graph(5)\n",
      "    >>> print(nx.average_shortest_path_length(G))\n",
      "    2.0\n",
      "    \n",
      "    For disconnected graphs you can compute the average shortest path\n",
      "    length for each component:\n",
      "    >>> G=nx.Graph([(1,2),(3,4)])\n",
      "    >>> for g in nx.connected_component_subgraphs(G):\n",
      "    ...     print(nx.average_shortest_path_length(g))\n",
      "    1.0\n",
      "    1.0\n",
      "\n"
     ]
    }
   ],
   "source": [
    "help(nx.average_shortest_path_length)"
   ]
  },
  {
   "cell_type": "code",
   "execution_count": 32,
   "metadata": {
    "collapsed": false
   },
   "outputs": [
    {
     "name": "stdout",
     "output_type": "stream",
     "text": [
      "CPU times: user 2.7 s, sys: 200 ms, total: 2.91 s\n",
      "Wall time: 2.89 s\n"
     ]
    }
   ],
   "source": [
    "%%time \n",
    "\n",
    "path_lengths = nx.shortest_path_length(G)"
   ]
  },
  {
   "cell_type": "code",
   "execution_count": 33,
   "metadata": {
    "collapsed": false
   },
   "outputs": [
    {
     "name": "stdout",
     "output_type": "stream",
     "text": [
      "{'YLR268W': 4, 'YJL155C': 4, 'YBR255W': 9, 'YFR027W': 4, 'YJR122W': 6, 'YLR244C': 6, 'YPL144W': 4, 'YBR135W': 3, 'YBR160W': 4, 'YDL238C': 4, 'YKL074C': 3, 'YNR067C': 5, 'YNL152W': 4, 'YKL063C': 4, 'YFL045C': 3, 'YFL010C': 2, 'YIL124W': 4, 'YJR044C': 4, 'YLR219W': 5, 'YNL054WB': 4, 'YKL183W': 4, 'YLR362W': 4, 'YKL052C': 4, 'YBR273C': 5, 'YHR025W': 2, 'YHR009C': 5, 'YOL034W': 2, 'YLR447C': 5, 'YGL237C': 4, 'YOL058W': 2, 'YDR016C': 4, 'YOL129W': 4, 'YHR130C': 5, 'YOL116W': 4, 'YGL071W': 4, 'YOR359W': 4, 'YNL239W': 2, 'YGR020C': 5, 'YNL288W': 3, 'YOR322C': 4, 'YAL046C': 4, 'YFR047C': 2, 'YIL106W': 8, 'YML127W': 6, 'YAL049C': 5, 'YLL042C': 6, 'YPL128C': 4, 'YJR093C': 5, 'YGR146C': 4, 'YOR062C': 5, 'YBR094W': 5, 'YHR112C': 2, 'YNR007C': 5, 'YDR527W': 4, 'YMR224C': 4, 'YLR011W': 3, 'YPR183W': 4, 'YDL073W': 5, 'YNL093W': 5, 'YOR391C': 2, 'YOL001W': 4, 'YDR059C': 5, 'YNL217W': 4, 'YKL204W': 6, 'YLR404W': 5, 'YFR024CA': 4, 'YIL013C': 3, 'YMR233W': 3, 'YDR421W': 4, 'YNR052C': 3, 'YHR032W': 4, 'YHR123W': 4, 'YDR022C': 4, 'YLL057C': 3, 'YML112W': 8, 'YIL082W': 3, 'YLR108C': 3, 'YPR176C': 5, 'YLR017W': 4, 'YMR146C': 7, 'YCR060W': 3, 'YJL036W': 4, 'YDL155W': 4, 'YDL139C': 4, 'YOR288C': 4, 'YMR079W': 3, 'YPR070W': 6, 'YMR168C': 5, 'YML043C': 4, 'YNL092W': 4, 'YPL280W': 2, 'YDL013W': 3, 'YMR104C': 4, 'YGL044C': 6, 'YKR088C': 4, 'YDL195W': 4, 'YNL199C': 4, 'YJR011C': 6, 'YLL019C': 4, 'YLR157C': 5, 'YDL055C': 3, 'YDR177W': 5, 'YDR142C': 2, 'YKR026C': 3, 'YFL044C': 4, 'YKL019W': 3, 'YKL035W': 4, 'YDR469W': 5, 'YGR040W': 3, 'YLR294C': 7, 'YKL135C': 4, 'YDR179C': 5, 'YKL113C': 5, 'YMR030W': 6, 'YOR174W': 4, 'YPR149W': 6, 'YGL181W': 3, 'YJR072C': 6, 'YPL065W': 5, 'YGL192W': 5, 'YFL059W': 0, 'YML094W': 7, 'YDL117W': 4, 'YIL105C': 3, 'YIL150C': 5, 'YGR158C': 4, 'YGL250W': 3, 'YPL105C': 7, 'YJR141W': 5, 'YCL033C': 3, 'YJR094C': 5, 'YIL065C': 3, 'YOR032C': 3, 'YBR223C': 3, 'YGL154C': 6, 'YBR190W': 6, 'YJL154C': 3, 'YJL203W': 5, 'YDL160C': 5, 'YBR176W': 2, 'YPL173W': 4, 'YDL215C': 5, 'YDR315C': 6, 'YBR134W': 6, 'YGL238W': 2, 'YDL239C': 2, 'YNL104C': 3, 'YKL017C': 6, 'YGL214W': 7, 'YIL045W': 7, 'YPL201C': 3, 'YMR232W': 5, 'YER144C': 3, 'YOR385W': 4, 'YGR185C': 5, 'YJL189W': 3, 'YER087CA': 4, 'YGL172W': 4, 'YHL011C': 7, 'YCL020W': 3, 'YLR446W': 5, 'YNR068C': 6, 'YGR129W': 5, 'YDR017C': 5, 'YOR025W': 6, 'YDR411C': 4, 'YBR205W': 4, 'YOR321W': 4, 'YML114C': 5, 'YGL070C': 4, 'YMR186W': 5, 'YDR195W': 4, 'YNR069C': 5, 'YER106W': 4, 'YML015C': 3, 'YOR197W': 4, 'YCR007C': 2, 'YCR027C': 4, 'YER079W': 6, 'YDR116C': 3, 'YOR230W': 3, 'YNL198C': 3, 'YLR156W': 5, 'YJL112W': 3, 'YPR017C': 3, 'YGL115W': 3, 'YPR037C': 4, 'YML071C': 5, 'YBR077C': 4, 'YLR030W': 4, 'YDR176W': 3, 'YDR122W': 3, 'YBR042C': 4, 'YGR192C': 2, 'YHR111W': 2, 'YBL045C': 5, 'YBR182C': 4, 'YDR036C': 4, 'YDL070W': 4, 'YNL218W': 4, 'YBR088C': 3, 'YBR055C': 4, 'YNL329C': 5, 'YPR040W': 5, 'YML057W': 5, 'YLR432W': 4, 'YMR029C': 5, 'YGL180W': 5, 'YJR073C': 4, 'YGL004C': 7, 'YNR032W': 6, 'YML097C': 3, 'YKR007W': 5, 'YHR193C': 3, 'YNL334C': 1, 'YDR203W': 5, 'YLR297W': 5, 'YDR054C': 4, 'YNL316C': 3, 'YMR141C': 7, 'YPL088W': 2, 'YPR171W': 5, 'YMR267W': 4, 'YDR078C': 4, 'YKL103C': 2, 'YDL154W': 4, 'YDR245W': 5, 'YLR114C': 5, 'YML037C': 5, 'YOR289W': 4, 'YDL089W': 4, 'YPR071W': 5, 'YPL159C': 4, 'YDL161W': 4, 'YKL050C': 4, 'YDL212W': 4, 'YNL161W': 7, 'YBR175W': 6, 'YIL119C': 4, 'YLR315W': 3, 'YDR314C': 5, 'YDR261WA': 4, 'YKL001C': 4, 'YDR261WB': 5, 'YKL098W': 5, 'YBR133C': 4, 'YJR013W': 4, 'YNL331C': 2, 'YBR111C': 2, 'YFL047W': 5, 'YGR201C': 5, 'YKL061W': 5, 'TORF21': 5, 'YER093C': 5, 'YNL023C': 3, 'YDR214W': 4, 'YLR295C': 3, 'YKL003WA': 3, 'YIL033C': 4, 'YOR368W': 5, 'YDR189W': 4, 'YAL028W': 3, 'YFR052W': 3, 'YGR088W': 2, 'YDR194C': 4, 'YNR030W': 4, 'YKL076C': 5, 'YLR397C': 5, 'YIL104C': 5, 'YIL151C': 5, 'YGL086W': 4, 'YNL118C': 5, 'YDR284C': 4, 'YJR117W': 7, 'YJL097W': 4, 'YGR144W': 2, 'YGL155W': 4, 'YCL032W': 3, 'YBR193C': 4, 'YNL147W': 3, 'YER127W': 4, 'YNL091W': 4, 'YEL005C': 5, 'YGR099W': 4, 'YMR226C': 2, 'YLR466W': 6, 'YDR070C': 6, 'YHL012W': 4, 'YDL071C': 5, 'YDR123C': 4, 'YBR166C': 3, 'YDR487C': 2, 'YPR185W': 4, 'YER065C': 2, 'YNL219C': 4, 'YGL051W': 4, 'YML041C': 4, 'YOL003C': 4, 'YPL222W': 7, 'YHR121W': 3, 'YHR034C': 3, 'YOR264W': 4, 'YOL070C': 4, 'YDR533C': 2, 'YLR452C': 6, 'YCR020CA': 4, 'YDR020C': 4, 'YKL211C': 3, 'YGL060W': 5, 'YNL311C': 3, 'YCL046W': 4, 'YNL138W': 3, 'YJL030W': 3, 'YLR424W': 4, 'YKR066C': 3, 'YNL154C': 5, 'YCL066W': 3, 'YER043C': 6, 'YJR110W': 6, 'YCL059C': 3, 'YDR244W': 3, 'YDL088C': 6, 'YLR113W': 4, 'YDL157C': 4, 'YDR233C': 5, 'YJL184W': 4, 'YER025W': 5, 'YDL015C': 4, 'YGL053W': 4, 'YCR004C': 3, 'YER130C': 4, 'YDR115W': 6, 'YGR071C': 4, 'YCR106W': 6, 'YMR204C': 5, 'YML038C': 4, 'YPR054W': 3, 'YML014W': 5, 'YKR071C': 6, 'YDR489W': 4, 'YPR049C': 3, 'YDL057W': 3, 'YPL235W': 5, 'YOR047C': 5, 'YLR031W': 5, 'YGR209C': 6, 'YPL018W': 4, 'YHR169W': 6, 'YDL175C': 5, 'YCR087CA': 4, 'YKL168C': 5, 'YPL161C': 4, 'YML056C': 5, 'YLR059C': 5, 'YLR433C': 5, 'YMR068W': 4, 'YMR153W': 5, 'YGR239C': 3, 'YMR124W': 4, 'YJL041W': 5, 'YJR070C': 5, 'YMR033W': 3, 'YPR103W': 6, 'YGR262C': 5, 'YDL111C': 5, 'YPR152C': 5, 'YKL159C': 4, 'YCR082W': 5, 'TORF1': 7, 'YGR172C': 4, 'YIL152W': 4, 'YFR033C': 4, 'YNR022C': 5, 'YGL229C': 4, 'YBR221C': 4, 'YJR056C': 2, 'YKL008C': 4, 'YPL069C': 2, 'YBR103W': 4, 'YIL132C': 3, 'YNR004W': 6, 'YKL015W': 4, 'YKL197C': 6, 'YPL110C': 3, 'YKL040C': 3, 'YOR327C': 4, 'YGL158W': 5, 'YFR015C': 4, 'YOR265W': 5, 'YIL092W': 4, 'YLR321C': 2, 'YPL203W': 5, 'YDR532C': 4, 'YHR035W': 5, 'YER146W': 3, 'YGL061C': 4, 'YDR394W': 5, 'YOR347C': 5, 'YPR093C': 4, 'YOL082W': 2, 'YOR258W': 6, 'YLR440C': 6, 'YFR002W': 4, 'YHR135C': 5, 'YNL131W': 4, 'YOR078W': 6, 'YER022W': 4, 'YBR057C': 4, 'YDR513W': 5, 'YMR165C': 6, 'YJL185C': 4, 'YER131W': 7, 'YLR032W': 3, 'YOR232W': 3, 'YLR089C': 4, 'YER092W': 4, 'YDR488C': 3, 'YEL042W': 4, 'YPR048W': 5, 'YDR431W': 4, 'YDL076C': 3, 'YER126C': 5, 'YMR227C': 5, 'YDR486C': 6, 'YLR465C': 3, 'YBR040W': 3, 'YBL047C': 5, 'YEL051W': 4, 'YCR045C': 7, 'YGR014W': 4, 'YER179W': 4, 'YMR032W': 3, 'YDR063W': 4, 'YGR238C': 6, 'YGL026C': 3, 'YDR201W': 2, 'YGR263C': 8, 'YDL110C': 5, 'YDL098C': 5, 'YPR104C': 3, 'YIR025W': 4, 'YCR083W': 4, 'YML028W': 2, 'YCR063W': 5, 'YLL001W': 2, 'YDR052C': 4, 'YNL189W': 1, 'YPR173C': 4, 'YJL031C': 6, 'YML077W': 4, 'YMR269W': 4, 'YMR092C': 3, 'YOR226C': 3, 'YPR160W': 4, 'YML035C': 2, 'YER188W': 3, 'YHL039W': 4, 'YLR112W': 5, 'YAL060W': 4, 'YHR177W': 4, 'YIL144W': 3, 'YOR124C': 4, 'YJR057W': 3, 'YJL200C': 5, 'YDL084W': 3, 'YLR377C': 2, 'YNL107W': 3, 'YDR479C': 3, 'YNL127W': 5, 'YMR021C': 2, 'YPR119W': 4, 'YDR378C': 3, 'YJR039W': 3, 'YJL104W': 3, 'YPL019C': 5, 'YFL009W': 4, 'YDR446W': 3, 'YJR008W': 3, 'YDL203C': 4, 'YPL020C': 3, 'YLR279W': 4, 'YLR215C': 4, 'YML082W': 4, 'YMR316CB': 5, 'YDR216W': 3, 'YKL130C': 2, 'YNL021W': 3, 'YOL054W': 3, 'YOR023C': 6, 'YAR031W': 5, 'YJL088W': 6, 'YHR158C': 5, 'YLR319C': 4, 'YPL091W': 3, 'YGR155W': 4, 'YFR049W': 4, 'YBR284W': 3, 'YDR192C': 4, 'YGR048W': 6, 'YJR159W': 2, 'YOL083W': 3, 'YLR335W': 3, 'YJR102C': 4, 'YHR134W': 2, 'YOR020C': 2, 'YBR186W': 2, 'YIL153W': 3, 'YHR074W': 2, 'YGR104C': 5, 'YLR368W': 5, 'YPR083W': 4, 'YOR006C': 6, 'YBR131W': 5, 'YBR244W': 4, 'YPL053C': 4, 'YGR086C': 4, 'YJR097W': 5, 'YNL333W': 1, 'YIL079C': 3, 'YDR408C': 5, 'YPL100W': 3, 'YOL149W': 4, 'YLR257W': 4, 'YNR014W': 5, 'YBL026W': 3, 'YEL018W': 6, 'YDR121W': 5, 'YER125W': 3, 'YGR195W': 4, 'YPL211W': 5, 'YOL061W': 6, 'YGL104C': 4, 'YLR015W': 6, 'YPL259C': 5, 'YMR219W': 3, 'YBL046W': 6, 'YGR017W': 4, 'YOR039W': 6, 'YHR036W': 5, 'YHR016C': 4, 'YLR322W': 4, 'YLR442C': 3, 'YBL101WA': 3, 'YOR379C': 4, 'YIL095W': 4, 'YOL123W': 3, 'YDR132C': 3, 'YHR207C': 6, 'YBR162WA': 4, 'YER071C': 7, 'YDR425W': 5, 'YOR331C': 4, 'YER174C': 5, 'YML029W': 3, 'YMR091C': 6, 'YDR222W': 7, 'YHR098C': 5, 'YML034W': 5, 'YEL072W': 7, 'YKR059W': 4, 'YER023W': 3, 'YPL268W': 4, 'YGL040C': 2, 'YER027C': 4, 'YDL017W': 5, 'YKL157W': 6, 'YBL102W': 6, 'YEL043W': 5, 'YMR077C': 4, 'YER107C': 4, 'YDR146C': 4, 'YDL100C': 4, 'YJL061W': 4, 'YLR216C': 5, 'YMR017W': 6, 'YPL094C': 3, 'YNL020C': 5, 'YOR101W': 3, 'YER090W': 4, 'YCL029C': 6, 'YAL044WA': 5, 'YKL117W': 4, 'YOR178C': 6, 'YKR011C': 3, 'YPR018W': 6, 'YDR159W': 4, 'YMR059W': 4, 'YLR435W': 6, 'YJR076C': 3, 'YML011C': 4, 'YNL044W': 2, 'YDR200C': 6, 'YPR105C': 3, 'YDL113C': 5, 'YDR357C': 4, 'YMR294WA': 3, 'YJR021C': 2, 'YBR247C': 5, 'YIL001W': 5, 'YPL149W': 3, 'YOR007C': 3, 'YOL148C': 4, 'YPR082C': 3, 'YGR294W': 3, 'YDR008C': 5, 'YLR258W': 3, 'YLR350W': 3, 'YGR163W': 6, 'YMR096W': 1, 'YNL164C': 5, 'YDL164C': 3, 'YJR050W': 5, 'YDR088C': 4, 'YLR376C': 4, 'YNL124W': 4, 'YJR136C': 6, 'YGL225W': 4, 'YLR451W': 5, 'YML108W': 5, 'YLR323C': 7, 'YCL010C': 4, 'YGR189C': 5, 'YHL042W': 6, 'YOR332W': 6, 'YIR003W': 8, 'YGR038W': 4, 'YNL223W': 5, 'YBR278W': 6, 'YDR296W': 3, 'YNR048W': 5, 'YBL007C': 5, 'YCL024W': 5, 'YAL032C': 3, 'YGL145W': 4, 'YGL112C': 4, 'YBR187W': 7, 'YOL006C': 4, 'YDL066W': 4, 'YLR132C': 3, 'YMR163C': 5, 'YNL201C': 5, 'YDL190C': 4, 'YHR102W': 4, 'YJL187C': 4, 'YEL015W': 5, 'YDR299W': 5, 'TORF47': 7, 'YLR120WA': 5, 'YER059W': 4, 'YMR243C': 6, 'YBR289W': 4, 'YBL025W': 8, 'YKL212W': 4, 'YHR115C': 5, 'YBL091CA': 4, 'YGL079W': 5, 'YMR218C': 3, 'YLR052W': 5, 'YGR196C': 5, 'YDR520C': 3, 'YLL049W': 4, 'YEL053C': 4, 'YHR211W': 4, 'YMR280C': 6, 'YOR223W': 5, 'YGL024W': 4, 'YKR010C': 4, 'YLL010C': 6, 'YDR061W': 4, 'YMR129W': 6, 'YHR197W': 4, 'YPR126C': 4, 'YGR261C': 3, 'YKL154W': 5, 'YJL019W': 3, 'YPL004C': 4, 'YOR164C': 4, 'YNL047C': 4, 'YDR256C': 2, 'YGL030W': 7, 'YLR121C': 6, 'YJL178C': 5, 'YGR004W': 5, 'YLR429W': 5, 'YGR061C': 4, 'YDR105C': 4, 'YNL063W': 6, 'YLR098C': 2, 'YIR038C': 3, 'YDL134C': 5, 'YML062C': 4, 'YBL093C': 4, 'YAL062W': 6, 'YLR453C': 7, 'YHR171W': 5, 'YDL165W': 5, 'YNL078W': 3, 'YDR032C': 2, 'YJL124C': 3, 'YCR011C': 6, 'YKL023W': 4, 'YKL143W': 4, 'YDR318W': 2, 'YPL031C': 3, 'YKL012W': 4, 'YJL164C': 5, 'YMR001C': 3, 'YIL105WA': 3, 'YGL213C': 4, 'YNL178W': 5, 'YML101C': 5, 'YDR167W': 4, 'YHR057C': 5, 'YPL095C': 3, 'YHR180W': 5, 'YLR291C': 2, 'YIL122W': 4, 'YMR111C': 3, 'YAR033W': 3, 'YIR034C': 4, 'YAL055W': 5, 'YOL052C': 5, 'YGR140W': 7, 'YHR156C': 3, 'YNR034W': 5, 'YGL144C': 8, 'YDR190C': 6, 'YBL006C': 5, 'YLR340W': 6, 'YGR108W': 4, 'YMR070W': 7, 'YBR264C': 5, 'YKR096W': 7, 'YBR246W': 4, 'YLR275W': 5, 'YDL184C': 5, 'YER095W': 6, 'YHR076W': 4, 'YKL043W': 3, 'YJL211C': 5, 'YPR085C': 6, 'YDR098C': 5, 'YFR036W': 5, 'YPL157W': 5, 'YGL166W': 2, 'YHR114W': 4, 'YEL023C': 6, 'YOL067C': 4, 'YGR028W': 5, 'YER150W': 5, 'YNL279W': 6, 'YOL018C': 4, 'YBR288C': 4, 'YOR220W': 3, 'YKR092C': 3, 'YDR434W': 5, 'YOR375C': 4, 'YOL145C': 3, 'YOR324C': 3, 'YLR324W': 4, 'YOR353C': 3, 'YDR005C': 4, 'YHR014W': 7, 'YHL025W': 4, 'YHL009C': 2, 'YNL222W': 3, 'YCL021WA': 4, 'YGR188C': 6, 'YER143W': 6, 'YOR362C': 6, 'YNL086W': 4, 'YGR057C': 4, 'YGR284C': 4, 'YDL053C': 5, 'YKR062W': 5, 'YPR069C': 5, 'YLR200W': 6, 'YDR051C': 3, 'YDL108W': 4, 'YOR181W': 3, 'YGL127C': 4, 'YBR030W': 7, 'YDL133W': 5, 'YPL240C': 5, 'YDL022W': 3, 'YHR096C': 4, 'YDR477W': 4, 'YLR146C': 4, 'YDR240C': 4, 'YOL109W': 8, 'YDR429C': 6, 'YER118C': 4, 'YBR052C': 3, 'YER134C': 6, 'YNL088W': 3, 'YJL180C': 5, 'YBR195C': 5, 'YDR498C': 4, 'YGR075C': 4, 'YGR253C': 5, 'YDR510W': 2, 'YHR129C': 2, 'YLR019W': 6, 'YMR071C': 4, 'YKL033W': 5, 'YKR055W': 6, 'YFL042C': 5, 'YIR035C': 3, 'YDR148C': 3, 'YJR034W': 4, 'YDL204W': 5, 'YDL106C': 4, 'YDR335W': 4, 'YGL116W': 4, 'YGL189C': 5, 'YER096W': 5, 'YCR095C': 8, 'YCR077C': 4, 'YLR417W': 5, 'YJL110C': 4, 'YKR048C': 4, 'YGL187C': 3, 'YGL025C': 4, 'YMR048W': 5, 'YDR277C': 6, 'YML092C': 4, 'YOR167C': 5, 'YMR117C': 3, 'YPR107C': 5, 'YJR074W': 4, 'YJR023C': 6, 'YJR134C': 4, 'YMR288W': 4, 'YBR241C': 4, 'YKL044W': 5, 'YOR005C': 5, 'YDL226C': 3, 'YFR037C': 5, 'YDR364C': 5, 'YLR352W': 5, 'YGR136W': 2, 'YGL201C': 4, 'YNL113W': 3, 'YDR099W': 4, 'YJR052W': 4, 'YHR170W': 4, 'YBR107C': 3, 'YDR259C': 4, 'YKL068W': 4, 'YPL129W': 3, 'YDL166C': 4, 'YKL142W': 5, 'YPL049C': 2, 'YDL246C': 3, 'YNL122C': 6, 'YER081W': 3, 'YJL070C': 3, 'YDR373W': 4, 'YHR060W': 4, 'YOL111C': 3, 'YDR004W': 8, 'YNR075W': 4, 'YCR030C': 6, 'YIL018W': 5, 'YIL074C': 2, 'YHR039C': 3, 'YBR274W': 4, 'YNL249C': 4, 'YHR204W': 6, 'YGR121C': 4, 'YCR035C': 5, 'YOR318C': 4, 'YGL065C': 4, 'YLR243W': 5, 'YAL054C': 2, 'YPL047W': 4, 'YFR057W': 6, 'YDR476C': 4, 'YJR112W': 4, 'YBR252W': 2, 'YIL069C': 5, 'YJR083C': 4, 'YGR066C': 5, 'YNL135C': 3, 'YJR101W': 4, 'YBR150C': 5, 'YJL085W': 5, 'YDL209C': 5, 'YGR058W': 3, 'YPR193C': 2, 'YDR428C': 3, 'YOR210W': 3, 'YDR045C': 5, 'YKR083C': 3, 'YGR252W': 5, 'YJR010CA': 4, 'YER128W': 5, 'YDL235C': 6, 'YMR322C': 1, 'YGR003W': 5, 'YGR074W': 5, 'YKL214C': 4, 'YOR361C': 7, 'YMR223W': 4, 'YPL214C': 2, 'YGR029W': 5, 'YBL023C': 3, 'YMR298W': 4, 'YOR329C': 5, 'YLL027W': 6, 'YDR124W': 5, 'YNL267W': 5, 'YHL006C': 4, 'YKL189W': 3, 'YGR010W': 2, 'YML064C': 3, 'YNL307C': 3, 'YCR076C': 2, 'YLR438W': 3, 'YML031W': 6, 'YMR154C': 6, 'YER039C': 5, 'YGR218W': 4, 'YGR267C': 2, 'YDL125C': 3, 'YPL002C': 5, 'Q0085': 7, 'YJL153C': 5, 'YDR229W': 4, 'YJR075W': 4, 'YNL210W': 6, 'YER017C': 5, 'YOR180C': 4, 'YLR438CA': 2, 'YER177W': 5, 'YCL063W': 4, 'YPR020W': 3, 'YDR107C': 8, 'YDL132W': 5, 'YJL127WA': 8, 'YPL243W': 7, 'YGL126W': 5, 'YDL025C': 5, 'YLR167W': 4, 'YMR270C': 7, 'YLR293C': 3, 'YDL147W': 5, 'YFL056C': 6, 'YFL029C': 4, 'YBL091C': 4, 'YDR374C': 4, 'YDR453C': 2, 'YKL069W': 7, 'YPL037C': 4, 'YOR111W': 3, 'YDR323C': 6, 'YJL162C': 4, 'YDR085C': 4, 'YNL032W': 6, 'YNL041C': 4, 'YJL100W': 4, 'YJL006C': 7, 'YDL081C': 7, 'YOR281C': 4, 'YKL032C': 3, 'YJR135C': 6, 'YFL018C': 5, 'YJR068W': 4, 'YDR212W': 3, 'YLR170C': 6, 'YDL207W': 5, 'YLR211C': 6, 'YNL025C': 3, 'YNR029C': 5, 'YBR122C': 6, 'YGR117C': 4, 'YOL105C': 4, 'YOR042W': 3, 'YOL050C': 4, 'YPL124W': 3, 'YJL084C': 5, 'YPL135W': 3, 'YKL010C': 4, 'YMR289W': 4, 'YER070W': 4, 'YHR160C': 3, 'YGR177C': 3, 'YJR133W': 2, 'YPL077C': 4, 'YJR022W': 3, 'YLR273C': 6, 'YIL051C': 3, 'YNR010W': 4, 'YPL151C': 4, 'YLR180W': 5, 'YHL018W': 2, 'YOL089C': 6, 'YDR416W': 4, 'YOL065C': 4, 'YMR181C': 4, 'YKR094C': 4, 'YOL130W': 3, 'YPL255W': 3, 'YGR013W': 5, 'YOR095C': 2, 'YOR377W': 4, 'YLL046C': 3, 'YDR388W': 4, 'YMR028W': 6, 'YPL208W': 4, 'YIL160C': 3, 'YGL220W': 6, 'YBR233W': 2, 'YPL122C': 5, 'YGR082W': 4, 'YGR119C': 4, 'YGR120C': 3, 'YLR267W': 5, 'YLL028W': 3, 'YER016W': 5, 'YGR286C': 8, 'YDR386W': 5, 'YCR086W': 3, 'YLR026C': 3, 'YMR095C': 1, 'YLR046C': 5, 'YDR100W': 2, 'YKR104W': 3, 'YMR255W': 4, 'YMR239C': 2, 'YGL247W': 7, 'YER116C': 4, 'YBL035C': 6, 'YHR105W': 3, 'YDR516C': 3, 'YPL233W': 4, 'YDL002C': 5, 'YIR037W': 4, 'YBL051C': 6, 'YBL069W': 3, 'YDR353W': 5, 'YMR139W': 4, 'YJL001W': 4, 'YJL138C': 4, 'YLR173W': 4, 'YKR037C': 3, 'YNL024C': 6, 'YBL058W': 3, 'YER101C': 3, 'YDR171W': 3, 'YLR439W': 4, 'YCR020C': 3, 'YOR127W': 5, 'YLR303W': 2, 'YJL047C': 5, 'YER038C': 4, 'YLR190W': 5, 'YDL126C': 5, 'YLR102C': 4, 'YOR158W': 4, 'YPR178W': 4, 'YDL208W': 3, 'YIR018W': 5, 'MEL1': 4, 'YFL037W': 6, 'YPL169C': 4, 'YHR161C': 4, 'YBR243C': 4, 'YDL224C': 5, 'YDR366C': 8, 'YLR181C': 5, 'YGL090W': 4, 'YNL111C': 4, 'YGR134W': 7, 'YNR011C': 5, 'YIL050W': 4, 'YPR086W': 8, 'YJR125C': 4, 'YMR060C': 7, 'YJL065C': 4, 'YDR320CA': 4, 'YJR003C': 3, 'YDL144C': 3, 'YFL028C': 7, 'YMR016C': 7, 'YPL034W': 7, 'YDR308C': 4, 'YMR004W': 3, 'YLR238W': 5, 'YPL176C': 6, 'YLR389C': 3, 'YJL072C': 5, 'YOR112W': 4, 'YFL017C': 5, 'YDL168W': 4, 'YLR263W': 3, 'YDR084C': 5, 'YBR234C': 5, 'YIL163C': 5, 'YOR061W': 7, 'YBR261C': 1, 'YAR027W': 3, 'YGR083C': 3, 'YGL221C': 2, 'YNL290W': 5, 'YBL010C': 6, 'YEL068C': 6, 'YGR123C': 5, 'YMR314W': 3, 'YAL021C': 4, 'YHR128W': 4, 'YGL122C': 3, 'YBR123C': 4, 'YIL112W': 5, 'YBR198C': 5, 'YOR043W': 5, 'YDL120W': 3, 'YKL071W': 4, 'YBR152W': 5, 'YLR347C': 3, 'YDR292C': 6, 'YAL036C': 4, 'YCL028W': 2, 'YAL034WA': 3, 'YHR106W': 6, 'YDL065C': 4, 'YGL244W': 4, 'YNL229C': 2, 'YBR080C': 2, 'YPR191W': 4, 'YDR027C': 5, 'YBR170C': 5, 'YOR301W': 6, 'YDL001W': 4, 'YJL183W': 4, 'YPL218W': 3, 'YMR309C': 3, 'YHL046C': 5, 'YOR089C': 4, 'YHR022C': 4, 'YHL019C': 5, 'YLR186W': 4, 'YMR180C': 6, 'YNL258C': 5, 'YBL021C': 5, 'YHR215W': 6, 'YHL004W': 3, 'YLL045C': 4, 'YNL098C': 3, 'YER157W': 4, 'YOR370C': 4, 'YDR389W': 5, 'YFL061W': 2, 'YJR121W': 3, 'YLL014W': 4, 'YCR021C': 4, 'YKR014C': 5, 'YDL127W': 5, 'YOR159C': 3, 'YOR160W': 3, 'YEL062W': 4, 'YCR068W': 4, 'YJL039C': 6, 'YBR006W': 5, 'YCR036W': 4, 'YER015W': 3, 'YML006C': 3, 'YPR046W': 5, 'YPR159CA': 4, 'YDR439W': 4, 'YDR502C': 4, 'YHR167W': 4, 'YER062C': 4, 'YLR125W': 5, 'YGR247W': 4, 'YGL124C': 4, 'YDL130W': 5, 'YMR276W': 3, 'YLR025W': 5, 'YLR049C': 3, 'YJL013C': 4, 'YDR152W': 5, 'YDL090C': 4, 'YJL064W': 6, 'YMR061W': 5, 'YGL068W': 4, 'YLR386W': 3, 'YKL067W': 2, 'YKL090W': 3, 'YLR262C': 5, 'YFL034CB': 5, 'YMR294W': 3, 'YPR135W': 4, 'YLR423C': 3, 'YOR283W': 3, 'YKL075C': 5, 'YNL181W': 5, 'YBL068W': 7, 'YML051W': 3, 'YHR184W': 3, 'YDL105W': 3, 'YOR128C': 5, 'YFR008W': 4, 'YPR168W': 5, 'YJL048C': 3, 'YPR113W': 2, 'YDL133CA': 5, 'YOL107W': 4, 'YBR155W': 4, 'YJL086C': 5, 'YBR188C': 4, 'YOR275C': 5, 'YFL038C': 5, 'YJL135W': 7, 'YNL029C': 4, 'YHR166C': 4, 'YIR017C': 4, 'YBR108W': 3, 'YNR012W': 3, 'YJL151C': 2, 'YIL053W': 4, 'YPL059W': 4, 'YDR424C': 4, 'YMR308C': 3, 'YOR097C': 4, 'YNL099C': 7, 'YBR126WA': 4, 'YGR024C': 2, 'YBL020W': 4, 'YGR203W': 4, 'YHL003C': 4, 'YBR260C': 4, 'YFR043C': 4, 'YIL008W': 3, 'YNL286W': 3, 'YIL162W': 5, 'YOR037W': 4, 'YNR025C': 4, 'YDR183W': 6, 'YIL039W': 3, 'YDR138W': 4, 'YGR122W': 4, 'YOR317W': 5, 'YOR192CA': 2, 'YLR328W': 2, 'YGL153W': 3, 'YGR046W': 4, 'YML007W': 4, 'YER063W': 4, 'YOR185C': 3, 'YDR503C': 3, 'YGL037C': 2, 'YLR024C': 8, 'YLR071C': 5, 'YCL019W': 5, 'YBR087W': 5, 'YLR006C': 5, 'YDR330W': 3, 'YER149C': 5, 'YBL037W': 3, 'YOR215C': 6, 'YHR107C': 4, 'YGL175C': 2, 'YOR262W': 7, 'YDL064W': 3, 'YDL031W': 5, 'YMR257C': 4, 'YNL204C': 3, 'YMR228W': 7, 'YLL062C': 3, 'YNL273W': 6, 'YOL012C': 4, 'YPL219W': 4, 'YNL182C': 4, 'YKL151C': 2, 'YGL198W': 4, 'YOR284W': 2, 'YCL040W': 2, 'YJL103C': 3, 'YNL042W': 3, 'YFL002WA': 4, 'YHR058C': 5, 'YDR239C': 5, 'YHR216W': 2, 'YHR185C': 6, 'YLR175W': 4, 'YMR275C': 4, 'YCR073C': 4, 'YCR022C': 6, 'YER052C': 4, 'YFL060C': 1, 'YNR046W': 3, 'YJL025W': 3, 'YBR072W': 2, 'YBR029C': 4, 'YDR273W': 3, 'YGL134W': 4, 'YKR068C': 3, 'YJR047C': 3, 'YDR086C': 6, 'YJR130C': 4, 'YIR016W': 6, 'YAL016W': 4, 'YFL039C': 2, 'YIL172C': 4, 'YJL134W': 4, 'YLR227C': 3, 'YGL096W': 6, 'YJL077WB': 7, 'YDR151C': 4, 'YBL078C': 4, 'YER007CA': 5, 'YGR213C': 3, 'YLR209C': 2, 'YGR113W': 4, 'YPR153W': 4, 'YDR264C': 4, 'YKL039W': 6, 'YKR022C': 5, 'YLR287C': 6, 'YPL174C': 3, 'YDR326C': 4, 'YPL125W': 3, 'YGR081C': 7, 'YLR305C': 5, 'YGL223C': 6, 'YOR036W': 5, 'YBL016W': 3, 'YGL150C': 5, 'YGR125W': 4, 'YBR194W': 6, 'YOL108C': 5, 'YJL092W': 3, 'YMR316W': 4, 'YJR127C': 4, 'YOL106W': 5, 'YKL002W': 4, 'YDR328C': 4, 'YOR014W': 4, 'YLR345W': 3, 'YDR311W': 3, 'YGR178C': 4, 'YNL155W': 4, 'YBR154C': 8, 'YBR216C': 5, 'YOR372C': 5, 'YOL020W': 4, 'YAR003W': 5, 'YPL229W': 5, 'YMR236W': 5, 'YCR050C': 6, 'YOR303W': 7, 'YDR013W': 5, 'YHL033C': 4, 'YBR270C': 4, 'YDR106W': 3, 'YGL252C': 3, 'YBR201W': 4, 'YGL161C': 5, 'YER182W': 6, 'YOL133W': 4, 'YGL058W': 7, 'YNL263C': 3, 'YPR115W': 6, 'YDR128W': 6, 'YOR144C': 3, 'YMR052W': 5, 'YCL056C': 3, 'YLL036C': 4, 'YDL029W': 6, 'YER102W': 4, 'YBL057C': 4, 'YER019W': 4, 'YDR225W': 5, 'YDL121C': 5, 'YPR062W': 2, 'YLR150W': 7, 'YLR399C': 5, 'YEL066W': 2, 'YLR403W': 5, 'YGR092W': 9, 'YEL013W': 5, 'YNL094W': 4, 'YGR047C': 4, 'YDR480W': 2, 'YMR210W': 6, 'YDR504C': 4, 'YGR067C': 5, 'YBR059C': 4, 'YGR241C': 4, 'YGL036W': 5, 'YMR258C': 5, 'YLR072W': 3, 'YER180C': 3, 'YMR067C': 5, 'YJL011C': 5, 'YNL056W': 7, 'YKR034W': 3, 'YKL025C': 3, 'YER086W': 2, 'YGR173W': 6, 'YDR207C': 3, 'YLR264W': 5, 'YDL218W': 7, 'YOR115C': 3, 'YKL038W': 6, 'YLR208W': 5, 'YNL016W': 4, 'YDR455C': 4, 'YJL075C': 4, 'YOR304CA': 3, 'YML099C': 3, 'YBR102C': 4, 'YOR285W': 5, 'YCR065W': 4, 'YDL118W': 4, 'YLR288C': 4, 'YGR223C': 3, 'YKL107W': 5, 'YPR075C': 5, 'YMR121C': 5, 'YOL094C': 6, 'YER099C': 5, 'YJR048W': 6, 'YHR084W': 3, 'YNL149C': 5, 'YGL095C': 5, 'YDL216C': 5, 'YGR133W': 6, 'YGR142W': 3, 'YBR137W': 2, 'YDR473C': 3, 'YKL192C': 5, 'YLR393W': 3, 'YBR217W': 4, 'YDR472W': 4, 'YDL236W': 2, 'YIL046W': 3, 'YGR179C': 4, 'YJL137C': 4, 'YGR110W': 5, 'YIR015W': 4, 'YDR448W': 4, 'YJR046W': 4, 'YDL005C': 4, 'YFL023W': 7, 'YNL116W': 5, 'YDR361C': 3, 'YPL164C': 5, 'YKL181W': 6, 'YIR044C': 6, 'YOR059C': 5, 'YLR333C': 5, 'YAR028W': 4, 'YDR526C': 5, 'YPL204W': 5, 'YPL251W': 3, 'YOL069W': 4, 'YNL075W': 3, 'YDR412W': 5, 'YJL199C': 2, 'YML125C': 4, 'YAL040C': 5, 'YGL208W': 4, 'YOR355W': 4, 'YOR028C': 4, 'YPL111W': 2, 'YOL143C': 2, 'YJR091C': 4, 'YNL244C': 4, 'YAL024C': 6, 'YOR348C': 6, 'YMR317W': 6, 'YMR213W': 4, 'YPR181C': 4, 'YDR529C': 5, 'YEL012W': 3, 'YDR382W': 6, 'YDR505C': 4, 'YGR068C': 7, 'YML018C': 5, 'YDL044C': 4, 'YDL011C': 7, 'YOL021C': 5, 'YER112W': 3, 'YDR541C': 6, 'YEL034W': 3, 'YKR100C': 5, 'YDR423C': 4, 'YGR180C': 3, 'YPL260W': 4, 'YIL084C': 4, 'YML110C': 3, 'YOR302W': 6, 'YGL048C': 8, 'YMR193W': 9, 'YOR380W': 2, 'YML023C': 3, 'YGL019W': 8, 'YER047C': 3, 'YOR138C': 4, 'YPR029C': 5, 'YCR066W': 6, 'YML098W': 4, 'YLR420W': 5, 'YCR088W': 3, 'YDR208W': 4, 'YJL058C': 3, 'YGL108C': 6, 'YLR177W': 4, 'YLR117C': 5, 'YOR109W': 3, 'YIR033W': 4, 'YPR110C': 4, 'YCL055W': 5, 'YDR490C': 5, 'YER105C': 4, 'YMR102C': 5, 'YDR518W': 3, 'YLR119W': 4, 'YLR082C': 4, 'YMR159C': 4, 'YGR233C': 4, 'YDL188C': 6, 'YLL017W': 5, 'YDR271C': 6, 'YGR268C': 3, 'YNL315C': 3, 'YER018C': 4, 'YPR174C': 3, 'YNL171C': 7, 'YLR385C': 3, 'YDR140W': 4, 'YJR010W': 2, 'YJL218W': 2, 'YKL028W': 4, 'YIL109C': 3, 'YPL070W': 1, 'YKL166C': 5, 'YJR007W': 6, 'YGR211W': 5, 'YJR058C': 3, 'YMR024W': 3, 'YDR304C': 5, 'YKL171W': 4, 'YOR136W': 3, 'YPR136C': 4, 'YDR206W': 4, 'YNL037C': 4, 'YOL091W': 3, 'YIL007C': 5, 'YGL156W': 3, 'YJL090C': 3, 'YPR088C': 6, 'YBR196C': 5, 'YMR182C': 4, 'TORF19': 4, 'YHR140W': 4, 'YDR002W': 5, 'YMR039C': 6, 'YBL014C': 4, 'YGL094C': 4, 'YHR068W': 2, 'YGR149W': 4, 'YGR130C': 4, 'YOL036W': 6, 'YJR118C': 4, 'YDL217C': 5, 'YBR254C': 4, 'YLR245C': 2, 'YNL153C': 3, 'YJL083W': 5, 'YDR252W': 8, 'YJL141C': 5, 'YBR249C': 3, 'YLR392C': 4, 'YNL102W': 5, 'YGL170C': 4, 'YDR422C': 5, 'YPL267W': 5, 'YOR229W': 2, 'YIL085C': 4, 'YGL240W': 5, 'YCR052W': 4, 'YGL254W': 5, 'YOL059W': 5, 'YHL031C': 4, 'YHR131C': 4, 'YHR026W': 4, 'YOR026W': 5, 'YOR358W': 5, 'YGR027C': 5, 'YOL135C': 4, 'YML106W': 3, 'YCR009C': 4, 'YCL054W': 6, 'YER056CA': 3, 'YER026C': 4, 'YPR051W': 5, 'YML042W': 2, 'YKR060W': 6, 'YGR232W': 6, 'YLR036C': 4, 'YDL189W': 3, 'YNL314W': 3, 'YBR276C': 4, 'YML008C': 5, 'YPR019W': 4, 'YDR174W': 2, 'YOR155C': 2, 'YNL236W': 3, 'YBL043W': 4, 'YDR383C': 2, 'YDL072C': 4, 'YEL048C': 4, 'YHR113W': 2, 'YPR182W': 4, 'YDR034C': 5, 'YGL054C': 4, 'YLR021W': 3, 'YOL126C': 4, 'YNL216W': 8, 'YDL012C': 3, 'YDR218C': 4, 'YFL003C': 5, 'YOR108W': 2, 'YML088W': 5, 'YJL117W': 4, 'YOR117W': 4, 'YNL049C': 5, 'YMR025W': 4, 'YJL057C': 6, 'YLR206W': 4, 'YLR284C': 5, 'YDR076W': 7, 'YDR508C': 5, 'YPR028W': 4, 'YML025C': 5, 'YLR096W': 4, 'YCR067C': 6, 'YGR269W': 6, 'YMR047C': 3, 'YFL017WA': 3, 'YML055W': 4, 'YGL015C': 3, 'YPL013C': 4, 'YHR072WA': 4}\n"
     ]
    }
   ],
   "source": [
    "print(path_lengths['YFL059W'])"
   ]
  },
  {
   "cell_type": "markdown",
   "metadata": {},
   "source": [
    "Given the structure of the nested mapping `path_lengths`, we know that `path_lengths[u][v]` is either an integer (length of shortest path from $u$ to $v$) or raises a `KeyError` exception (no path from $u$ to $v$).  We can then use a doubly nested loop to compute the characteristic path length:"
   ]
  },
  {
   "cell_type": "code",
   "execution_count": 34,
   "metadata": {
    "collapsed": false
   },
   "outputs": [
    {
     "name": "stdout",
     "output_type": "stream",
     "text": [
      "Characteristic Path Length L=3.73778335093\n",
      "Average Shortest Path Length L'=5.60675629759\n",
      "\n",
      "CPU times: user 1.83 s, sys: 0 ns, total: 1.83 s\n",
      "Wall time: 1.84 s\n"
     ]
    }
   ],
   "source": [
    "%%time \n",
    "\n",
    "# compute the `characteristic path length`\n",
    "\n",
    "nodes = G.nodes()\n",
    "\n",
    "total_path_len = 0.0\n",
    "connected_pairs = 0\n",
    "for u in nodes:\n",
    "    for v in nodes:\n",
    "        try:\n",
    "            total_path_len +=  path_lengths[u][v]\n",
    "            connected_pairs += 1\n",
    "        except KeyError:\n",
    "            # no path from `u` to `v`\n",
    "            pass\n",
    "\n",
    "print (\"Characteristic Path Length L={}\".format(total_path_len / (len(nodes)*(len(nodes)-1))))\n",
    "print (\"Average Shortest Path Length L'={}\".format(total_path_len / connected_pairs))\n",
    "print"
   ]
  },
  {
   "cell_type": "markdown",
   "metadata": {},
   "source": [
    "Let us package the whole procedure in a single ready-to-use function."
   ]
  },
  {
   "cell_type": "code",
   "execution_count": 35,
   "metadata": {
    "collapsed": true
   },
   "outputs": [],
   "source": [
    "def characteristic_path_length(G):\n",
    "    \"\"\"\n",
    "    Return the characteristic path length of graph `G`.\n",
    "    \"\"\"\n",
    "    path_lengths = nx.shortest_path_length(G)\n",
    "    nodes = G.nodes()\n",
    "    total_path_len = 0.0\n",
    "    for u in nodes:\n",
    "        for v in nodes:\n",
    "            try:\n",
    "                total_path_len +=  path_lengths[u][v]\n",
    "            except KeyError:\n",
    "                # no path from `u` to `v`\n",
    "                pass\n",
    "    return (total_path_len / (len(nodes)*(len(nodes)-1)))"
   ]
  },
  {
   "cell_type": "markdown",
   "metadata": {},
   "source": [
    "----"
   ]
  },
  {
   "cell_type": "markdown",
   "metadata": {},
   "source": [
    "## 1. Adjacency matrix"
   ]
  },
  {
   "cell_type": "markdown",
   "metadata": {},
   "source": [
    "The *adjacency matrix* $A$ of a graph is defined as follows:\n",
    "\n",
    "- rows and columns are indexed by graph vertices\n",
    "- an entry $A_{uv}$ is 1 if $u$ and $v$ are directly connected by an edge, and 0 otherwise\n",
    "\n",
    "Compute the 2nd power $A^2$; what do the entries of matrix $A^2$ represent?  \n",
    "\n",
    "More in general, compute the $k$-th power $A^k$. what do its entries represent?\n",
    "\n",
    "*(Hint: have a look at functions `networkx.adjacency_matrix`, the `.todense()` method of the returned matrix and `numpy.dot`)*"
   ]
  },
  {
   "cell_type": "code",
   "execution_count": null,
   "metadata": {
    "collapsed": true
   },
   "outputs": [],
   "source": []
  },
  {
   "cell_type": "markdown",
   "metadata": {},
   "source": [
    "## 2. Different kinds of random graphs"
   ]
  },
  {
   "cell_type": "markdown",
   "metadata": {},
   "source": [
    "`networkx` provides [functions for generating different types of graphs][1] / networks.  Create one instance of each of the following random graphs:\n",
    "\n",
    "* An Erdös-Rényi graph with $n=50$ vertices and $p=0.25$ probabily of connecting two vertices\n",
    "* A Watts-Strogatz graph (called Watts' $\\beta$-model in the lectures) with $n=50$ vertices, each vertex connected with its $k=2$ nearest neighbors, and $p=\\beta=0.25$ rewiring probability\n",
    "* A Barabási-Albert graph, with $m=5$ initial vertices and $n=50$ final (total) vertices.\n",
    "\n",
    "For each graph, draw the graph and plot the vertex degree distribution.\n",
    "\n",
    "How do the graphs differ?\n",
    "\n",
    "[1]: http://networkx.readthedocs.io/en/networkx-1.11/reference/generators.html"
   ]
  },
  {
   "cell_type": "code",
   "execution_count": null,
   "metadata": {
    "collapsed": true
   },
   "outputs": [],
   "source": []
  },
  {
   "cell_type": "markdown",
   "metadata": {},
   "source": [
    "## 3. Analyze a real-world graph dataset"
   ]
  },
  {
   "cell_type": "markdown",
   "metadata": {},
   "source": [
    "The `networkx` library provides also [I/O functions for importing and exporting graphs with various formats](http://networkx.readthedocs.io/en/networkx-1.11/reference/readwrite.html).\n",
    "\n",
    "Use the `networkx.read_graphml()` function to read a graph from file `starred.graphml`; it contains a (subset of) data from the UZH Science Cloud storage backend.\n",
    "\n",
    "Answer these questions:\n",
    "\n",
    "- what are the vertices with the top 2 degrees?\n",
    "- are these vertices connected by a path?\n",
    "- is the graph connected?\n",
    "- compute the average degree, clustering coefficient, and characteristic path length; does this graph resemble any of the graphs/networks we have seen so far?\n",
    "- what do the connected subgraphs look like?"
   ]
  },
  {
   "cell_type": "code",
   "execution_count": null,
   "metadata": {
    "collapsed": true
   },
   "outputs": [],
   "source": []
  },
  {
   "cell_type": "markdown",
   "metadata": {},
   "source": [
    "## 4. Play the \"Kevin Bacon\" game!\n",
    "\n",
    "**Optional:** Dataset is large, computations can take a loooong time and possibly crash the IPython kernel if done too naively. "
   ]
  },
  {
   "cell_type": "markdown",
   "metadata": {},
   "source": [
    "Connect to the `imdb` database on this server; define a graph thusly:\n",
    "\n",
    "- actors are vertices\n",
    "- two vertices are connected if the corresponding actors have starred in a movie together.\n",
    "\n",
    "Plot the number of actors at distance $n=1,2,3$ from Kevin Bacon (named `Kevin Bacon (I)` in the `actors_r` table).\n",
    "\n",
    "Actors and movie data are available from database `imdb` in tables `movies_r`, `actors_r`, and `starring_r`.  (The `*_r` tables only contain data for movies from 1990 to 2000; there are also `movie`, `actors`, and `starring` tables with the full IMDB dump -- 10x as large!)"
   ]
  },
  {
   "cell_type": "code",
   "execution_count": 36,
   "metadata": {
    "collapsed": false
   },
   "outputs": [
    {
     "data": {
      "text/plain": [
       "u'Connected: rmurri@imdb'"
      ]
     },
     "execution_count": 36,
     "metadata": {},
     "output_type": "execute_result"
    }
   ],
   "source": [
    "%sql postgresql://rmurri@/imdb"
   ]
  },
  {
   "cell_type": "code",
   "execution_count": 37,
   "metadata": {
    "collapsed": false
   },
   "outputs": [
    {
     "name": "stdout",
     "output_type": "stream",
     "text": [
      "3 rows affected.\n"
     ]
    },
    {
     "data": {
      "text/html": [
       "<table>\n",
       "    <tr>\n",
       "        <th>id</th>\n",
       "        <th>name</th>\n",
       "    </tr>\n",
       "    <tr>\n",
       "        <td>26</td>\n",
       "        <td>Michael 'babeepower' Viera </td>\n",
       "    </tr>\n",
       "    <tr>\n",
       "        <td>34</td>\n",
       "        <td>Joseph 'Byron' Sese </td>\n",
       "    </tr>\n",
       "    <tr>\n",
       "        <td>60</td>\n",
       "        <td>José 'El Francés' </td>\n",
       "    </tr>\n",
       "</table>"
      ],
      "text/plain": [
       "[(26, u\"Michael 'babeepower' Viera \"),\n",
       " (34, u\"Joseph 'Byron' Sese \"),\n",
       " (60, u\"Jos\\xe9 'El Franc\\xe9s' \")]"
      ]
     },
     "execution_count": 37,
     "metadata": {},
     "output_type": "execute_result"
    }
   ],
   "source": [
    "%sql SELECT * FROM actors_r LIMIT 3;"
   ]
  },
  {
   "cell_type": "code",
   "execution_count": 38,
   "metadata": {
    "collapsed": false
   },
   "outputs": [
    {
     "name": "stdout",
     "output_type": "stream",
     "text": [
      "1 rows affected.\n"
     ]
    },
    {
     "data": {
      "text/html": [
       "<table>\n",
       "    <tr>\n",
       "        <th>id</th>\n",
       "        <th>name</th>\n",
       "    </tr>\n",
       "    <tr>\n",
       "        <td>116637</td>\n",
       "        <td>Kevin Bacon (I)</td>\n",
       "    </tr>\n",
       "</table>"
      ],
      "text/plain": [
       "[(116637, u'Kevin Bacon (I)')]"
      ]
     },
     "execution_count": 38,
     "metadata": {},
     "output_type": "execute_result"
    }
   ],
   "source": [
    "%sql SELECT * FROM actors_r WHERE name = 'Kevin Bacon (I)';"
   ]
  },
  {
   "cell_type": "code",
   "execution_count": 39,
   "metadata": {
    "collapsed": false
   },
   "outputs": [
    {
     "name": "stdout",
     "output_type": "stream",
     "text": [
      "3 rows affected.\n"
     ]
    },
    {
     "data": {
      "text/html": [
       "<table>\n",
       "    <tr>\n",
       "        <th>id</th>\n",
       "        <th>title</th>\n",
       "        <th>year</th>\n",
       "    </tr>\n",
       "    <tr>\n",
       "        <td>31</td>\n",
       "        <td>Mixing Nia</td>\n",
       "        <td>1998</td>\n",
       "    </tr>\n",
       "    <tr>\n",
       "        <td>46</td>\n",
       "        <td>Mariano Mison... NBI</td>\n",
       "        <td>1997</td>\n",
       "    </tr>\n",
       "    <tr>\n",
       "        <td>79</td>\n",
       "        <td>Alma gitana</td>\n",
       "        <td>1996</td>\n",
       "    </tr>\n",
       "</table>"
      ],
      "text/plain": [
       "[(31, u'Mixing Nia', 1998),\n",
       " (46, u'Mariano Mison... NBI', 1997),\n",
       " (79, u'Alma gitana', 1996)]"
      ]
     },
     "execution_count": 39,
     "metadata": {},
     "output_type": "execute_result"
    }
   ],
   "source": [
    "%sql SELECT * FROM movies_r LIMIT 3;"
   ]
  },
  {
   "cell_type": "code",
   "execution_count": 40,
   "metadata": {
    "collapsed": false
   },
   "outputs": [
    {
     "name": "stdout",
     "output_type": "stream",
     "text": [
      "5 rows affected.\n"
     ]
    },
    {
     "data": {
      "text/html": [
       "<table>\n",
       "    <tr>\n",
       "        <th>actor_id</th>\n",
       "        <th>movie_id</th>\n",
       "    </tr>\n",
       "    <tr>\n",
       "        <td>2096811</td>\n",
       "        <td>16423</td>\n",
       "    </tr>\n",
       "    <tr>\n",
       "        <td>2046273</td>\n",
       "        <td>16423</td>\n",
       "    </tr>\n",
       "    <tr>\n",
       "        <td>1220103</td>\n",
       "        <td>16423</td>\n",
       "    </tr>\n",
       "    <tr>\n",
       "        <td>1220100</td>\n",
       "        <td>16423</td>\n",
       "    </tr>\n",
       "    <tr>\n",
       "        <td>1186033</td>\n",
       "        <td>16423</td>\n",
       "    </tr>\n",
       "</table>"
      ],
      "text/plain": [
       "[(2096811, 16423),\n",
       " (2046273, 16423),\n",
       " (1220103, 16423),\n",
       " (1220100, 16423),\n",
       " (1186033, 16423)]"
      ]
     },
     "execution_count": 40,
     "metadata": {},
     "output_type": "execute_result"
    }
   ],
   "source": [
    "%sql SELECT * FROM starring_r LIMIT 5;"
   ]
  },
  {
   "cell_type": "code",
   "execution_count": null,
   "metadata": {
    "collapsed": true
   },
   "outputs": [],
   "source": []
  },
  {
   "cell_type": "markdown",
   "metadata": {},
   "source": [
    "## 5. Characteristics of families of random graphs\n",
    "\n",
    "**Optional:** This exercise might require some Python programming experience!"
   ]
  },
  {
   "cell_type": "markdown",
   "metadata": {},
   "source": [
    "Make a plot of the three graph quantities *average vertex degree*, *clustering coefficient*, and *characteristic path length* for Erdös-Rényi graphs with $n=100$ vertices and probabilty $p$ of connecting two vertices (x-axis) ranging from 0 to 0.3 in steps of $0.3/20 = 0.015$. \n",
    "\n",
    "Nor make the same plots for the following graph families:\n",
    "\n",
    "* Watts-Strogatz (aka Watts $\\beta$-model) with $n=100$ vertices, $k=2$ connection to nearest neoghbors, and $p$ (on the x-axis) as for ER graphs\n",
    "* Barabási-Albert graphs with $n=100$ final vertices and $m=1,...,99$ initial vertices (x-axis)"
   ]
  },
  {
   "cell_type": "code",
   "execution_count": null,
   "metadata": {
    "collapsed": true
   },
   "outputs": [],
   "source": []
  }
 ],
 "metadata": {
  "kernelspec": {
   "display_name": "Python 2",
   "language": "python",
   "name": "python2"
  },
  "language_info": {
   "codemirror_mode": {
    "name": "ipython",
    "version": 2
   },
   "file_extension": ".py",
   "mimetype": "text/x-python",
   "name": "python",
   "nbconvert_exporter": "python",
   "pygments_lexer": "ipython2",
   "version": "2.7.13"
  }
 },
 "nbformat": 4,
 "nbformat_minor": 0
}
