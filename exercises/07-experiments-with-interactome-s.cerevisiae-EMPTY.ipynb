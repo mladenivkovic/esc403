{
 "cells": [
  {
   "cell_type": "markdown",
   "metadata": {},
   "source": [
    "# Preparing the environment"
   ]
  },
  {
   "cell_type": "markdown",
   "metadata": {},
   "source": [
    "## Graphics and plotting"
   ]
  },
  {
   "cell_type": "code",
   "execution_count": 1,
   "metadata": {
    "collapsed": true
   },
   "outputs": [],
   "source": [
    "# This line configures matplotlib to show figures embedded in the notebook, \n",
    "# instead of opening a new window for each figure. \n",
    "%matplotlib inline\n",
    "import matplotlib\n",
    "import matplotlib.pyplot as plt\n",
    "\n",
    "# general graphics settings\n",
    "matplotlib.rcParams['figure.figsize'] = (10, 7)"
   ]
  },
  {
   "cell_type": "code",
   "execution_count": 2,
   "metadata": {
    "collapsed": true
   },
   "outputs": [],
   "source": [
    "import seaborn as sea"
   ]
  },
  {
   "cell_type": "markdown",
   "metadata": {},
   "source": [
    "## SQL database connection"
   ]
  },
  {
   "cell_type": "markdown",
   "metadata": {},
   "source": [
    "Before we can use the `%sql` syntax, two steps must be taken:\n",
    "\n",
    "* Load the IPython-SQL bridge code:"
   ]
  },
  {
   "cell_type": "code",
   "execution_count": 3,
   "metadata": {
    "collapsed": false
   },
   "outputs": [],
   "source": [
    "%load_ext sql"
   ]
  },
  {
   "cell_type": "markdown",
   "metadata": {},
   "source": [
    "* Connect to an actual database; this must be the first `%sql` statement!"
   ]
  },
  {
   "cell_type": "code",
   "execution_count": 5,
   "metadata": {
    "collapsed": false
   },
   "outputs": [
    {
     "data": {
      "text/plain": [
       "u'Connected: mivkov@s_cerevisiae'"
      ]
     },
     "execution_count": 5,
     "metadata": {},
     "output_type": "execute_result"
    }
   ],
   "source": [
    "%sql postgresql://mivkov@/s_cerevisiae"
   ]
  },
  {
   "cell_type": "markdown",
   "metadata": {},
   "source": [
    "# Exploration of the Interactome *S. Cerevisiae* data set"
   ]
  },
  {
   "cell_type": "markdown",
   "metadata": {},
   "source": [
    "The `y2h_union` table lists interacting proteins (by name); a pair *(proteinA, proteinB)* appears in the table if *proteinA* interacts with *proteinB*.  Note that the \"interacts with\" relation need not be symmetric!\n",
    "\n",
    "This describes a *directed* graph, where the proteins are the vertices and each interaction defines an edge.\n",
    "\n",
    "Let us have a look at the `y2h_union` table:"
   ]
  },
  {
   "cell_type": "code",
   "execution_count": 37,
   "metadata": {
    "collapsed": false
   },
   "outputs": [
    {
     "name": "stdout",
     "output_type": "stream",
     "text": [
      "5 rows affected.\n"
     ]
    },
    {
     "data": {
      "text/html": [
       "<table>\n",
       "    <tr>\n",
       "        <th>symbol_a</th>\n",
       "        <th>symbol_b</th>\n",
       "    </tr>\n",
       "    <tr>\n",
       "        <td>Q0085</td>\n",
       "        <td>YCR106W</td>\n",
       "    </tr>\n",
       "    <tr>\n",
       "        <td>TORF1</td>\n",
       "        <td>YCR106W</td>\n",
       "    </tr>\n",
       "    <tr>\n",
       "        <td>TORF19</td>\n",
       "        <td>YDR361C</td>\n",
       "    </tr>\n",
       "    <tr>\n",
       "        <td>TORF21</td>\n",
       "        <td>YKR048C</td>\n",
       "    </tr>\n",
       "    <tr>\n",
       "        <td>TORF47</td>\n",
       "        <td>YCR106W</td>\n",
       "    </tr>\n",
       "</table>"
      ],
      "text/plain": [
       "[(u'Q0085', u'YCR106W'),\n",
       " (u'TORF1', u'YCR106W'),\n",
       " (u'TORF19', u'YDR361C'),\n",
       " (u'TORF21', u'YKR048C'),\n",
       " (u'TORF47', u'YCR106W')]"
      ]
     },
     "execution_count": 37,
     "metadata": {},
     "output_type": "execute_result"
    }
   ],
   "source": [
    "%sql select * from y2h_union limit 5;"
   ]
  },
  {
   "cell_type": "markdown",
   "metadata": {},
   "source": [
    "Alternatively, one can load the data from the `Y2H_union.tsv` file using only Python functions:"
   ]
  },
  {
   "cell_type": "code",
   "execution_count": 7,
   "metadata": {
    "collapsed": true
   },
   "outputs": [],
   "source": [
    "data = []\n",
    "with open('Y2H_union.tsv', 'r') as stream:\n",
    "    for line in stream:\n",
    "        data.append(line.split())"
   ]
  },
  {
   "cell_type": "code",
   "execution_count": 8,
   "metadata": {
    "collapsed": false
   },
   "outputs": [
    {
     "data": {
      "text/plain": [
       "[['MEL1', 'YJL092W'], ['Q0085', 'YCR106W'], ['TORF1', 'YCR106W']]"
      ]
     },
     "execution_count": 8,
     "metadata": {},
     "output_type": "execute_result"
    }
   ],
   "source": [
    "data[:3]"
   ]
  },
  {
   "cell_type": "markdown",
   "metadata": {},
   "source": [
    "----"
   ]
  },
  {
   "cell_type": "markdown",
   "metadata": {},
   "source": [
    "*Each of the following questions admit a solution using an algorithm in Python, or just an SQL query.*\n",
    "\n",
    "Use whichever suits you best."
   ]
  },
  {
   "cell_type": "markdown",
   "metadata": {},
   "source": [
    "## 1. How can you compute the \"in-degree\" of a given vertex?"
   ]
  },
  {
   "cell_type": "code",
   "execution_count": 30,
   "metadata": {
    "collapsed": true
   },
   "outputs": [],
   "source": [
    "pa, pb = zip(*data)\n"
   ]
  },
  {
   "cell_type": "code",
   "execution_count": 31,
   "metadata": {
    "collapsed": false
   },
   "outputs": [
    {
     "name": "stdout",
     "output_type": "stream",
     "text": [
      "4\n"
     ]
    }
   ],
   "source": [
    "indegree=0\n",
    "#name='MEL1'                 # 0\n",
    "#name='YJL092W'              # 3\n",
    "name='YCR106W'               # 4\n",
    "\n",
    "for b in pb:\n",
    "    if b == name:\n",
    "        indegree += 1\n",
    "\n",
    "print indegree"
   ]
  },
  {
   "cell_type": "markdown",
   "metadata": {},
   "source": [
    "## 2. How can you compute the \"out-degree\" of a given vertex?"
   ]
  },
  {
   "cell_type": "code",
   "execution_count": 41,
   "metadata": {
    "collapsed": false
   },
   "outputs": [
    {
     "name": "stdout",
     "output_type": "stream",
     "text": [
      "1\n"
     ]
    }
   ],
   "source": [
    "outdegree=0\n",
    "#name='MEL1'                 # 1\n",
    "#name='TORF1'                 # 1\n",
    "#name='Q0085'                 # 1\n",
    "#name='TORF19'                # 1\n",
    "name='TORF47'                # 1\n",
    "\n",
    "for a in pa:\n",
    "    if a == name:\n",
    "        outdegree += 1\n",
    "\n",
    "print outdegree"
   ]
  },
  {
   "cell_type": "markdown",
   "metadata": {},
   "source": [
    "## 3. How can you compute the degree (i.e., regardless of direction) of a given vertex"
   ]
  },
  {
   "cell_type": "code",
   "execution_count": 47,
   "metadata": {
    "collapsed": false
   },
   "outputs": [
    {
     "name": "stdout",
     "output_type": "stream",
     "text": [
      "20\n"
     ]
    }
   ],
   "source": [
    "ingoing=[]\n",
    "degree=0\n",
    "name='YCR106W'               # 4\n",
    "\n",
    "\n",
    "# get all ingoing degrees\n",
    "for i,b in enumerate(pb):\n",
    "    if b == name:\n",
    "        ingoing.append(pa[i])\n",
    "        degree+=1\n",
    "\n",
    "#get all outgoing degrees\n",
    "#test whether connection is already established \n",
    "for i,a in enumerate(pa):\n",
    "    if a == name and pb[i] not in ingoing:\n",
    "        degree+=1\n",
    "\n",
    "print degree\n"
   ]
  },
  {
   "cell_type": "markdown",
   "metadata": {},
   "source": [
    "## 4. How can you compute the vertex degree distribution?"
   ]
  },
  {
   "cell_type": "code",
   "execution_count": 90,
   "metadata": {
    "collapsed": false
   },
   "outputs": [
    {
     "name": "stdout",
     "output_type": "stream",
     "text": [
      "[ 4.  1.  1. ...,  2.  2.  3.]\n",
      "1.0 90.0\n"
     ]
    },
    {
     "data": {
      "text/plain": [
       "<matplotlib.text.Text at 0x7f30d71e7ad0>"
      ]
     },
     "execution_count": 90,
     "metadata": {},
     "output_type": "execute_result"
    },
    {
     "data": {
      "image/png": "[encoded data removed]",
      "text/plain": [
       "<matplotlib.figure.Figure at 0x7f30d727bed0>"
      ]
     },
     "metadata": {},
     "output_type": "display_data"
    }
   ],
   "source": [
    "import numpy as np\n",
    "# Get all proteins in a list\n",
    "\n",
    "allp=list(pa)\n",
    "for p in pb:\n",
    "    allp.append(p)\n",
    "\n",
    "\n",
    "# remove multiple entries\n",
    "allp=set(allp)\n",
    "\n",
    "# get number of proteins\n",
    "npro=len(allp)\n",
    "\n",
    "\n",
    "\n",
    "# define a function to find the degree\n",
    "def degree(p):\n",
    "    ingoing=[]\n",
    "    degree=0\n",
    "\n",
    "    # get all ingoing degrees\n",
    "    for i,b in enumerate(pb):\n",
    "        if b == p:\n",
    "            ingoing.append(pa[i])\n",
    "            degree+=1\n",
    "\n",
    "    #get all outgoing degrees\n",
    "    #test whether connection is already established \n",
    "    for i,a in enumerate(pa):\n",
    "        if a == p and pb[i] not in ingoing:\n",
    "             degree+=1\n",
    "\n",
    "    return degree\n",
    "\n",
    "\n",
    "\n",
    "\n",
    "\n",
    "\n",
    "\n",
    "# set up empty arrays\n",
    "prots=np.zeros(npro)\n",
    "\n",
    "# get degrees for each protein\n",
    "for i,p in enumerate(allp):\n",
    "    prots[i]=degree(p)\n",
    "    \n",
    "print prots\n",
    "\n",
    "\n",
    "maxdeg=max(prots)\n",
    "print mindeg, maxdeg\n",
    "ndegs=int(maxdeg)+1\n",
    "\n",
    "counts=np.zeros(ndegs)\n",
    "\n",
    "for i in prots:\n",
    "    counts[int(i)] +=1\n",
    "\n",
    "plt.plot(range(ndegs),counts)\n",
    "plt.xlabel('Nr of degrees')\n",
    "plt.ylabel('Nr of vertices')\n",
    "\n"
   ]
  },
  {
   "cell_type": "code",
   "execution_count": null,
   "metadata": {
    "collapsed": true
   },
   "outputs": [],
   "source": []
  }
 ],
 "metadata": {
  "kernelspec": {
   "display_name": "Python 2",
   "language": "python",
   "name": "python2"
  },
  "language_info": {
   "codemirror_mode": {
    "name": "ipython",
    "version": 2
   },
   "file_extension": ".py",
   "mimetype": "text/x-python",
   "name": "python",
   "nbconvert_exporter": "python",
   "pygments_lexer": "ipython2",
   "version": "2.7.13"
  }
 },
 "nbformat": 4,
 "nbformat_minor": 0
}
