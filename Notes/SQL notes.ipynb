{
 "cells": [
  {
   "cell_type": "markdown",
   "metadata": {},
   "source": [
    "# SQL NOTES"
   ]
  },
  {
   "cell_type": "markdown",
   "metadata": {},
   "source": [
    "The ESC403 cluster comes with [Catherine Devlin's `%sql`-magic for IPython][1]; this allows you to run SQL queries from the IPython notebook, and intermix them with Python code.\n",
    "\n",
    "[1]: https://github.com/catherinedevlin/ipython-sql"
   ]
  },
  {
   "cell_type": "markdown",
   "metadata": {},
   "source": [
    "Before we can use the `%sql` syntax, two steps must be taken:\n",
    "\n",
    "* Load the IPython-SQL bridge code"
   ]
  },
  {
   "cell_type": "code",
   "execution_count": 2,
   "metadata": {
    "collapsed": false
   },
   "outputs": [],
   "source": [
    "%load_ext sql\n"
   ]
  },
  {
   "cell_type": "markdown",
   "metadata": {},
   "source": [
    "* Connect to an actual database; this must be the first `%sql` statement (the funny `rmurri@/lustre` syntax is correct and means \"connect to the PostGreSQL DB named `lustre` running on *this* host as user `rmurri`\"  -- please replace `rmurri` with your local user name):"
   ]
  },
  {
   "cell_type": "code",
   "execution_count": 3,
   "metadata": {
    "collapsed": false
   },
   "outputs": [
    {
     "data": {
      "text/plain": [
       "u'Connected: mivkov@lustre'"
      ]
     },
     "execution_count": 3,
     "metadata": {},
     "output_type": "execute_result"
    }
   ],
   "source": [
    "%sql postgresql://mivkov@/lustre\n"
   ]
  },
  {
   "cell_type": "markdown",
   "metadata": {},
   "source": [
    "Now you can run 1-line SQL queries by prefixing them with `%sql`:"
   ]
  },
  {
   "cell_type": "code",
   "execution_count": 4,
   "metadata": {
    "collapsed": false
   },
   "outputs": [
    {
     "name": "stdout",
     "output_type": "stream",
     "text": [
      "5 rows affected.\n"
     ]
    },
    {
     "data": {
      "text/html": [
       "<table>\n",
       "    <tr>\n",
       "        <th>usr</th>\n",
       "        <th>grp</th>\n",
       "        <th>atime</th>\n",
       "        <th>mtime</th>\n",
       "        <th>blksize</th>\n",
       "        <th>size</th>\n",
       "        <th>path</th>\n",
       "    </tr>\n",
       "    <tr>\n",
       "        <td>usr388</td>\n",
       "        <td>i5105</td>\n",
       "        <td>1384452271</td>\n",
       "        <td>1384452271</td>\n",
       "        <td>4</td>\n",
       "        <td>2203</td>\n",
       "        <td>/scratch/bioc/usr388/VS_AllNow_libo_3WAT/ledock_pose/LIBO00170060_dock014.pdb</td>\n",
       "    </tr>\n",
       "    <tr>\n",
       "        <td>usr388</td>\n",
       "        <td>i5105</td>\n",
       "        <td>1384452311</td>\n",
       "        <td>1384452311</td>\n",
       "        <td>4</td>\n",
       "        <td>1708</td>\n",
       "        <td>/scratch/bioc/usr388/VS_AllNow_libo_3WAT/ledock_pose/LIBO00171011_dock014.pdb</td>\n",
       "    </tr>\n",
       "    <tr>\n",
       "        <td>usr388</td>\n",
       "        <td>i5105</td>\n",
       "        <td>1384452490</td>\n",
       "        <td>1384452490</td>\n",
       "        <td>4</td>\n",
       "        <td>1213</td>\n",
       "        <td>/scratch/bioc/usr388/VS_AllNow_libo_3WAT/ledock_pose/LIBO00174084_dock006.pdb</td>\n",
       "    </tr>\n",
       "    <tr>\n",
       "        <td>usr388</td>\n",
       "        <td>i5105</td>\n",
       "        <td>1384452674</td>\n",
       "        <td>1384452674</td>\n",
       "        <td>4</td>\n",
       "        <td>1488</td>\n",
       "        <td>/scratch/bioc/usr388/VS_AllNow_libo_3WAT/ledock_pose/LIBO00179374_dock004.pdb</td>\n",
       "    </tr>\n",
       "    <tr>\n",
       "        <td>usr388</td>\n",
       "        <td>i5105</td>\n",
       "        <td>1384453267</td>\n",
       "        <td>1384453267</td>\n",
       "        <td>4</td>\n",
       "        <td>1708</td>\n",
       "        <td>/scratch/bioc/usr388/VS_AllNow_libo_3WAT/ledock_pose/LIBO00205410_dock007.pdb</td>\n",
       "    </tr>\n",
       "</table>"
      ],
      "text/plain": [
       "[(u'usr388', u'i5105', 1384452271, 1384452271, 4, 2203L, u'/scratch/bioc/usr388/VS_AllNow_libo_3WAT/ledock_pose/LIBO00170060_dock014.pdb'),\n",
       " (u'usr388', u'i5105', 1384452311, 1384452311, 4, 1708L, u'/scratch/bioc/usr388/VS_AllNow_libo_3WAT/ledock_pose/LIBO00171011_dock014.pdb'),\n",
       " (u'usr388', u'i5105', 1384452490, 1384452490, 4, 1213L, u'/scratch/bioc/usr388/VS_AllNow_libo_3WAT/ledock_pose/LIBO00174084_dock006.pdb'),\n",
       " (u'usr388', u'i5105', 1384452674, 1384452674, 4, 1488L, u'/scratch/bioc/usr388/VS_AllNow_libo_3WAT/ledock_pose/LIBO00179374_dock004.pdb'),\n",
       " (u'usr388', u'i5105', 1384453267, 1384453267, 4, 1708L, u'/scratch/bioc/usr388/VS_AllNow_libo_3WAT/ledock_pose/LIBO00205410_dock007.pdb')]"
      ]
     },
     "execution_count": 4,
     "metadata": {},
     "output_type": "execute_result"
    }
   ],
   "source": [
    "%sql select * from lustre limit 5;"
   ]
  },
  {
   "cell_type": "markdown",
   "metadata": {},
   "source": [
    "It is also possible to run multi-line (or multiple) SQL queries by using the `%%sql` syntax instead.  Note that in this case the SQL instructions *must not* be on the same line as the `%%sql` magic marker:"
   ]
  },
  {
   "cell_type": "markdown",
   "metadata": {},
   "source": [
    "\n",
    "\n",
    "\n",
    "\n",
    "\n",
    "\n",
    "# Selection\n"
   ]
  },
  {
   "cell_type": "markdown",
   "metadata": {},
   "source": [
    "The SELECT statement is used to compute expressions in SQL. The result of evaluating a SELECT statement is again a relation (table). It allows composition of queries into larger expressions."
   ]
  },
  {
   "cell_type": "code",
   "execution_count": 5,
   "metadata": {
    "collapsed": false
   },
   "outputs": [
    {
     "name": "stdout",
     "output_type": "stream",
     "text": [
      "1 rows affected.\n"
     ]
    },
    {
     "data": {
      "text/html": [
       "<table>\n",
       "    <tr>\n",
       "        <th>?column?</th>\n",
       "    </tr>\n",
       "    <tr>\n",
       "        <td>something</td>\n",
       "    </tr>\n",
       "</table>"
      ],
      "text/plain": [
       "[('something',)]"
      ]
     },
     "execution_count": 5,
     "metadata": {},
     "output_type": "execute_result"
    }
   ],
   "source": [
    "#------------------------\n",
    "# Strings: single quotes\n",
    "#------------------------\n",
    "\n",
    "%sql select 'something' "
   ]
  },
  {
   "cell_type": "code",
   "execution_count": 6,
   "metadata": {
    "collapsed": false
   },
   "outputs": [
    {
     "name": "stdout",
     "output_type": "stream",
     "text": [
      "1 rows affected.\n"
     ]
    },
    {
     "data": {
      "text/html": [
       "<table>\n",
       "    <tr>\n",
       "        <th>column name</th>\n",
       "    </tr>\n",
       "    <tr>\n",
       "        <td>some string</td>\n",
       "    </tr>\n",
       "</table>"
      ],
      "text/plain": [
       "[('some string',)]"
      ]
     },
     "execution_count": 6,
     "metadata": {},
     "output_type": "execute_result"
    }
   ],
   "source": [
    "%sql select 'some string' as \"column name\""
   ]
  },
  {
   "cell_type": "markdown",
   "metadata": {},
   "source": [
    "Multiple expressions can be evaluated by separating them with a comma. They define different columns in the result table."
   ]
  },
  {
   "cell_type": "code",
   "execution_count": 7,
   "metadata": {
    "collapsed": false,
    "scrolled": true
   },
   "outputs": [
    {
     "name": "stdout",
     "output_type": "stream",
     "text": [
      "1 rows affected.\n"
     ]
    },
    {
     "data": {
      "text/html": [
       "<table>\n",
       "    <tr>\n",
       "        <th>?column?</th>\n",
       "        <th>?column?_1</th>\n",
       "    </tr>\n",
       "    <tr>\n",
       "        <td>foo</td>\n",
       "        <td>bar</td>\n",
       "    </tr>\n",
       "</table>"
      ],
      "text/plain": [
       "[('foo', 'bar')]"
      ]
     },
     "execution_count": 7,
     "metadata": {},
     "output_type": "execute_result"
    }
   ],
   "source": [
    "%sql select 'foo', 'bar' "
   ]
  },
  {
   "cell_type": "markdown",
   "metadata": {},
   "source": [
    "SELECT ... FROM ... WHERE returns a relation of all rows in a table that satisfy a certain predicate.\n",
    "\n",
    "\\* is a shorthand for “all column names”.\n",
    "limit INT shows only the (first) INT columns."
   ]
  },
  {
   "cell_type": "code",
   "execution_count": 10,
   "metadata": {
    "collapsed": false
   },
   "outputs": [
    {
     "name": "stdout",
     "output_type": "stream",
     "text": [
      "3 rows affected.\n"
     ]
    },
    {
     "data": {
      "text/html": [
       "<table>\n",
       "    <tr>\n",
       "        <th>usr</th>\n",
       "        <th>grp</th>\n",
       "        <th>atime</th>\n",
       "        <th>mtime</th>\n",
       "        <th>blksize</th>\n",
       "        <th>size</th>\n",
       "        <th>path</th>\n",
       "    </tr>\n",
       "    <tr>\n",
       "        <td>usr264</td>\n",
       "        <td>i5285</td>\n",
       "        <td>1379422142</td>\n",
       "        <td>1379422142</td>\n",
       "        <td>10692</td>\n",
       "        <td>10942224</td>\n",
       "        <td>/scratch/iftp/usr264/girichidis_like_22.7/version_456_lowres/output_00064/grav_00064.out00005</td>\n",
       "    </tr>\n",
       "    <tr>\n",
       "        <td>usr264</td>\n",
       "        <td>i5285</td>\n",
       "        <td>1379423438</td>\n",
       "        <td>1379423438</td>\n",
       "        <td>6668</td>\n",
       "        <td>6827216</td>\n",
       "        <td>/scratch/iftp/usr264/girichidis_like_22.7/version_456_lowres/output_00065/amr_00065.out00090</td>\n",
       "    </tr>\n",
       "    <tr>\n",
       "        <td>usr264</td>\n",
       "        <td>i5285</td>\n",
       "        <td>1379423438</td>\n",
       "        <td>1379423439</td>\n",
       "        <td>12840</td>\n",
       "        <td>13142380</td>\n",
       "        <td>/scratch/iftp/usr264/girichidis_like_22.7/version_456_lowres/output_00065/hydro_00065.out00001</td>\n",
       "    </tr>\n",
       "</table>"
      ],
      "text/plain": [
       "[(u'usr264', u'i5285', 1379422142, 1379422142, 10692, 10942224L, u'/scratch/iftp/usr264/girichidis_like_22.7/version_456_lowres/output_00064/grav_00064.out00005'),\n",
       " (u'usr264', u'i5285', 1379423438, 1379423438, 6668, 6827216L, u'/scratch/iftp/usr264/girichidis_like_22.7/version_456_lowres/output_00065/amr_00065.out00090'),\n",
       " (u'usr264', u'i5285', 1379423438, 1379423439, 12840, 13142380L, u'/scratch/iftp/usr264/girichidis_like_22.7/version_456_lowres/output_00065/hydro_00065.out00001')]"
      ]
     },
     "execution_count": 10,
     "metadata": {},
     "output_type": "execute_result"
    }
   ],
   "source": [
    "%%sql\n",
    "\n",
    "/* comments are done this way. */\n",
    "/* must be after %%sql */\n",
    "-- or like this\n",
    "\n",
    "----------------------------------------\n",
    "-- select from a database\n",
    "----------------------------------------\n",
    "\n",
    "select * \n",
    "from lustre_sample\n",
    "-- limit the number of columns used/printed\n",
    "limit 3"
   ]
  },
  {
   "cell_type": "code",
   "execution_count": 11,
   "metadata": {
    "collapsed": false
   },
   "outputs": [
    {
     "name": "stdout",
     "output_type": "stream",
     "text": [
      "3 rows affected.\n"
     ]
    },
    {
     "data": {
      "text/html": [
       "<table>\n",
       "    <tr>\n",
       "        <th>usr</th>\n",
       "        <th>grp</th>\n",
       "        <th>atime</th>\n",
       "        <th>mtime</th>\n",
       "        <th>blksize</th>\n",
       "        <th>size</th>\n",
       "        <th>path</th>\n",
       "    </tr>\n",
       "    <tr>\n",
       "        <td>usr388</td>\n",
       "        <td>i5105</td>\n",
       "        <td>1384515907</td>\n",
       "        <td>1384515907</td>\n",
       "        <td>4</td>\n",
       "        <td>1488</td>\n",
       "        <td>/scratch/bioc/usr388/VS_AllNow_libo_3WAT_end/d353/LIBO00362035_dock002.pdb</td>\n",
       "    </tr>\n",
       "    <tr>\n",
       "        <td>usr388</td>\n",
       "        <td>i5105</td>\n",
       "        <td>1384515910</td>\n",
       "        <td>1384515910</td>\n",
       "        <td>4</td>\n",
       "        <td>2313</td>\n",
       "        <td>/scratch/bioc/usr388/VS_AllNow_libo_3WAT_end/d353/LIBO00362130_dock006.pdb</td>\n",
       "    </tr>\n",
       "    <tr>\n",
       "        <td>usr388</td>\n",
       "        <td>i5105</td>\n",
       "        <td>1384515910</td>\n",
       "        <td>1384515910</td>\n",
       "        <td>4</td>\n",
       "        <td>1488</td>\n",
       "        <td>/scratch/bioc/usr388/VS_AllNow_libo_3WAT_end/d353/LIBO00362156_dock007.pdb</td>\n",
       "    </tr>\n",
       "</table>"
      ],
      "text/plain": [
       "[(u'usr388', u'i5105', 1384515907, 1384515907, 4, 1488L, u'/scratch/bioc/usr388/VS_AllNow_libo_3WAT_end/d353/LIBO00362035_dock002.pdb'),\n",
       " (u'usr388', u'i5105', 1384515910, 1384515910, 4, 2313L, u'/scratch/bioc/usr388/VS_AllNow_libo_3WAT_end/d353/LIBO00362130_dock006.pdb'),\n",
       " (u'usr388', u'i5105', 1384515910, 1384515910, 4, 1488L, u'/scratch/bioc/usr388/VS_AllNow_libo_3WAT_end/d353/LIBO00362156_dock007.pdb')]"
      ]
     },
     "execution_count": 11,
     "metadata": {},
     "output_type": "execute_result"
    }
   ],
   "source": [
    "%%sql \n",
    "select * \n",
    "from lustre_sample \n",
    "where usr='usr388' -- pick specific rows\n",
    "limit 3"
   ]
  },
  {
   "cell_type": "code",
   "execution_count": 12,
   "metadata": {
    "collapsed": false
   },
   "outputs": [
    {
     "name": "stdout",
     "output_type": "stream",
     "text": [
      "3 rows affected.\n"
     ]
    },
    {
     "data": {
      "text/html": [
       "<table>\n",
       "    <tr>\n",
       "        <th>usr</th>\n",
       "        <th>grp</th>\n",
       "        <th>atime</th>\n",
       "        <th>mtime</th>\n",
       "        <th>blksize</th>\n",
       "        <th>size</th>\n",
       "        <th>path</th>\n",
       "    </tr>\n",
       "    <tr>\n",
       "        <td>usr25</td>\n",
       "        <td>i5105</td>\n",
       "        <td>1375180846</td>\n",
       "        <td>1375187555</td>\n",
       "        <td>338012444</td>\n",
       "        <td>346124300004</td>\n",
       "        <td>/scratch/bioc/usr25/fegs/syk/coor.bin</td>\n",
       "    </tr>\n",
       "    <tr>\n",
       "        <td>usr345</td>\n",
       "        <td>i5535</td>\n",
       "        <td>1393549458</td>\n",
       "        <td>1392930066</td>\n",
       "        <td>136481476</td>\n",
       "        <td>139756472534</td>\n",
       "        <td>/scratch/aim/usr345/bams/recal/PA_A955_recal.bam</td>\n",
       "    </tr>\n",
       "    <tr>\n",
       "        <td>usr345</td>\n",
       "        <td>i5535</td>\n",
       "        <td>1393549452</td>\n",
       "        <td>1392940968</td>\n",
       "        <td>124641616</td>\n",
       "        <td>127632540122</td>\n",
       "        <td>/scratch/aim/usr345/bams/recal/PP_A939_recal.bam</td>\n",
       "    </tr>\n",
       "</table>"
      ],
      "text/plain": [
       "[(u'usr25', u'i5105', 1375180846, 1375187555, 338012444, 346124300004L, u'/scratch/bioc/usr25/fegs/syk/coor.bin'),\n",
       " (u'usr345', u'i5535', 1393549458, 1392930066, 136481476, 139756472534L, u'/scratch/aim/usr345/bams/recal/PA_A955_recal.bam'),\n",
       " (u'usr345', u'i5535', 1393549452, 1392940968, 124641616, 127632540122L, u'/scratch/aim/usr345/bams/recal/PP_A939_recal.bam')]"
      ]
     },
     "execution_count": 12,
     "metadata": {},
     "output_type": "execute_result"
    }
   ],
   "source": [
    "%%sql \n",
    "select * \n",
    "from lustre_sample \n",
    "where size>=100000000000 -- pick specific rows\n",
    "limit 3"
   ]
  },
  {
   "cell_type": "code",
   "execution_count": 13,
   "metadata": {
    "collapsed": false
   },
   "outputs": [
    {
     "name": "stdout",
     "output_type": "stream",
     "text": [
      "3 rows affected.\n"
     ]
    },
    {
     "data": {
      "text/html": [
       "<table>\n",
       "    <tr>\n",
       "        <th>usr</th>\n",
       "        <th>grp</th>\n",
       "        <th>atime</th>\n",
       "        <th>mtime</th>\n",
       "        <th>blksize</th>\n",
       "        <th>size</th>\n",
       "        <th>path</th>\n",
       "    </tr>\n",
       "    <tr>\n",
       "        <td>usr345</td>\n",
       "        <td>i5535</td>\n",
       "        <td>1391658149</td>\n",
       "        <td>1391658149</td>\n",
       "        <td>4</td>\n",
       "        <td>773</td>\n",
       "        <td>/scratch/aim/usr345/bwa/output_phase2/PA_A964/C00W1ABXX_F_6_sorted_marked_realigned_fastqc/summary.txt</td>\n",
       "    </tr>\n",
       "    <tr>\n",
       "        <td>usr345</td>\n",
       "        <td>i5535</td>\n",
       "        <td>1391651630</td>\n",
       "        <td>1391651630</td>\n",
       "        <td>4</td>\n",
       "        <td>773</td>\n",
       "        <td>/scratch/aim/usr345/bwa/output_phase2/PP_A942/81MD6ABXX_E_4_sorted_marked_realigned_fastqc/summary.txt</td>\n",
       "    </tr>\n",
       "    <tr>\n",
       "        <td>usr345</td>\n",
       "        <td>i5535</td>\n",
       "        <td>1391666264</td>\n",
       "        <td>1391666264</td>\n",
       "        <td>4</td>\n",
       "        <td>773</td>\n",
       "        <td>/scratch/aim/usr345/bwa/output_phase2/PP_A942/C002LABXX_F_3_sorted_marked_realigned_fastqc/summary.txt</td>\n",
       "    </tr>\n",
       "</table>"
      ],
      "text/plain": [
       "[(u'usr345', u'i5535', 1391658149, 1391658149, 4, 773L, u'/scratch/aim/usr345/bwa/output_phase2/PA_A964/C00W1ABXX_F_6_sorted_marked_realigned_fastqc/summary.txt'),\n",
       " (u'usr345', u'i5535', 1391651630, 1391651630, 4, 773L, u'/scratch/aim/usr345/bwa/output_phase2/PP_A942/81MD6ABXX_E_4_sorted_marked_realigned_fastqc/summary.txt'),\n",
       " (u'usr345', u'i5535', 1391666264, 1391666264, 4, 773L, u'/scratch/aim/usr345/bwa/output_phase2/PP_A942/C002LABXX_F_3_sorted_marked_realigned_fastqc/summary.txt')]"
      ]
     },
     "execution_count": 13,
     "metadata": {},
     "output_type": "execute_result"
    }
   ],
   "source": [
    "%%sql\n",
    "select *\n",
    "from lustre_sample\n",
    "where length(path) = 102 -- pick specific rows\n",
    "limit 3"
   ]
  },
  {
   "cell_type": "code",
   "execution_count": 17,
   "metadata": {
    "collapsed": false
   },
   "outputs": [
    {
     "name": "stdout",
     "output_type": "stream",
     "text": [
      "3 rows affected.\n"
     ]
    },
    {
     "data": {
      "text/html": [
       "<table>\n",
       "    <tr>\n",
       "        <th>usr</th>\n",
       "        <th>size</th>\n",
       "    </tr>\n",
       "    <tr>\n",
       "        <td>usr264</td>\n",
       "        <td>10942224</td>\n",
       "    </tr>\n",
       "    <tr>\n",
       "        <td>usr264</td>\n",
       "        <td>6827216</td>\n",
       "    </tr>\n",
       "    <tr>\n",
       "        <td>usr264</td>\n",
       "        <td>13142380</td>\n",
       "    </tr>\n",
       "</table>"
      ],
      "text/plain": [
       "[(u'usr264', 10942224L), (u'usr264', 6827216L), (u'usr264', 13142380L)]"
      ]
     },
     "execution_count": 17,
     "metadata": {},
     "output_type": "execute_result"
    }
   ],
   "source": [
    "%%sql\n",
    "---------------------------------\n",
    "-- select only certain columns \n",
    "---------------------------------\n",
    "\n",
    "select usr,size\n",
    "from lustre_sample\n",
    "limit 3"
   ]
  },
  {
   "cell_type": "code",
   "execution_count": 18,
   "metadata": {
    "collapsed": false
   },
   "outputs": [
    {
     "name": "stdout",
     "output_type": "stream",
     "text": [
      "3 rows affected.\n"
     ]
    },
    {
     "data": {
      "text/html": [
       "<table>\n",
       "    <tr>\n",
       "        <th>usr</th>\n",
       "    </tr>\n",
       "    <tr>\n",
       "        <td>usr25</td>\n",
       "    </tr>\n",
       "    <tr>\n",
       "        <td>usr324</td>\n",
       "    </tr>\n",
       "    <tr>\n",
       "        <td>usr234</td>\n",
       "    </tr>\n",
       "</table>"
      ],
      "text/plain": [
       "[(u'usr25',), (u'usr324',), (u'usr234',)]"
      ]
     },
     "execution_count": 18,
     "metadata": {},
     "output_type": "execute_result"
    }
   ],
   "source": [
    "%%sql\n",
    "------------------------------\n",
    "--select only unique rows\n",
    "------------------------------\n",
    "\n",
    "select distinct usr\n",
    "from lustre_sample\n",
    "limit 3\n"
   ]
  },
  {
   "cell_type": "code",
   "execution_count": 19,
   "metadata": {
    "collapsed": false
   },
   "outputs": [
    {
     "name": "stdout",
     "output_type": "stream",
     "text": [
      "3 rows affected.\n"
     ]
    },
    {
     "data": {
      "text/html": [
       "<table>\n",
       "    <tr>\n",
       "        <th>usr</th>\n",
       "        <th>size</th>\n",
       "    </tr>\n",
       "    <tr>\n",
       "        <td>us293</td>\n",
       "        <td>258</td>\n",
       "    </tr>\n",
       "    <tr>\n",
       "        <td>us293</td>\n",
       "        <td>260</td>\n",
       "    </tr>\n",
       "    <tr>\n",
       "        <td>us293</td>\n",
       "        <td>261</td>\n",
       "    </tr>\n",
       "</table>"
      ],
      "text/plain": [
       "[(u'us293', 258L), (u'us293', 260L), (u'us293', 261L)]"
      ]
     },
     "execution_count": 19,
     "metadata": {},
     "output_type": "execute_result"
    }
   ],
   "source": [
    "%%sql\n",
    "------------------------------\n",
    "-- select only unique rows\n",
    "------------------------------\n",
    "\n",
    "select distinct usr,size\n",
    "from lustre_sample\n",
    "limit 3\n"
   ]
  },
  {
   "cell_type": "markdown",
   "metadata": {},
   "source": [
    "# Ordering"
   ]
  },
  {
   "cell_type": "code",
   "execution_count": 20,
   "metadata": {
    "collapsed": false
   },
   "outputs": [
    {
     "name": "stdout",
     "output_type": "stream",
     "text": [
      "3 rows affected.\n"
     ]
    },
    {
     "data": {
      "text/html": [
       "<table>\n",
       "    <tr>\n",
       "        <th>usr</th>\n",
       "    </tr>\n",
       "    <tr>\n",
       "        <td>us293</td>\n",
       "    </tr>\n",
       "    <tr>\n",
       "        <td>us319</td>\n",
       "    </tr>\n",
       "    <tr>\n",
       "        <td>us320</td>\n",
       "    </tr>\n",
       "</table>"
      ],
      "text/plain": [
       "[(u'us293',), (u'us319',), (u'us320',)]"
      ]
     },
     "execution_count": 20,
     "metadata": {},
     "output_type": "execute_result"
    }
   ],
   "source": [
    "%%sql\n",
    "\n",
    "------------------------------------\n",
    "-- order by column usr, ascending\n",
    "------------------------------------\n",
    "\n",
    "select distinct usr\n",
    "from lustre_sample\n",
    "order by usr asc\n",
    "limit 3"
   ]
  },
  {
   "cell_type": "code",
   "execution_count": 21,
   "metadata": {
    "collapsed": false
   },
   "outputs": [
    {
     "name": "stdout",
     "output_type": "stream",
     "text": [
      "3 rows affected.\n"
     ]
    },
    {
     "data": {
      "text/html": [
       "<table>\n",
       "    <tr>\n",
       "        <th>usr</th>\n",
       "    </tr>\n",
       "    <tr>\n",
       "        <td>usr75</td>\n",
       "    </tr>\n",
       "    <tr>\n",
       "        <td>usr394</td>\n",
       "    </tr>\n",
       "    <tr>\n",
       "        <td>usr390</td>\n",
       "    </tr>\n",
       "</table>"
      ],
      "text/plain": [
       "[(u'usr75',), (u'usr394',), (u'usr390',)]"
      ]
     },
     "execution_count": 21,
     "metadata": {},
     "output_type": "execute_result"
    }
   ],
   "source": [
    "%%sql\n",
    "------------------------------------\n",
    "-- order by column usr, descending\n",
    "------------------------------------\n",
    "\n",
    "select distinct usr\n",
    "from lustre_sample\n",
    "order by usr desc\n",
    "limit 3"
   ]
  },
  {
   "cell_type": "markdown",
   "metadata": {},
   "source": [
    "# Aggregate functions\n",
    "\n",
    "By default, aggregation is over all selected rows. \n",
    "\n",
    "A GROUP BY clause can be used to specify how rows should be grouped; expressions involving aggregate functions will be computed once per each group.\n",
    "\n",
    "An additional HAVING clause applies a predicate to further select groups based on some expression."
   ]
  },
  {
   "cell_type": "code",
   "execution_count": 22,
   "metadata": {
    "collapsed": false
   },
   "outputs": [
    {
     "name": "stdout",
     "output_type": "stream",
     "text": [
      "1 rows affected.\n"
     ]
    },
    {
     "data": {
      "text/html": [
       "<table>\n",
       "    <tr>\n",
       "        <th>avg</th>\n",
       "    </tr>\n",
       "    <tr>\n",
       "        <td>5170994.219224082372</td>\n",
       "    </tr>\n",
       "</table>"
      ],
      "text/plain": [
       "[(Decimal('5170994.219224082372'),)]"
      ]
     },
     "execution_count": 22,
     "metadata": {},
     "output_type": "execute_result"
    }
   ],
   "source": [
    "#----------\n",
    "# average\n",
    "#----------\n",
    "%sql select avg(size) from lustre_sample"
   ]
  },
  {
   "cell_type": "code",
   "execution_count": 23,
   "metadata": {
    "collapsed": false
   },
   "outputs": [
    {
     "name": "stdout",
     "output_type": "stream",
     "text": [
      "1 rows affected.\n"
     ]
    },
    {
     "data": {
      "text/html": [
       "<table>\n",
       "    <tr>\n",
       "        <th>max</th>\n",
       "    </tr>\n",
       "    <tr>\n",
       "        <td>346124300004</td>\n",
       "    </tr>\n",
       "</table>"
      ],
      "text/plain": [
       "[(346124300004L,)]"
      ]
     },
     "execution_count": 23,
     "metadata": {},
     "output_type": "execute_result"
    }
   ],
   "source": [
    "#--------\n",
    "# max\n",
    "#--------\n",
    "%sql select max(size) from lustre_sample"
   ]
  },
  {
   "cell_type": "code",
   "execution_count": 24,
   "metadata": {
    "collapsed": false
   },
   "outputs": [
    {
     "name": "stdout",
     "output_type": "stream",
     "text": [
      "1 rows affected.\n"
     ]
    },
    {
     "data": {
      "text/html": [
       "<table>\n",
       "    <tr>\n",
       "        <th>min</th>\n",
       "    </tr>\n",
       "    <tr>\n",
       "        <td>0</td>\n",
       "    </tr>\n",
       "</table>"
      ],
      "text/plain": [
       "[(0L,)]"
      ]
     },
     "execution_count": 24,
     "metadata": {},
     "output_type": "execute_result"
    }
   ],
   "source": [
    "#---------\n",
    "# min\n",
    "#---------\n",
    "\n",
    "%sql select min(size) from lustre_sample"
   ]
  },
  {
   "cell_type": "code",
   "execution_count": 25,
   "metadata": {
    "collapsed": false
   },
   "outputs": [
    {
     "name": "stdout",
     "output_type": "stream",
     "text": [
      "1 rows affected.\n"
     ]
    },
    {
     "data": {
      "text/html": [
       "<table>\n",
       "    <tr>\n",
       "        <th>count</th>\n",
       "    </tr>\n",
       "    <tr>\n",
       "        <td>1519053</td>\n",
       "    </tr>\n",
       "</table>"
      ],
      "text/plain": [
       "[(1519053L,)]"
      ]
     },
     "execution_count": 25,
     "metadata": {},
     "output_type": "execute_result"
    }
   ],
   "source": [
    "#----------\n",
    "# count\n",
    "#----------\n",
    "%sql select count(size) from lustre_sample"
   ]
  },
  {
   "cell_type": "code",
   "execution_count": 26,
   "metadata": {
    "collapsed": false
   },
   "outputs": [
    {
     "name": "stdout",
     "output_type": "stream",
     "text": [
      "3 rows affected.\n"
     ]
    },
    {
     "data": {
      "text/html": [
       "<table>\n",
       "    <tr>\n",
       "        <th>usr</th>\n",
       "        <th>avg</th>\n",
       "    </tr>\n",
       "    <tr>\n",
       "        <td>usr25</td>\n",
       "        <td>90882260.016532721010</td>\n",
       "    </tr>\n",
       "    <tr>\n",
       "        <td>usr324</td>\n",
       "        <td>1942829.153247914184</td>\n",
       "    </tr>\n",
       "    <tr>\n",
       "        <td>usr234</td>\n",
       "        <td>1336169.992317148125</td>\n",
       "    </tr>\n",
       "</table>"
      ],
      "text/plain": [
       "[(u'usr25', Decimal('90882260.016532721010')),\n",
       " (u'usr324', Decimal('1942829.153247914184')),\n",
       " (u'usr234', Decimal('1336169.992317148125'))]"
      ]
     },
     "execution_count": 26,
     "metadata": {},
     "output_type": "execute_result"
    }
   ],
   "source": [
    "%%sql \n",
    "------------------------------------\n",
    "-- Grouping rows together first\n",
    "------------------------------------\n",
    "\n",
    "select usr, avg(size) \n",
    "from lustre_sample \n",
    "group by usr \n",
    "limit 3"
   ]
  },
  {
   "cell_type": "code",
   "execution_count": 27,
   "metadata": {
    "collapsed": false,
    "scrolled": true
   },
   "outputs": [
    {
     "name": "stdout",
     "output_type": "stream",
     "text": [
      "3 rows affected.\n"
     ]
    },
    {
     "data": {
      "text/html": [
       "<table>\n",
       "    <tr>\n",
       "        <th>usr</th>\n",
       "        <th>avg</th>\n",
       "    </tr>\n",
       "    <tr>\n",
       "        <td>usr324</td>\n",
       "        <td>1942829.153247914184</td>\n",
       "    </tr>\n",
       "    <tr>\n",
       "        <td>usr246</td>\n",
       "        <td>3621718.400295508274</td>\n",
       "    </tr>\n",
       "    <tr>\n",
       "        <td>usr264</td>\n",
       "        <td>21193713.232901487469</td>\n",
       "    </tr>\n",
       "</table>"
      ],
      "text/plain": [
       "[(u'usr324', Decimal('1942829.153247914184')),\n",
       " (u'usr246', Decimal('3621718.400295508274')),\n",
       " (u'usr264', Decimal('21193713.232901487469'))]"
      ]
     },
     "execution_count": 27,
     "metadata": {},
     "output_type": "execute_result"
    }
   ],
   "source": [
    "%%sql\n",
    "\n",
    "--------------------------------------------------------------------------------------------------------------\n",
    "-- compute average file size per user, but only consider users that have at least 10000 files on the system \n",
    "--------------------------------------------------------------------------------------------------------------\n",
    "\n",
    "select usr, avg(size) \n",
    "from lustre_sample \n",
    "group by usr \n",
    "having count(path)>10000\n",
    "limit 3"
   ]
  },
  {
   "cell_type": "markdown",
   "metadata": {},
   "source": [
    "# Creating, deleting, altering, updating tables\n"
   ]
  },
  {
   "cell_type": "code",
   "execution_count": 49,
   "metadata": {
    "collapsed": false
   },
   "outputs": [
    {
     "name": "stdout",
     "output_type": "stream",
     "text": [
      "Done.\n"
     ]
    },
    {
     "data": {
      "text/plain": [
       "[]"
      ]
     },
     "execution_count": 49,
     "metadata": {},
     "output_type": "execute_result"
    }
   ],
   "source": [
    "%%sql\n",
    "\n",
    "--------------------\n",
    "-- creating tables\n",
    "--------------------\n",
    "\n",
    "create table myMovieTable(              -- also possible: create temporary table (deleted after session)\n",
    "        title         varchar(256),     -- string of up to 256 chars, padded with spaces\n",
    "        length        bigint,           -- long integer; also integer, smallint\n",
    "        rating        float ,           -- floating point number; also real, double precision\n",
    "        release_date  date              -- date; also time, timestamp\n",
    "        )"
   ]
  },
  {
   "cell_type": "code",
   "execution_count": 50,
   "metadata": {
    "collapsed": false
   },
   "outputs": [
    {
     "name": "stdout",
     "output_type": "stream",
     "text": [
      "1 rows affected.\n",
      "1 rows affected.\n"
     ]
    },
    {
     "data": {
      "text/html": [
       "<table>\n",
       "    <tr>\n",
       "        <th>title</th>\n",
       "        <th>length</th>\n",
       "        <th>rating</th>\n",
       "        <th>release_date</th>\n",
       "    </tr>\n",
       "    <tr>\n",
       "        <td>Star Wars</td>\n",
       "        <td>124</td>\n",
       "        <td>8.7</td>\n",
       "        <td>1977-05-25</td>\n",
       "    </tr>\n",
       "</table>"
      ],
      "text/plain": [
       "[(u'Star Wars', 124L, 8.7, datetime.date(1977, 5, 25))]"
      ]
     },
     "execution_count": 50,
     "metadata": {},
     "output_type": "execute_result"
    }
   ],
   "source": [
    "%%sql\n",
    "\n",
    "-------------------------------\n",
    "-- inserting stuff into tables\n",
    "-------------------------------\n",
    "\n",
    "insert into myMovieTable(title,length,rating,release_date)\n",
    "VALUES ('Star Wars', 124, 8.7, DATE '1977-05-25');\n",
    "\n",
    "-- print table out\n",
    "\n",
    "select * from myMovieTable limit 5"
   ]
  },
  {
   "cell_type": "code",
   "execution_count": 53,
   "metadata": {
    "collapsed": false
   },
   "outputs": [
    {
     "name": "stdout",
     "output_type": "stream",
     "text": [
      "1 rows affected.\n",
      "1 rows affected.\n"
     ]
    },
    {
     "data": {
      "text/html": [
       "<table>\n",
       "    <tr>\n",
       "        <th>title</th>\n",
       "        <th>length</th>\n",
       "        <th>rating</th>\n",
       "        <th>release_date</th>\n",
       "    </tr>\n",
       "    <tr>\n",
       "        <td>Star Wars</td>\n",
       "        <td>124</td>\n",
       "        <td>9.2</td>\n",
       "        <td>1977-05-25</td>\n",
       "    </tr>\n",
       "</table>"
      ],
      "text/plain": [
       "[(u'Star Wars', 124L, 9.2, datetime.date(1977, 5, 25))]"
      ]
     },
     "execution_count": 53,
     "metadata": {},
     "output_type": "execute_result"
    }
   ],
   "source": [
    "%%sql\n",
    "\n",
    "---------------------------------------\n",
    "-- update a value in an existing row\n",
    "---------------------------------------\n",
    "\n",
    "-- Here: update rating\n",
    "    \n",
    "update myMovieTable\n",
    "set \"rating\"=9.2 where \"title\"='Star Wars';\n",
    "\n",
    "select * from myMovieTable;"
   ]
  },
  {
   "cell_type": "code",
   "execution_count": 51,
   "metadata": {
    "collapsed": false
   },
   "outputs": [
    {
     "name": "stdout",
     "output_type": "stream",
     "text": [
      "Done.\n",
      "547554 rows affected.\n",
      "5 rows affected.\n"
     ]
    },
    {
     "data": {
      "text/html": [
       "<table>\n",
       "    <tr>\n",
       "        <th>path</th>\n",
       "        <th>size</th>\n",
       "    </tr>\n",
       "    <tr>\n",
       "        <td>/scratch/iftp/usr264/girichidis_like_22.7/version_456_lowres/output_00064/grav_00064.out00005</td>\n",
       "        <td>10942224</td>\n",
       "    </tr>\n",
       "    <tr>\n",
       "        <td>/scratch/iftp/usr264/girichidis_like_22.7/version_456_lowres/output_00065/amr_00065.out00090</td>\n",
       "        <td>6827216</td>\n",
       "    </tr>\n",
       "    <tr>\n",
       "        <td>/scratch/iftp/usr264/girichidis_like_22.7/version_456_lowres/output_00065/hydro_00065.out00001</td>\n",
       "        <td>13142380</td>\n",
       "    </tr>\n",
       "    <tr>\n",
       "        <td>/scratch/iftp/usr264/girichidis_like_22.7/version_456_lowres/output_00065/hydro_00065.out00015</td>\n",
       "        <td>6227500</td>\n",
       "    </tr>\n",
       "    <tr>\n",
       "        <td>/scratch/iftp/usr264/girichidis_like_22.7/version_456_lowres/output_00065/sink_00065.out</td>\n",
       "        <td>24387</td>\n",
       "    </tr>\n",
       "</table>"
      ],
      "text/plain": [
       "[(u'/scratch/iftp/usr264/girichidis_like_22.7/version_456_lowres/output_00064/grav_00064.out00005', 10942224L),\n",
       " (u'/scratch/iftp/usr264/girichidis_like_22.7/version_456_lowres/output_00065/amr_00065.out00090', 6827216L),\n",
       " (u'/scratch/iftp/usr264/girichidis_like_22.7/version_456_lowres/output_00065/hydro_00065.out00001', 13142380L),\n",
       " (u'/scratch/iftp/usr264/girichidis_like_22.7/version_456_lowres/output_00065/hydro_00065.out00015', 6227500L),\n",
       " (u'/scratch/iftp/usr264/girichidis_like_22.7/version_456_lowres/output_00065/sink_00065.out', 24387L)]"
      ]
     },
     "execution_count": 51,
     "metadata": {},
     "output_type": "execute_result"
    }
   ],
   "source": [
    "%%sql\n",
    "\n",
    "-------------------------------------------------------------------\n",
    "-- insert stuff into table from some other table with conditions\n",
    "-------------------------------------------------------------------\n",
    "-- Here: create new table, copy file paths from lustre_sample where filezise > 10000\n",
    "\n",
    "create temporary table someTable(\n",
    "            path varchar(256),\n",
    "            size bigint);\n",
    "\n",
    "insert into someTable (path, size)\n",
    "select path,size from lustre_sample\n",
    "where size>10000;\n",
    "\n",
    "select * from someTable\n",
    "limit 5"
   ]
  },
  {
   "cell_type": "code",
   "execution_count": 54,
   "metadata": {
    "collapsed": false
   },
   "outputs": [
    {
     "name": "stdout",
     "output_type": "stream",
     "text": [
      "Done.\n",
      "Done.\n"
     ]
    },
    {
     "data": {
      "text/plain": [
       "[]"
      ]
     },
     "execution_count": 54,
     "metadata": {},
     "output_type": "execute_result"
    }
   ],
   "source": [
    "#################\n",
    "# Delete tables\n",
    "#################\n",
    "%sql drop table myMovieTable\n",
    "%sql drop table someTable"
   ]
  },
  {
   "cell_type": "code",
   "execution_count": 58,
   "metadata": {
    "collapsed": false
   },
   "outputs": [
    {
     "name": "stdout",
     "output_type": "stream",
     "text": [
      "Done.\n",
      "225610 rows affected.\n",
      "Done.\n",
      "225610 rows affected.\n",
      "5 rows affected.\n"
     ]
    },
    {
     "data": {
      "text/html": [
       "<table>\n",
       "    <tr>\n",
       "        <th>path</th>\n",
       "        <th>size</th>\n",
       "        <th>atime</th>\n",
       "    </tr>\n",
       "    <tr>\n",
       "        <td>/scratch/id/usr116/lustre-troubles.tar.bz2</td>\n",
       "        <td>62544031</td>\n",
       "        <td>1380982306</td>\n",
       "    </tr>\n",
       "    <tr>\n",
       "        <td>/scratch/iftp/usr264/sphydro/histo.txt</td>\n",
       "        <td>2920600</td>\n",
       "        <td>1343034189</td>\n",
       "    </tr>\n",
       "    <tr>\n",
       "        <td>/scratch/iftp/usr264/box/map1.txt</td>\n",
       "        <td>19138048</td>\n",
       "        <td>1335441653</td>\n",
       "    </tr>\n",
       "    <tr>\n",
       "        <td>/scratch/aim/usr345/bams/recal/PA_A947.calibrations.grp</td>\n",
       "        <td>5414305</td>\n",
       "        <td>1393370100</td>\n",
       "    </tr>\n",
       "    <tr>\n",
       "        <td>/scratch/aim/usr345/psmc/psmc/reheadered_mbq20/PP_KB5543_reheadered_cleaned_raw.psmcfa</td>\n",
       "        <td>21826828</td>\n",
       "        <td>1388814502</td>\n",
       "    </tr>\n",
       "</table>"
      ],
      "text/plain": [
       "[(u'/scratch/id/usr116/lustre-troubles.tar.bz2', 62544031L, 1380982306L),\n",
       " (u'/scratch/iftp/usr264/sphydro/histo.txt', 2920600L, 1343034189L),\n",
       " (u'/scratch/iftp/usr264/box/map1.txt', 19138048L, 1335441653L),\n",
       " (u'/scratch/aim/usr345/bams/recal/PA_A947.calibrations.grp', 5414305L, 1393370100L),\n",
       " (u'/scratch/aim/usr345/psmc/psmc/reheadered_mbq20/PP_KB5543_reheadered_cleaned_raw.psmcfa', 21826828L, 1388814502L)]"
      ]
     },
     "execution_count": 58,
     "metadata": {},
     "output_type": "execute_result"
    }
   ],
   "source": [
    "%%sql\n",
    "\n",
    "----------------------------------------------------------------------------\n",
    "-- copy only 1 column from some other table into a table with existing rows\n",
    "----------------------------------------------------------------------------\n",
    "\n",
    "-- first, create some table\n",
    "create temporary table someTable(\n",
    "            path varchar(256),\n",
    "            size bigint);\n",
    "\n",
    "\n",
    "-- give it some values\n",
    "insert into someTable (path, size)\n",
    "select path,size from lustre_sample\n",
    "where size>1000000;\n",
    "\n",
    "\n",
    "-- add column\n",
    "alter table someTable add atime bigint;\n",
    "\n",
    "\n",
    "-- populate additional column\n",
    "update someTable\n",
    "set atime=orig.atime from lustre_sample as orig\n",
    "where someTable.path=orig.path;\n",
    "\n",
    "--print\n",
    "select * from someTable limit 5\n"
   ]
  },
  {
   "cell_type": "code",
   "execution_count": 57,
   "metadata": {
    "collapsed": false
   },
   "outputs": [
    {
     "name": "stdout",
     "output_type": "stream",
     "text": [
      "Done.\n"
     ]
    },
    {
     "data": {
      "text/plain": [
       "[]"
      ]
     },
     "execution_count": 57,
     "metadata": {},
     "output_type": "execute_result"
    }
   ],
   "source": [
    "%sql drop table sometable"
   ]
  },
  {
   "cell_type": "code",
   "execution_count": null,
   "metadata": {
    "collapsed": true
   },
   "outputs": [],
   "source": []
  },
  {
   "cell_type": "code",
   "execution_count": null,
   "metadata": {
    "collapsed": true
   },
   "outputs": [],
   "source": []
  },
  {
   "cell_type": "code",
   "execution_count": null,
   "metadata": {
    "collapsed": true
   },
   "outputs": [],
   "source": []
  },
  {
   "cell_type": "code",
   "execution_count": null,
   "metadata": {
    "collapsed": true
   },
   "outputs": [],
   "source": []
  },
  {
   "cell_type": "code",
   "execution_count": null,
   "metadata": {
    "collapsed": true
   },
   "outputs": [],
   "source": []
  },
  {
   "cell_type": "code",
   "execution_count": null,
   "metadata": {
    "collapsed": true
   },
   "outputs": [],
   "source": []
  },
  {
   "cell_type": "code",
   "execution_count": null,
   "metadata": {
    "collapsed": true
   },
   "outputs": [],
   "source": []
  },
  {
   "cell_type": "code",
   "execution_count": null,
   "metadata": {
    "collapsed": true
   },
   "outputs": [],
   "source": []
  },
  {
   "cell_type": "code",
   "execution_count": null,
   "metadata": {
    "collapsed": true
   },
   "outputs": [],
   "source": []
  },
  {
   "cell_type": "code",
   "execution_count": null,
   "metadata": {
    "collapsed": true
   },
   "outputs": [],
   "source": []
  },
  {
   "cell_type": "code",
   "execution_count": null,
   "metadata": {
    "collapsed": true
   },
   "outputs": [],
   "source": []
  },
  {
   "cell_type": "code",
   "execution_count": null,
   "metadata": {
    "collapsed": false
   },
   "outputs": [],
   "source": []
  },
  {
   "cell_type": "code",
   "execution_count": null,
   "metadata": {
    "collapsed": true
   },
   "outputs": [],
   "source": []
  },
  {
   "cell_type": "code",
   "execution_count": null,
   "metadata": {
    "collapsed": true
   },
   "outputs": [],
   "source": []
  },
  {
   "cell_type": "markdown",
   "metadata": {},
   "source": [
    "# Miscelanneous Notes\n",
    "\n",
    "* Each table in a SQL database is given a name (at creation time)."
   ]
  },
  {
   "cell_type": "code",
   "execution_count": null,
   "metadata": {
    "collapsed": true
   },
   "outputs": [],
   "source": []
  }
 ],
 "metadata": {
  "kernelspec": {
   "display_name": "Python 2",
   "language": "python",
   "name": "python2"
  },
  "language_info": {
   "codemirror_mode": {
    "name": "ipython",
    "version": 2
   },
   "file_extension": ".py",
   "mimetype": "text/x-python",
   "name": "python",
   "nbconvert_exporter": "python",
   "pygments_lexer": "ipython2",
   "version": "2.7.13"
  }
 },
 "nbformat": 4,
 "nbformat_minor": 2
}
