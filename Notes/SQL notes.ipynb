{
 "cells": [
  {
   "cell_type": "markdown",
   "metadata": {},
   "source": [
    "# SQL NOTES"
   ]
  },
  {
   "cell_type": "markdown",
   "metadata": {},
   "source": [
    "The ESC403 cluster comes with [Catherine Devlin's `%sql`-magic for IPython][1]; this allows you to run SQL queries from the IPython notebook, and intermix them with Python code.\n",
    "\n",
    "[1]: https://github.com/catherinedevlin/ipython-sql"
   ]
  },
  {
   "cell_type": "markdown",
   "metadata": {},
   "source": [
    "Before we can use the `%sql` syntax, two steps must be taken:\n",
    "\n",
    "* Load the IPython-SQL bridge code"
   ]
  },
  {
   "cell_type": "code",
   "execution_count": 2,
   "metadata": {
    "collapsed": false
   },
   "outputs": [],
   "source": [
    "%load_ext sql\n"
   ]
  },
  {
   "cell_type": "markdown",
   "metadata": {},
   "source": [
    "* Connect to an actual database; this must be the first `%sql` statement (the funny `rmurri@/lustre` syntax is correct and means \"connect to the PostGreSQL DB named `lustre` running on *this* host as user `rmurri`\"  -- please replace `rmurri` with your local user name):"
   ]
  },
  {
   "cell_type": "code",
   "execution_count": 3,
   "metadata": {
    "collapsed": false
   },
   "outputs": [
    {
     "data": {
      "text/plain": [
       "u'Connected: mivkov@lustre'"
      ]
     },
     "execution_count": 3,
     "metadata": {},
     "output_type": "execute_result"
    }
   ],
   "source": [
    "%sql postgresql://mivkov@/lustre\n"
   ]
  },
  {
   "cell_type": "markdown",
   "metadata": {},
   "source": [
    "Now you can run 1-line SQL queries by prefixing them with `%sql`:"
   ]
  },
  {
   "cell_type": "code",
   "execution_count": 56,
   "metadata": {
    "collapsed": false
   },
   "outputs": [
    {
     "name": "stdout",
     "output_type": "stream",
     "text": [
      "5 rows affected.\n"
     ]
    },
    {
     "data": {
      "text/html": [
       "<table>\n",
       "    <tr>\n",
       "        <th>usr</th>\n",
       "        <th>grp</th>\n",
       "        <th>atime</th>\n",
       "        <th>mtime</th>\n",
       "        <th>blksize</th>\n",
       "        <th>size</th>\n",
       "        <th>path</th>\n",
       "    </tr>\n",
       "    <tr>\n",
       "        <td>usr388</td>\n",
       "        <td>i5105</td>\n",
       "        <td>1384455829</td>\n",
       "        <td>1384455829</td>\n",
       "        <td>4</td>\n",
       "        <td>1653</td>\n",
       "        <td>/scratch/bioc/usr388/VS_AllNow_libo_3WAT/ledock_pose/LIBO00323201_dock009.pdb</td>\n",
       "    </tr>\n",
       "    <tr>\n",
       "        <td>usr388</td>\n",
       "        <td>i5105</td>\n",
       "        <td>1384453069</td>\n",
       "        <td>1384453069</td>\n",
       "        <td>4</td>\n",
       "        <td>1378</td>\n",
       "        <td>/scratch/bioc/usr388/VS_AllNow_libo_3WAT/ledock_pose/LIBO00195993_dock004.pdb</td>\n",
       "    </tr>\n",
       "    <tr>\n",
       "        <td>usr388</td>\n",
       "        <td>i5105</td>\n",
       "        <td>1384454883</td>\n",
       "        <td>1384454883</td>\n",
       "        <td>4</td>\n",
       "        <td>2038</td>\n",
       "        <td>/scratch/bioc/usr388/VS_AllNow_libo_3WAT/ledock_pose/LIBO00271731_dock012.pdb</td>\n",
       "    </tr>\n",
       "    <tr>\n",
       "        <td>usr388</td>\n",
       "        <td>i5105</td>\n",
       "        <td>1384450216</td>\n",
       "        <td>1384450216</td>\n",
       "        <td>4</td>\n",
       "        <td>1873</td>\n",
       "        <td>/scratch/bioc/usr388/VS_AllNow_libo_3WAT/ledock_pose/LIBO00107714_dock008.pdb</td>\n",
       "    </tr>\n",
       "    <tr>\n",
       "        <td>usr388</td>\n",
       "        <td>i5105</td>\n",
       "        <td>1384457084</td>\n",
       "        <td>1384457084</td>\n",
       "        <td>4</td>\n",
       "        <td>1873</td>\n",
       "        <td>/scratch/bioc/usr388/VS_AllNow_libo_3WAT/ledock_pose/LIBO00369091_dock017.pdb</td>\n",
       "    </tr>\n",
       "</table>"
      ],
      "text/plain": [
       "[(u'usr388', u'i5105', 1384455829, 1384455829, 4, 1653L, u'/scratch/bioc/usr388/VS_AllNow_libo_3WAT/ledock_pose/LIBO00323201_dock009.pdb'),\n",
       " (u'usr388', u'i5105', 1384453069, 1384453069, 4, 1378L, u'/scratch/bioc/usr388/VS_AllNow_libo_3WAT/ledock_pose/LIBO00195993_dock004.pdb'),\n",
       " (u'usr388', u'i5105', 1384454883, 1384454883, 4, 2038L, u'/scratch/bioc/usr388/VS_AllNow_libo_3WAT/ledock_pose/LIBO00271731_dock012.pdb'),\n",
       " (u'usr388', u'i5105', 1384450216, 1384450216, 4, 1873L, u'/scratch/bioc/usr388/VS_AllNow_libo_3WAT/ledock_pose/LIBO00107714_dock008.pdb'),\n",
       " (u'usr388', u'i5105', 1384457084, 1384457084, 4, 1873L, u'/scratch/bioc/usr388/VS_AllNow_libo_3WAT/ledock_pose/LIBO00369091_dock017.pdb')]"
      ]
     },
     "execution_count": 56,
     "metadata": {},
     "output_type": "execute_result"
    }
   ],
   "source": [
    "%sql select * from lustre limit 5;"
   ]
  },
  {
   "cell_type": "markdown",
   "metadata": {},
   "source": [
    "It is also possible to run multi-line (or multiple) SQL queries by using the `%%sql` syntax instead.  Note that in this case the SQL instructions *must not* be on the same line as the `%%sql` magic marker:"
   ]
  },
  {
   "cell_type": "markdown",
   "metadata": {},
   "source": [
    "## Selection\n"
   ]
  },
  {
   "cell_type": "markdown",
   "metadata": {},
   "source": [
    "The SELECT statement is used to compute expressions in SQL. The result of evaluating a SELECT statement is again a relation (table). It allows composition of queries into larger expressions."
   ]
  },
  {
   "cell_type": "code",
   "execution_count": 58,
   "metadata": {
    "collapsed": false
   },
   "outputs": [
    {
     "name": "stdout",
     "output_type": "stream",
     "text": [
      "1 rows affected.\n"
     ]
    },
    {
     "data": {
      "text/html": [
       "<table>\n",
       "    <tr>\n",
       "        <th>?column?</th>\n",
       "    </tr>\n",
       "    <tr>\n",
       "        <td>something</td>\n",
       "    </tr>\n",
       "</table>"
      ],
      "text/plain": [
       "[('something',)]"
      ]
     },
     "execution_count": 58,
     "metadata": {},
     "output_type": "execute_result"
    }
   ],
   "source": [
    "# Strings: single quotes\n",
    "%sql select 'something' "
   ]
  },
  {
   "cell_type": "code",
   "execution_count": 59,
   "metadata": {
    "collapsed": false
   },
   "outputs": [
    {
     "name": "stdout",
     "output_type": "stream",
     "text": [
      "1 rows affected.\n"
     ]
    },
    {
     "data": {
      "text/html": [
       "<table>\n",
       "    <tr>\n",
       "        <th>column name</th>\n",
       "    </tr>\n",
       "    <tr>\n",
       "        <td>some string</td>\n",
       "    </tr>\n",
       "</table>"
      ],
      "text/plain": [
       "[('some string',)]"
      ]
     },
     "execution_count": 59,
     "metadata": {},
     "output_type": "execute_result"
    }
   ],
   "source": [
    "%sql select 'some string' as \"column name\""
   ]
  },
  {
   "cell_type": "markdown",
   "metadata": {},
   "source": [
    "Multiple expressions can be evaluated by separating them with a comma. They define different columns in the result table."
   ]
  },
  {
   "cell_type": "code",
   "execution_count": 60,
   "metadata": {
    "collapsed": false,
    "scrolled": true
   },
   "outputs": [
    {
     "name": "stdout",
     "output_type": "stream",
     "text": [
      "1 rows affected.\n"
     ]
    },
    {
     "data": {
      "text/html": [
       "<table>\n",
       "    <tr>\n",
       "        <th>?column?</th>\n",
       "        <th>?column?_1</th>\n",
       "    </tr>\n",
       "    <tr>\n",
       "        <td>foo</td>\n",
       "        <td>bar</td>\n",
       "    </tr>\n",
       "</table>"
      ],
      "text/plain": [
       "[('foo', 'bar')]"
      ]
     },
     "execution_count": 60,
     "metadata": {},
     "output_type": "execute_result"
    }
   ],
   "source": [
    "%sql select 'foo', 'bar' "
   ]
  },
  {
   "cell_type": "code",
   "execution_count": 61,
   "metadata": {
    "collapsed": false,
    "scrolled": true
   },
   "outputs": [],
   "source": [
    "# select from a database\n",
    "%sql select * from lustre_sample ;"
   ]
  },
  {
   "cell_type": "markdown",
   "metadata": {},
   "source": [
    "SELECT ... FROM ... WHERE returns a relation of all rows in a table that satisfy a certain predicate.\n",
    "\n",
    "\\* is a shorthand for “all column names”.\n",
    "limit INT shows only the (first) INT columns."
   ]
  },
  {
   "cell_type": "code",
   "execution_count": 4,
   "metadata": {
    "collapsed": false
   },
   "outputs": [
    {
     "name": "stdout",
     "output_type": "stream",
     "text": [
      "3 rows affected.\n"
     ]
    },
    {
     "data": {
      "text/html": [
       "<table>\n",
       "    <tr>\n",
       "        <th>usr</th>\n",
       "        <th>grp</th>\n",
       "        <th>atime</th>\n",
       "        <th>mtime</th>\n",
       "        <th>blksize</th>\n",
       "        <th>size</th>\n",
       "        <th>path</th>\n",
       "    </tr>\n",
       "    <tr>\n",
       "        <td>usr388</td>\n",
       "        <td>i5105</td>\n",
       "        <td>1384794403</td>\n",
       "        <td>1384794403</td>\n",
       "        <td>4</td>\n",
       "        <td>1485</td>\n",
       "        <td>/scratch/bioc/usr388/SEED_HBF/PDB_frag/ZINC00064449_frag_0_seed_3.pdb</td>\n",
       "    </tr>\n",
       "    <tr>\n",
       "        <td>usr388</td>\n",
       "        <td>i5105</td>\n",
       "        <td>1384794033</td>\n",
       "        <td>1384794033</td>\n",
       "        <td>4</td>\n",
       "        <td>1540</td>\n",
       "        <td>/scratch/bioc/usr388/SEED_HBF/PDB_frag/ZINC00452805_frag_0_seed_2.pdb</td>\n",
       "    </tr>\n",
       "    <tr>\n",
       "        <td>usr388</td>\n",
       "        <td>i5105</td>\n",
       "        <td>1384792540</td>\n",
       "        <td>1384792540</td>\n",
       "        <td>4</td>\n",
       "        <td>1265</td>\n",
       "        <td>/scratch/bioc/usr388/SEED_HBF/PDB_frag/ZINC00134003_frag_0_seed_2.pdb</td>\n",
       "    </tr>\n",
       "</table>"
      ],
      "text/plain": [
       "[(u'usr388', u'i5105', 1384794403, 1384794403, 4, 1485L, u'/scratch/bioc/usr388/SEED_HBF/PDB_frag/ZINC00064449_frag_0_seed_3.pdb'),\n",
       " (u'usr388', u'i5105', 1384794033, 1384794033, 4, 1540L, u'/scratch/bioc/usr388/SEED_HBF/PDB_frag/ZINC00452805_frag_0_seed_2.pdb'),\n",
       " (u'usr388', u'i5105', 1384792540, 1384792540, 4, 1265L, u'/scratch/bioc/usr388/SEED_HBF/PDB_frag/ZINC00134003_frag_0_seed_2.pdb')]"
      ]
     },
     "execution_count": 4,
     "metadata": {},
     "output_type": "execute_result"
    }
   ],
   "source": [
    "%%sql\n",
    "\n",
    "/* comments are done this way. */\n",
    "/* must be after %%sql */\n",
    "-- or like this\n",
    "\n",
    "/* limit the number of rows printed */\n",
    "\n",
    "select * \n",
    "from lustre_sample\n",
    "limit 3"
   ]
  },
  {
   "cell_type": "code",
   "execution_count": 123,
   "metadata": {
    "collapsed": false
   },
   "outputs": [
    {
     "name": "stdout",
     "output_type": "stream",
     "text": [
      "3 rows affected.\n"
     ]
    },
    {
     "data": {
      "text/html": [
       "<table>\n",
       "    <tr>\n",
       "        <th>usr</th>\n",
       "        <th>grp</th>\n",
       "        <th>atime</th>\n",
       "        <th>mtime</th>\n",
       "        <th>blksize</th>\n",
       "        <th>size</th>\n",
       "        <th>path</th>\n",
       "    </tr>\n",
       "    <tr>\n",
       "        <td>usr388</td>\n",
       "        <td>i5105</td>\n",
       "        <td>1384515907</td>\n",
       "        <td>1384515907</td>\n",
       "        <td>4</td>\n",
       "        <td>1488</td>\n",
       "        <td>/scratch/bioc/usr388/VS_AllNow_libo_3WAT_end/d353/LIBO00362035_dock002.pdb</td>\n",
       "    </tr>\n",
       "    <tr>\n",
       "        <td>usr388</td>\n",
       "        <td>i5105</td>\n",
       "        <td>1384515910</td>\n",
       "        <td>1384515910</td>\n",
       "        <td>4</td>\n",
       "        <td>2313</td>\n",
       "        <td>/scratch/bioc/usr388/VS_AllNow_libo_3WAT_end/d353/LIBO00362130_dock006.pdb</td>\n",
       "    </tr>\n",
       "    <tr>\n",
       "        <td>usr388</td>\n",
       "        <td>i5105</td>\n",
       "        <td>1384515910</td>\n",
       "        <td>1384515910</td>\n",
       "        <td>4</td>\n",
       "        <td>1488</td>\n",
       "        <td>/scratch/bioc/usr388/VS_AllNow_libo_3WAT_end/d353/LIBO00362156_dock007.pdb</td>\n",
       "    </tr>\n",
       "</table>"
      ],
      "text/plain": [
       "[(u'usr388', u'i5105', 1384515907, 1384515907, 4, 1488L, u'/scratch/bioc/usr388/VS_AllNow_libo_3WAT_end/d353/LIBO00362035_dock002.pdb'),\n",
       " (u'usr388', u'i5105', 1384515910, 1384515910, 4, 2313L, u'/scratch/bioc/usr388/VS_AllNow_libo_3WAT_end/d353/LIBO00362130_dock006.pdb'),\n",
       " (u'usr388', u'i5105', 1384515910, 1384515910, 4, 1488L, u'/scratch/bioc/usr388/VS_AllNow_libo_3WAT_end/d353/LIBO00362156_dock007.pdb')]"
      ]
     },
     "execution_count": 123,
     "metadata": {},
     "output_type": "execute_result"
    }
   ],
   "source": [
    "%%sql \n",
    "select * \n",
    "from lustre_sample \n",
    "where usr='usr388'\n",
    "limit 3"
   ]
  },
  {
   "cell_type": "code",
   "execution_count": 125,
   "metadata": {
    "collapsed": false
   },
   "outputs": [
    {
     "name": "stdout",
     "output_type": "stream",
     "text": [
      "3 rows affected.\n"
     ]
    },
    {
     "data": {
      "text/html": [
       "<table>\n",
       "    <tr>\n",
       "        <th>usr</th>\n",
       "        <th>grp</th>\n",
       "        <th>atime</th>\n",
       "        <th>mtime</th>\n",
       "        <th>blksize</th>\n",
       "        <th>size</th>\n",
       "        <th>path</th>\n",
       "    </tr>\n",
       "    <tr>\n",
       "        <td>usr345</td>\n",
       "        <td>i5535</td>\n",
       "        <td>1386878807</td>\n",
       "        <td>1386905916</td>\n",
       "        <td>111291280</td>\n",
       "        <td>113962044756</td>\n",
       "        <td>/scratch/aim/usr345/bams/cleaned/recal/PA_A948_recal_cleaned.bam</td>\n",
       "    </tr>\n",
       "    <tr>\n",
       "        <td>usr345</td>\n",
       "        <td>i5535</td>\n",
       "        <td>1386875748</td>\n",
       "        <td>1386908639</td>\n",
       "        <td>134411624</td>\n",
       "        <td>137637131306</td>\n",
       "        <td>/scratch/aim/usr345/bams/cleaned/recal/PA_A950_recal_cleaned.bam</td>\n",
       "    </tr>\n",
       "    <tr>\n",
       "        <td>usr345</td>\n",
       "        <td>i5535</td>\n",
       "        <td>1393549454</td>\n",
       "        <td>1392933763</td>\n",
       "        <td>155772348</td>\n",
       "        <td>159510486088</td>\n",
       "        <td>/scratch/aim/usr345/bams/recal/PA_A950_recal.bam</td>\n",
       "    </tr>\n",
       "</table>"
      ],
      "text/plain": [
       "[(u'usr345', u'i5535', 1386878807, 1386905916, 111291280, 113962044756L, u'/scratch/aim/usr345/bams/cleaned/recal/PA_A948_recal_cleaned.bam'),\n",
       " (u'usr345', u'i5535', 1386875748, 1386908639, 134411624, 137637131306L, u'/scratch/aim/usr345/bams/cleaned/recal/PA_A950_recal_cleaned.bam'),\n",
       " (u'usr345', u'i5535', 1393549454, 1392933763, 155772348, 159510486088L, u'/scratch/aim/usr345/bams/recal/PA_A950_recal.bam')]"
      ]
     },
     "execution_count": 125,
     "metadata": {},
     "output_type": "execute_result"
    }
   ],
   "source": [
    "%%sql \n",
    "select * \n",
    "from lustre_sample \n",
    "where size>=100000000000\n",
    "limit 3"
   ]
  },
  {
   "cell_type": "code",
   "execution_count": 126,
   "metadata": {
    "collapsed": false
   },
   "outputs": [
    {
     "name": "stdout",
     "output_type": "stream",
     "text": [
      "3 rows affected.\n"
     ]
    },
    {
     "data": {
      "text/html": [
       "<table>\n",
       "    <tr>\n",
       "        <th>usr</th>\n",
       "        <th>grp</th>\n",
       "        <th>atime</th>\n",
       "        <th>mtime</th>\n",
       "        <th>blksize</th>\n",
       "        <th>size</th>\n",
       "        <th>path</th>\n",
       "    </tr>\n",
       "    <tr>\n",
       "        <td>usr345</td>\n",
       "        <td>i5535</td>\n",
       "        <td>1391658149</td>\n",
       "        <td>1391658149</td>\n",
       "        <td>4</td>\n",
       "        <td>773</td>\n",
       "        <td>/scratch/aim/usr345/bwa/output_phase2/PA_A964/C00W1ABXX_F_6_sorted_marked_realigned_fastqc/summary.txt</td>\n",
       "    </tr>\n",
       "    <tr>\n",
       "        <td>usr345</td>\n",
       "        <td>i5535</td>\n",
       "        <td>1391651630</td>\n",
       "        <td>1391651630</td>\n",
       "        <td>4</td>\n",
       "        <td>773</td>\n",
       "        <td>/scratch/aim/usr345/bwa/output_phase2/PP_A942/81MD6ABXX_E_4_sorted_marked_realigned_fastqc/summary.txt</td>\n",
       "    </tr>\n",
       "    <tr>\n",
       "        <td>usr345</td>\n",
       "        <td>i5535</td>\n",
       "        <td>1391666264</td>\n",
       "        <td>1391666264</td>\n",
       "        <td>4</td>\n",
       "        <td>773</td>\n",
       "        <td>/scratch/aim/usr345/bwa/output_phase2/PP_A942/C002LABXX_F_3_sorted_marked_realigned_fastqc/summary.txt</td>\n",
       "    </tr>\n",
       "</table>"
      ],
      "text/plain": [
       "[(u'usr345', u'i5535', 1391658149, 1391658149, 4, 773L, u'/scratch/aim/usr345/bwa/output_phase2/PA_A964/C00W1ABXX_F_6_sorted_marked_realigned_fastqc/summary.txt'),\n",
       " (u'usr345', u'i5535', 1391651630, 1391651630, 4, 773L, u'/scratch/aim/usr345/bwa/output_phase2/PP_A942/81MD6ABXX_E_4_sorted_marked_realigned_fastqc/summary.txt'),\n",
       " (u'usr345', u'i5535', 1391666264, 1391666264, 4, 773L, u'/scratch/aim/usr345/bwa/output_phase2/PP_A942/C002LABXX_F_3_sorted_marked_realigned_fastqc/summary.txt')]"
      ]
     },
     "execution_count": 126,
     "metadata": {},
     "output_type": "execute_result"
    }
   ],
   "source": [
    "%%sql\n",
    "select *\n",
    "from lustre_sample\n",
    "where length(path) = 102\n",
    "limit 3"
   ]
  },
  {
   "cell_type": "code",
   "execution_count": 116,
   "metadata": {
    "collapsed": false
   },
   "outputs": [
    {
     "name": "stdout",
     "output_type": "stream",
     "text": [
      "3 rows affected.\n"
     ]
    },
    {
     "data": {
      "text/html": [
       "<table>\n",
       "    <tr>\n",
       "        <th>usr</th>\n",
       "        <th>size</th>\n",
       "    </tr>\n",
       "    <tr>\n",
       "        <td>usr264</td>\n",
       "        <td>10942224</td>\n",
       "    </tr>\n",
       "    <tr>\n",
       "        <td>usr264</td>\n",
       "        <td>6827216</td>\n",
       "    </tr>\n",
       "    <tr>\n",
       "        <td>usr264</td>\n",
       "        <td>13142380</td>\n",
       "    </tr>\n",
       "</table>"
      ],
      "text/plain": [
       "[(u'usr264', 10942224L), (u'usr264', 6827216L), (u'usr264', 13142380L)]"
      ]
     },
     "execution_count": 116,
     "metadata": {},
     "output_type": "execute_result"
    }
   ],
   "source": [
    "%%sql\n",
    "\n",
    "/* select only certain columns */\n",
    "\n",
    "select usr,size\n",
    "from lustre_sample\n",
    "limit 3"
   ]
  },
  {
   "cell_type": "code",
   "execution_count": 128,
   "metadata": {
    "collapsed": false
   },
   "outputs": [
    {
     "name": "stdout",
     "output_type": "stream",
     "text": [
      "3 rows affected.\n"
     ]
    },
    {
     "data": {
      "text/html": [
       "<table>\n",
       "    <tr>\n",
       "        <th>usr</th>\n",
       "    </tr>\n",
       "    <tr>\n",
       "        <td>usr25</td>\n",
       "    </tr>\n",
       "    <tr>\n",
       "        <td>usr324</td>\n",
       "    </tr>\n",
       "    <tr>\n",
       "        <td>usr234</td>\n",
       "    </tr>\n",
       "</table>"
      ],
      "text/plain": [
       "[(u'usr25',), (u'usr324',), (u'usr234',)]"
      ]
     },
     "execution_count": 128,
     "metadata": {},
     "output_type": "execute_result"
    }
   ],
   "source": [
    "%%sql\n",
    "\n",
    "/*select only unique rows*/\n",
    "\n",
    "select distinct usr\n",
    "from lustre_sample\n",
    "limit 3\n"
   ]
  },
  {
   "cell_type": "code",
   "execution_count": 127,
   "metadata": {
    "collapsed": false
   },
   "outputs": [
    {
     "name": "stdout",
     "output_type": "stream",
     "text": [
      "3 rows affected.\n"
     ]
    },
    {
     "data": {
      "text/html": [
       "<table>\n",
       "    <tr>\n",
       "        <th>usr</th>\n",
       "        <th>size</th>\n",
       "    </tr>\n",
       "    <tr>\n",
       "        <td>us293</td>\n",
       "        <td>258</td>\n",
       "    </tr>\n",
       "    <tr>\n",
       "        <td>us293</td>\n",
       "        <td>260</td>\n",
       "    </tr>\n",
       "    <tr>\n",
       "        <td>us293</td>\n",
       "        <td>261</td>\n",
       "    </tr>\n",
       "</table>"
      ],
      "text/plain": [
       "[(u'us293', 258L), (u'us293', 260L), (u'us293', 261L)]"
      ]
     },
     "execution_count": 127,
     "metadata": {},
     "output_type": "execute_result"
    }
   ],
   "source": [
    "%%sql\n",
    "\n",
    "/*select only unique rows*/\n",
    "\n",
    "select distinct usr,size\n",
    "from lustre_sample\n",
    "limit 3\n"
   ]
  },
  {
   "cell_type": "markdown",
   "metadata": {},
   "source": [
    "## Ordering"
   ]
  },
  {
   "cell_type": "code",
   "execution_count": 134,
   "metadata": {
    "collapsed": false
   },
   "outputs": [
    {
     "name": "stdout",
     "output_type": "stream",
     "text": [
      "3 rows affected.\n"
     ]
    },
    {
     "data": {
      "text/html": [
       "<table>\n",
       "    <tr>\n",
       "        <th>usr</th>\n",
       "    </tr>\n",
       "    <tr>\n",
       "        <td>us293</td>\n",
       "    </tr>\n",
       "    <tr>\n",
       "        <td>us319</td>\n",
       "    </tr>\n",
       "    <tr>\n",
       "        <td>us320</td>\n",
       "    </tr>\n",
       "</table>"
      ],
      "text/plain": [
       "[(u'us293',), (u'us319',), (u'us320',)]"
      ]
     },
     "execution_count": 134,
     "metadata": {},
     "output_type": "execute_result"
    }
   ],
   "source": [
    "%%sql\n",
    "select distinct usr\n",
    "from lustre_sample\n",
    "order by usr asc\n",
    "/* order by column usr, ascending */\n",
    "limit 3"
   ]
  },
  {
   "cell_type": "code",
   "execution_count": 136,
   "metadata": {
    "collapsed": false
   },
   "outputs": [
    {
     "name": "stdout",
     "output_type": "stream",
     "text": [
      "3 rows affected.\n"
     ]
    },
    {
     "data": {
      "text/html": [
       "<table>\n",
       "    <tr>\n",
       "        <th>usr</th>\n",
       "    </tr>\n",
       "    <tr>\n",
       "        <td>usr75</td>\n",
       "    </tr>\n",
       "    <tr>\n",
       "        <td>usr394</td>\n",
       "    </tr>\n",
       "    <tr>\n",
       "        <td>usr390</td>\n",
       "    </tr>\n",
       "</table>"
      ],
      "text/plain": [
       "[(u'usr75',), (u'usr394',), (u'usr390',)]"
      ]
     },
     "execution_count": 136,
     "metadata": {},
     "output_type": "execute_result"
    }
   ],
   "source": [
    "%%sql\n",
    "select distinct usr\n",
    "from lustre_sample\n",
    "order by usr desc\n",
    "/* order by column usr, descending */\n",
    "limit 3"
   ]
  },
  {
   "cell_type": "markdown",
   "metadata": {},
   "source": [
    "## Aggregate functions\n",
    "\n",
    "By default, aggregation is over all selected rows. \n",
    "\n",
    "A GROUP BY clause can be used to specify how rows should be grouped; expressions involving aggregate functions will be computed once per each group.\n",
    "\n",
    "An additional HAVING clause applies a predicate to further select groups based on some expression."
   ]
  },
  {
   "cell_type": "code",
   "execution_count": 138,
   "metadata": {
    "collapsed": false
   },
   "outputs": [
    {
     "name": "stdout",
     "output_type": "stream",
     "text": [
      "1 rows affected.\n"
     ]
    },
    {
     "data": {
      "text/html": [
       "<table>\n",
       "    <tr>\n",
       "        <th>avg</th>\n",
       "    </tr>\n",
       "    <tr>\n",
       "        <td>5170994.219224082372</td>\n",
       "    </tr>\n",
       "</table>"
      ],
      "text/plain": [
       "[(Decimal('5170994.219224082372'),)]"
      ]
     },
     "execution_count": 138,
     "metadata": {},
     "output_type": "execute_result"
    }
   ],
   "source": [
    "# average\n",
    "%sql select avg(size) from lustre_sample"
   ]
  },
  {
   "cell_type": "code",
   "execution_count": 139,
   "metadata": {
    "collapsed": false
   },
   "outputs": [
    {
     "name": "stdout",
     "output_type": "stream",
     "text": [
      "1 rows affected.\n"
     ]
    },
    {
     "data": {
      "text/html": [
       "<table>\n",
       "    <tr>\n",
       "        <th>max</th>\n",
       "    </tr>\n",
       "    <tr>\n",
       "        <td>346124300004</td>\n",
       "    </tr>\n",
       "</table>"
      ],
      "text/plain": [
       "[(346124300004L,)]"
      ]
     },
     "execution_count": 139,
     "metadata": {},
     "output_type": "execute_result"
    }
   ],
   "source": [
    "# max\n",
    "%sql select max(size) from lustre_sample"
   ]
  },
  {
   "cell_type": "code",
   "execution_count": 140,
   "metadata": {
    "collapsed": false
   },
   "outputs": [
    {
     "name": "stdout",
     "output_type": "stream",
     "text": [
      "1 rows affected.\n"
     ]
    },
    {
     "data": {
      "text/html": [
       "<table>\n",
       "    <tr>\n",
       "        <th>min</th>\n",
       "    </tr>\n",
       "    <tr>\n",
       "        <td>0</td>\n",
       "    </tr>\n",
       "</table>"
      ],
      "text/plain": [
       "[(0L,)]"
      ]
     },
     "execution_count": 140,
     "metadata": {},
     "output_type": "execute_result"
    }
   ],
   "source": [
    "# min\n",
    "%sql select min(size) from lustre_sample"
   ]
  },
  {
   "cell_type": "code",
   "execution_count": 141,
   "metadata": {
    "collapsed": false
   },
   "outputs": [
    {
     "name": "stdout",
     "output_type": "stream",
     "text": [
      "1 rows affected.\n"
     ]
    },
    {
     "data": {
      "text/html": [
       "<table>\n",
       "    <tr>\n",
       "        <th>count</th>\n",
       "    </tr>\n",
       "    <tr>\n",
       "        <td>1519053</td>\n",
       "    </tr>\n",
       "</table>"
      ],
      "text/plain": [
       "[(1519053L,)]"
      ]
     },
     "execution_count": 141,
     "metadata": {},
     "output_type": "execute_result"
    }
   ],
   "source": [
    "# count\n",
    "%sql select count(size) from lustre_sample"
   ]
  },
  {
   "cell_type": "code",
   "execution_count": 144,
   "metadata": {
    "collapsed": false
   },
   "outputs": [
    {
     "name": "stdout",
     "output_type": "stream",
     "text": [
      "3 rows affected.\n"
     ]
    },
    {
     "data": {
      "text/html": [
       "<table>\n",
       "    <tr>\n",
       "        <th>usr</th>\n",
       "        <th>avg</th>\n",
       "    </tr>\n",
       "    <tr>\n",
       "        <td>usr25</td>\n",
       "        <td>90882260.016532721010</td>\n",
       "    </tr>\n",
       "    <tr>\n",
       "        <td>usr324</td>\n",
       "        <td>1942829.153247914184</td>\n",
       "    </tr>\n",
       "    <tr>\n",
       "        <td>usr234</td>\n",
       "        <td>1336169.992317148125</td>\n",
       "    </tr>\n",
       "</table>"
      ],
      "text/plain": [
       "[(u'usr25', Decimal('90882260.016532721010')),\n",
       " (u'usr324', Decimal('1942829.153247914184')),\n",
       " (u'usr234', Decimal('1336169.992317148125'))]"
      ]
     },
     "execution_count": 144,
     "metadata": {},
     "output_type": "execute_result"
    }
   ],
   "source": [
    "%%sql \n",
    "\n",
    "/* Grouping rows together first */\n",
    "\n",
    "select usr, avg(size) \n",
    "from lustre_sample \n",
    "group by usr \n",
    "limit 3"
   ]
  },
  {
   "cell_type": "code",
   "execution_count": 145,
   "metadata": {
    "collapsed": false,
    "scrolled": true
   },
   "outputs": [
    {
     "name": "stdout",
     "output_type": "stream",
     "text": [
      "3 rows affected.\n"
     ]
    },
    {
     "data": {
      "text/html": [
       "<table>\n",
       "    <tr>\n",
       "        <th>usr</th>\n",
       "        <th>avg</th>\n",
       "    </tr>\n",
       "    <tr>\n",
       "        <td>usr324</td>\n",
       "        <td>1942829.153247914184</td>\n",
       "    </tr>\n",
       "    <tr>\n",
       "        <td>usr246</td>\n",
       "        <td>3621718.400295508274</td>\n",
       "    </tr>\n",
       "    <tr>\n",
       "        <td>usr264</td>\n",
       "        <td>21193713.232901487469</td>\n",
       "    </tr>\n",
       "</table>"
      ],
      "text/plain": [
       "[(u'usr324', Decimal('1942829.153247914184')),\n",
       " (u'usr246', Decimal('3621718.400295508274')),\n",
       " (u'usr264', Decimal('21193713.232901487469'))]"
      ]
     },
     "execution_count": 145,
     "metadata": {},
     "output_type": "execute_result"
    }
   ],
   "source": [
    "%%sql \n",
    "\n",
    "/* compute average file size per user, but only consider users that have at least 10000 files on the system */\n",
    "\n",
    "select usr, avg(size) \n",
    "from lustre_sample \n",
    "group by usr \n",
    "having count(path)>10000\n",
    "limit 3"
   ]
  },
  {
   "cell_type": "markdown",
   "metadata": {},
   "source": [
    "## Creating, deleting, altering, updating, joining tables\n"
   ]
  },
  {
   "cell_type": "code",
   "execution_count": 32,
   "metadata": {
    "collapsed": false
   },
   "outputs": [
    {
     "name": "stdout",
     "output_type": "stream",
     "text": [
      "Done.\n"
     ]
    },
    {
     "data": {
      "text/plain": [
       "[]"
      ]
     },
     "execution_count": 32,
     "metadata": {},
     "output_type": "execute_result"
    }
   ],
   "source": [
    "%%sql\n",
    "\n",
    "--------------------\n",
    "-- creating tables\n",
    "--------------------\n",
    "\n",
    "create table myMovieTable(              -- also possible: create temporary table (deleted after session)\n",
    "        title         varchar(256),     -- string of up to 256 chars, padded with spaces\n",
    "        length        bigint,           -- long integer; also integer, smallint\n",
    "        rating        float ,           -- floating point number; also real, double precision\n",
    "        release_date  date              -- date; also time, timestamp\n",
    "        )"
   ]
  },
  {
   "cell_type": "code",
   "execution_count": 33,
   "metadata": {
    "collapsed": false
   },
   "outputs": [
    {
     "name": "stdout",
     "output_type": "stream",
     "text": [
      "1 rows affected.\n",
      "1 rows affected.\n"
     ]
    },
    {
     "data": {
      "text/html": [
       "<table>\n",
       "    <tr>\n",
       "        <th>title</th>\n",
       "        <th>length</th>\n",
       "        <th>rating</th>\n",
       "        <th>release_date</th>\n",
       "    </tr>\n",
       "    <tr>\n",
       "        <td>Star Wars</td>\n",
       "        <td>124</td>\n",
       "        <td>8.7</td>\n",
       "        <td>1977-05-25</td>\n",
       "    </tr>\n",
       "</table>"
      ],
      "text/plain": [
       "[(u'Star Wars', 124L, 8.7, datetime.date(1977, 5, 25))]"
      ]
     },
     "execution_count": 33,
     "metadata": {},
     "output_type": "execute_result"
    }
   ],
   "source": [
    "%%sql\n",
    "\n",
    "-------------------------------\n",
    "-- inserting stuff into tables\n",
    "-------------------------------\n",
    "\n",
    "insert into myMovieTable(title,length,rating,release_date)\n",
    "VALUES ('Star Wars', 124, 8.7, DATE '1977-05-25');\n",
    "\n",
    "-- print table out\n",
    "\n",
    "select * from myMovieTable limit 5"
   ]
  },
  {
   "cell_type": "code",
   "execution_count": 34,
   "metadata": {
    "collapsed": false
   },
   "outputs": [
    {
     "name": "stdout",
     "output_type": "stream",
     "text": [
      "Done.\n",
      "547554 rows affected.\n",
      "5 rows affected.\n"
     ]
    },
    {
     "data": {
      "text/html": [
       "<table>\n",
       "    <tr>\n",
       "        <th>path</th>\n",
       "        <th>size</th>\n",
       "    </tr>\n",
       "    <tr>\n",
       "        <td>/scratch/bioc/usr388/test_1110/d2/outputs/polar_rec_reduc_angle.mol2</td>\n",
       "        <td>323702</td>\n",
       "    </tr>\n",
       "    <tr>\n",
       "        <td>/scratch/bioc/usr388/test_1110/d2/outputs/length_hb.gen</td>\n",
       "        <td>887452</td>\n",
       "    </tr>\n",
       "    <tr>\n",
       "        <td>/scratch/bioc/usr388/test_1110/d3/outputs/receptor_uhbd.pdb</td>\n",
       "        <td>100039</td>\n",
       "    </tr>\n",
       "    <tr>\n",
       "        <td>/scratch/bioc/usr388/test_1110/seed_allres_out/ZINC00027497_frag_0_match.mol2.out</td>\n",
       "        <td>192854</td>\n",
       "    </tr>\n",
       "    <tr>\n",
       "        <td>/scratch/bioc/usr388/test_1110/seed_allres_out/ZINC00032209_frag_1_match.mol2.out</td>\n",
       "        <td>192700</td>\n",
       "    </tr>\n",
       "</table>"
      ],
      "text/plain": [
       "[(u'/scratch/bioc/usr388/test_1110/d2/outputs/polar_rec_reduc_angle.mol2', 323702L),\n",
       " (u'/scratch/bioc/usr388/test_1110/d2/outputs/length_hb.gen', 887452L),\n",
       " (u'/scratch/bioc/usr388/test_1110/d3/outputs/receptor_uhbd.pdb', 100039L),\n",
       " (u'/scratch/bioc/usr388/test_1110/seed_allres_out/ZINC00027497_frag_0_match.mol2.out', 192854L),\n",
       " (u'/scratch/bioc/usr388/test_1110/seed_allres_out/ZINC00032209_frag_1_match.mol2.out', 192700L)]"
      ]
     },
     "execution_count": 34,
     "metadata": {},
     "output_type": "execute_result"
    }
   ],
   "source": [
    "%%sql\n",
    "\n",
    "-------------------------------------------------------------------\n",
    "-- insert stuff into table from some other table with conditions\n",
    "-------------------------------------------------------------------\n",
    "-- Here: create new table, copy file paths from lustre_sample where filezise > 10000\n",
    "\n",
    "create temporary table someTable(\n",
    "            path varchar(256),\n",
    "            size bigint);\n",
    "\n",
    "insert into someTable (path, size)\n",
    "select path,size from lustre_sample\n",
    "where size>10000;\n",
    "\n",
    "select * from someTable\n",
    "limit 5"
   ]
  },
  {
   "cell_type": "code",
   "execution_count": 36,
   "metadata": {
    "collapsed": false
   },
   "outputs": [
    {
     "name": "stdout",
     "output_type": "stream",
     "text": [
      "Done.\n",
      "Done.\n"
     ]
    },
    {
     "data": {
      "text/plain": [
       "[]"
      ]
     },
     "execution_count": 36,
     "metadata": {},
     "output_type": "execute_result"
    }
   ],
   "source": [
    "#################\n",
    "# Delete tables\n",
    "#################\n",
    "%sql drop table myMovieTable\n",
    "%sql drop table someTable"
   ]
  },
  {
   "cell_type": "code",
   "execution_count": 37,
   "metadata": {
    "collapsed": false
   },
   "outputs": [
    {
     "name": "stdout",
     "output_type": "stream",
     "text": [
      "Done.\n",
      "225610 rows affected.\n",
      "Done.\n",
      "225610 rows affected.\n"
     ]
    },
    {
     "data": {
      "text/plain": [
       "[]"
      ]
     },
     "execution_count": 37,
     "metadata": {},
     "output_type": "execute_result"
    }
   ],
   "source": [
    "%%sql\n",
    "\n",
    "----------------------------------------------------------------------------\n",
    "-- copy only 1 column from some other table into a table with existing rows\n",
    "----------------------------------------------------------------------------\n",
    "\n",
    "-- first, create some table\n",
    "create temporary table someTable(\n",
    "            path varchar(256),\n",
    "            size bigint);\n",
    "\n",
    "\n",
    "-- give it some values\n",
    "insert into someTable (path, size)\n",
    "select path,size from lustre_sample\n",
    "where size>1000000;\n",
    "\n",
    "\n",
    "-- add column\n",
    "alter table someTable add atime bigint;\n",
    "\n",
    "\n",
    "-- populate additional column\n",
    "update someTable\n",
    "set atime=orig.atime from lustre_sample as orig\n",
    "where someTable.path=orig.path;\n",
    "\n",
    "\n"
   ]
  },
  {
   "cell_type": "code",
   "execution_count": null,
   "metadata": {
    "collapsed": false
   },
   "outputs": [],
   "source": []
  },
  {
   "cell_type": "code",
   "execution_count": null,
   "metadata": {
    "collapsed": false
   },
   "outputs": [],
   "source": []
  },
  {
   "cell_type": "code",
   "execution_count": null,
   "metadata": {
    "collapsed": true
   },
   "outputs": [],
   "source": []
  },
  {
   "cell_type": "code",
   "execution_count": null,
   "metadata": {
    "collapsed": true
   },
   "outputs": [],
   "source": []
  },
  {
   "cell_type": "markdown",
   "metadata": {},
   "source": [
    "## Miscelanneous Notes\n",
    "\n",
    "* Each table in a SQL database is given a name (at creation time)."
   ]
  },
  {
   "cell_type": "code",
   "execution_count": null,
   "metadata": {
    "collapsed": true
   },
   "outputs": [],
   "source": []
  }
 ],
 "metadata": {
  "kernelspec": {
   "display_name": "Python 2",
   "language": "python",
   "name": "python2"
  },
  "language_info": {
   "codemirror_mode": {
    "name": "ipython",
    "version": 2
   },
   "file_extension": ".py",
   "mimetype": "text/x-python",
   "name": "python",
   "nbconvert_exporter": "python",
   "pygments_lexer": "ipython2",
   "version": "2.7.13"
  }
 },
 "nbformat": 4,
 "nbformat_minor": 2
}
